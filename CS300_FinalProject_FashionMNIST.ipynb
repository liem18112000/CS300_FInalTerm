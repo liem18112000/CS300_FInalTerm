{
 "cells": [
  {
   "cell_type": "markdown",
   "metadata": {
    "id": "klc4OV8xW0Tz"
   },
   "source": [
    "# CS300-Artificial Intelligence : Đồ án cuối kì\n",
    "\n",
    "---\n",
    "\n"
   ]
  },
  {
   "cell_type": "markdown",
   "metadata": {
    "id": "d3Lnem3NXEFi"
   },
   "source": [
    "## I. Sơ lược về đồ án"
   ]
  },
  {
   "cell_type": "markdown",
   "metadata": {
    "id": "BJucUjymX7fJ"
   },
   "source": [
    "### 1. Yêu cầu bài toán"
   ]
  },
  {
   "cell_type": "markdown",
   "metadata": {
    "id": "9TX2T9WoX_Jx"
   },
   "source": [
    "### 2. Dữ liệu huấn luyện"
   ]
  },
  {
   "cell_type": "markdown",
   "metadata": {
    "id": "Z8XdqpF0XQS0"
   },
   "source": [
    "## II. Thành phần nhóm đồ án"
   ]
  },
  {
   "cell_type": "markdown",
   "metadata": {
    "id": "Qn2s2TO4YINv"
   },
   "source": [
    "### 1. Bảng thông tin thành viên nhóm"
   ]
  },
  {
   "cell_type": "markdown",
   "metadata": {
    "id": "1CYSsN4AYP8p"
   },
   "source": [
    "### 2. Bảng phân công nhiệm vụ thực hiện"
   ]
  },
  {
   "cell_type": "markdown",
   "metadata": {
    "id": "lZM76J0-XX7V"
   },
   "source": [
    "## III. Các phương pháp giải quyết bài toán"
   ]
  },
  {
   "cell_type": "markdown",
   "metadata": {
    "id": "gdI-KuLZYibB"
   },
   "source": [
    "### 1. Tự thêm vào"
   ]
  },
  {
   "cell_type": "markdown",
   "metadata": {
    "id": "E_JnmMHCYtuT"
   },
   "source": [
    "### 2. Mạng nơ-ron tích chập - Convolutional Neural Network"
   ]
  },
  {
   "cell_type": "markdown",
   "metadata": {
    "id": "hYC2rUn4Y387"
   },
   "source": [
    "## IV. Thực nghiệm"
   ]
  },
  {
   "cell_type": "markdown",
   "metadata": {
    "id": "FazPFIfMZHqk"
   },
   "source": [
    "### 1. Tự thêm vào"
   ]
  },
  {
   "cell_type": "markdown",
   "metadata": {
    "id": "NTP1mytqZN3D"
   },
   "source": [
    "### 2. Mạng nơ-ron tích chập - Convolutional Neural Network"
   ]
  },
  {
   "cell_type": "markdown",
   "metadata": {
    "id": "m66AVFN7wIuU"
   },
   "source": [
    "#### a. Chuẩn bị các thư viện cần thiết"
   ]
  },
  {
   "cell_type": "code",
   "execution_count": null,
   "metadata": {
    "colab": {
     "base_uri": "https://localhost:8080/"
    },
    "id": "9chqrhkJsDVR",
    "outputId": "ec98dc4f-a8b5-4228-f9db-24fe0491633c"
   },
   "outputs": [
    {
     "name": "stdout",
     "output_type": "stream",
     "text": [
      "fatal: destination path 'CS300_FInalTerm' already exists and is not an empty directory.\n"
     ]
    }
   ],
   "source": [
    "!git clone https://github.com/liem18112000/CS300_FInalTerm.git"
   ]
  },
  {
   "cell_type": "code",
   "execution_count": null,
   "metadata": {
    "colab": {
     "base_uri": "https://localhost:8080/"
    },
    "id": "6-jkPT1JP4Tf",
    "outputId": "fd5c7360-80e5-4e83-fa5f-b2fd866924dc"
   },
   "outputs": [
    {
     "name": "stdout",
     "output_type": "stream",
     "text": [
      "The tensorboard extension is already loaded. To reload it, use:\n",
      "  %reload_ext tensorboard\n"
     ]
    }
   ],
   "source": [
    "%load_ext tensorboard"
   ]
  },
  {
   "cell_type": "code",
   "execution_count": null,
   "metadata": {
    "id": "ZLLQLbMLuW59"
   },
   "outputs": [],
   "source": [
    "import tensorflow as tf\n",
    "from datetime import datetime\n",
    "import os\n",
    "from tensorflow.keras.optimizers import RMSprop,Adam\n",
    "from CS300_FInalTerm.factory import *\n",
    "from CS300_FInalTerm.loader import *\n",
    "from CS300_FInalTerm.utility import *\n",
    "\n",
    "factory = ModelFactory.instance()\n",
    "loader = Loader()\n",
    "\n",
    "def train_model(model):\n",
    "    model.compile(\n",
    "        optimizer ='adam',\n",
    "        loss='categorical_crossentropy',\n",
    "        metrics=['accuracy']\n",
    "    )\n",
    "\n",
    "    # logdir = os.path.join(\"logs\", datetime.now().strftime(\"%Y%m%d-%H%M%S\"))\n",
    "    # tensorboard_callback = tf.keras.callbacks.TensorBoard(logdir, histogram_freq=1)\n",
    "\n",
    "    history = model.fit(\n",
    "        x_train_1, y_train_1, \n",
    "        validation_data = (x_val_1, y_val_1),\n",
    "        batch_size=BATCH_SIZE, \n",
    "        epochs=EPOCHS,\n",
    "        # callbacks = callbacks + [tensorboard_callback]\n",
    "        callbacks = callbacks\n",
    "    )\n",
    "\n",
    "    return history"
   ]
  },
  {
   "cell_type": "code",
   "execution_count": null,
   "metadata": {
    "colab": {
     "base_uri": "https://localhost:8080/"
    },
    "id": "waCVGXEBzYfv",
    "outputId": "8b92f450-6bf7-4669-934b-95f6a32d4285"
   },
   "outputs": [
    {
     "name": "stdout",
     "output_type": "stream",
     "text": [
      "NVIDIA-SMI has failed because it couldn't communicate with the NVIDIA driver. Make sure that the latest NVIDIA driver is installed and running.\n",
      "\n"
     ]
    }
   ],
   "source": [
    "!nvidia-smi"
   ]
  },
  {
   "cell_type": "markdown",
   "metadata": {
    "id": "c3SDRNiHzelB"
   },
   "source": [
    "#### b. Dữ liệu huấn luyện : Fashion MNIST"
   ]
  },
  {
   "cell_type": "code",
   "execution_count": null,
   "metadata": {
    "colab": {
     "base_uri": "https://localhost:8080/"
    },
    "id": "3c5_M2MnzeEH",
    "outputId": "0ddcfcd7-f57d-415b-f77a-ebda1549a8a9"
   },
   "outputs": [
    {
     "name": "stdout",
     "output_type": "stream",
     "text": [
      "Shape of original training examples: (60000, 28, 28)\n",
      "Shape of original test examples: (10000, 28, 28)\n",
      "Shape of original training result: (60000,)\n",
      "Shape of original test result: (10000,)\n"
     ]
    }
   ],
   "source": [
    "(x_train, y_train), (x_test, y_test) = loader.load_dataset()"
   ]
  },
  {
   "cell_type": "code",
   "execution_count": null,
   "metadata": {
    "colab": {
     "base_uri": "https://localhost:8080/",
     "height": 915
    },
    "id": "cWaClgRH04tu",
    "outputId": "5dddc71f-d6a8-44f0-f2fe-67a63e0e5b3d"
   },
   "outputs": [
    {
     "data": {
      "image/png": "[encoded data removed]",
      "text/plain": [
       "<Figure size 1152x1152 with 25 Axes>"
      ]
     },
     "metadata": {
      "tags": []
     },
     "output_type": "display_data"
    }
   ],
   "source": [
    "class_names = ['T-shirt/top', 'Trouser', 'Pullover', 'Dress', 'Coat', 'Sandal', 'Shirt', 'Sneaker', 'Bag', 'Ankle boot']\n",
    "plt.figure(figsize=(16,16))\n",
    "for i in range(25):\n",
    "    plt.subplot(5,5,i+1)\n",
    "    plt.xticks([])\n",
    "    plt.yticks([])\n",
    "    plt.grid(False)\n",
    "    plt.imshow(x_train[i], cmap=plt.cm.binary)\n",
    "    plt.xlabel(class_names[y_train[i]])\n",
    "plt.show()"
   ]
  },
  {
   "cell_type": "markdown",
   "metadata": {
    "id": "dV628cAo1o3o"
   },
   "source": [
    "#### c. Các mẩu huấn luyện"
   ]
  },
  {
   "cell_type": "code",
   "execution_count": null,
   "metadata": {
    "colab": {
     "base_uri": "https://localhost:8080/"
    },
    "id": "n7frCGs32hAy",
    "outputId": "362b699c-0b24-44af-cbad-b9ada18933d6"
   },
   "outputs": [
    {
     "name": "stdout",
     "output_type": "stream",
     "text": [
      "Shape of original training examples: (60000, 28, 28)\n",
      "Shape of original validation examples: (8000, 28, 28)\n",
      "Shape of original test examples: (2000, 28, 28)\n",
      "Shape of original training result: (60000, 10)\n",
      "Shape of original validation result: (8000, 10)\n",
      "Shape of original test result: (2000, 10)\n"
     ]
    }
   ],
   "source": [
    "(x_train_1, y_train_1), (x_val_1, y_val_1), (x_test_1, y_test_1) = loader.load_dataset_expanddim()"
   ]
  },
  {
   "cell_type": "code",
   "execution_count": null,
   "metadata": {
    "id": "SRyYWa662v9r"
   },
   "outputs": [],
   "source": [
    "BATCH_SIZE = 4096\n",
    "EPOCHS = 200\n",
    "callbacks = [\n",
    "    tf.keras.callbacks.EarlyStopping(monitor='loss', patience=20, restore_best_weights= True),\n",
    "    tf.keras.callbacks.EarlyStopping(monitor='val_loss', patience=20, restore_best_weights= True),\n",
    "]\n",
    "histories = {}"
   ]
  },
  {
   "cell_type": "code",
   "execution_count": null,
   "metadata": {
    "colab": {
     "base_uri": "https://localhost:8080/"
    },
    "id": "sXIQbpg6J947",
    "outputId": "d60161d7-175e-4049-e746-d96a197081a3"
   },
   "outputs": [
    {
     "name": "stdout",
     "output_type": "stream",
     "text": [
      "Running in colab: True\n"
     ]
    }
   ],
   "source": [
    "import sys\n",
    "print ('Running in colab:', 'google.colab' in sys.modules)"
   ]
  },
  {
   "cell_type": "markdown",
   "metadata": {
    "id": "0Y-LOySNDL_2"
   },
   "source": [
    "---"
   ]
  },
  {
   "cell_type": "code",
   "execution_count": null,
   "metadata": {
    "colab": {
     "base_uri": "https://localhost:8080/"
    },
    "id": "7bdR9ZaXDOJp",
    "outputId": "e27b2b39-e226-4eaa-cc90-228c27eaca0e"
   },
   "outputs": [
    {
     "name": "stdout",
     "output_type": "stream",
     "text": [
      "WARNING:tensorflow:TPU system grpc://10.31.158.74:8470 has already been initialized. Reinitializing the TPU can cause previously created variables on TPU to be lost.\n"
     ]
    },
    {
     "name": "stderr",
     "output_type": "stream",
     "text": [
      "WARNING:tensorflow:TPU system grpc://10.31.158.74:8470 has already been initialized. Reinitializing the TPU can cause previously created variables on TPU to be lost.\n"
     ]
    },
    {
     "name": "stdout",
     "output_type": "stream",
     "text": [
      "INFO:tensorflow:Initializing the TPU system: grpc://10.31.158.74:8470\n"
     ]
    },
    {
     "name": "stderr",
     "output_type": "stream",
     "text": [
      "INFO:tensorflow:Initializing the TPU system: grpc://10.31.158.74:8470\n"
     ]
    },
    {
     "name": "stdout",
     "output_type": "stream",
     "text": [
      "INFO:tensorflow:Clearing out eager caches\n"
     ]
    },
    {
     "name": "stderr",
     "output_type": "stream",
     "text": [
      "INFO:tensorflow:Clearing out eager caches\n"
     ]
    },
    {
     "name": "stdout",
     "output_type": "stream",
     "text": [
      "INFO:tensorflow:Finished initializing TPU system.\n"
     ]
    },
    {
     "name": "stderr",
     "output_type": "stream",
     "text": [
      "INFO:tensorflow:Finished initializing TPU system.\n"
     ]
    },
    {
     "name": "stdout",
     "output_type": "stream",
     "text": [
      "INFO:tensorflow:Found TPU system:\n"
     ]
    },
    {
     "name": "stderr",
     "output_type": "stream",
     "text": [
      "INFO:tensorflow:Found TPU system:\n"
     ]
    },
    {
     "name": "stdout",
     "output_type": "stream",
     "text": [
      "INFO:tensorflow:*** Num TPU Cores: 8\n"
     ]
    },
    {
     "name": "stderr",
     "output_type": "stream",
     "text": [
      "INFO:tensorflow:*** Num TPU Cores: 8\n"
     ]
    },
    {
     "name": "stdout",
     "output_type": "stream",
     "text": [
      "INFO:tensorflow:*** Num TPU Workers: 1\n"
     ]
    },
    {
     "name": "stderr",
     "output_type": "stream",
     "text": [
      "INFO:tensorflow:*** Num TPU Workers: 1\n"
     ]
    },
    {
     "name": "stdout",
     "output_type": "stream",
     "text": [
      "INFO:tensorflow:*** Num TPU Cores Per Worker: 8\n"
     ]
    },
    {
     "name": "stderr",
     "output_type": "stream",
     "text": [
      "INFO:tensorflow:*** Num TPU Cores Per Worker: 8\n"
     ]
    },
    {
     "name": "stdout",
     "output_type": "stream",
     "text": [
      "INFO:tensorflow:*** Available Device: _DeviceAttributes(/job:localhost/replica:0/task:0/device:CPU:0, CPU, 0, 0)\n"
     ]
    },
    {
     "name": "stderr",
     "output_type": "stream",
     "text": [
      "INFO:tensorflow:*** Available Device: _DeviceAttributes(/job:localhost/replica:0/task:0/device:CPU:0, CPU, 0, 0)\n"
     ]
    },
    {
     "name": "stdout",
     "output_type": "stream",
     "text": [
      "INFO:tensorflow:*** Available Device: _DeviceAttributes(/job:worker/replica:0/task:0/device:CPU:0, CPU, 0, 0)\n"
     ]
    },
    {
     "name": "stderr",
     "output_type": "stream",
     "text": [
      "INFO:tensorflow:*** Available Device: _DeviceAttributes(/job:worker/replica:0/task:0/device:CPU:0, CPU, 0, 0)\n"
     ]
    },
    {
     "name": "stdout",
     "output_type": "stream",
     "text": [
      "INFO:tensorflow:*** Available Device: _DeviceAttributes(/job:worker/replica:0/task:0/device:TPU:0, TPU, 0, 0)\n"
     ]
    },
    {
     "name": "stderr",
     "output_type": "stream",
     "text": [
      "INFO:tensorflow:*** Available Device: _DeviceAttributes(/job:worker/replica:0/task:0/device:TPU:0, TPU, 0, 0)\n"
     ]
    },
    {
     "name": "stdout",
     "output_type": "stream",
     "text": [
      "INFO:tensorflow:*** Available Device: _DeviceAttributes(/job:worker/replica:0/task:0/device:TPU:1, TPU, 0, 0)\n"
     ]
    },
    {
     "name": "stderr",
     "output_type": "stream",
     "text": [
      "INFO:tensorflow:*** Available Device: _DeviceAttributes(/job:worker/replica:0/task:0/device:TPU:1, TPU, 0, 0)\n"
     ]
    },
    {
     "name": "stdout",
     "output_type": "stream",
     "text": [
      "INFO:tensorflow:*** Available Device: _DeviceAttributes(/job:worker/replica:0/task:0/device:TPU:2, TPU, 0, 0)\n"
     ]
    },
    {
     "name": "stderr",
     "output_type": "stream",
     "text": [
      "INFO:tensorflow:*** Available Device: _DeviceAttributes(/job:worker/replica:0/task:0/device:TPU:2, TPU, 0, 0)\n"
     ]
    },
    {
     "name": "stdout",
     "output_type": "stream",
     "text": [
      "INFO:tensorflow:*** Available Device: _DeviceAttributes(/job:worker/replica:0/task:0/device:TPU:3, TPU, 0, 0)\n"
     ]
    },
    {
     "name": "stderr",
     "output_type": "stream",
     "text": [
      "INFO:tensorflow:*** Available Device: _DeviceAttributes(/job:worker/replica:0/task:0/device:TPU:3, TPU, 0, 0)\n"
     ]
    },
    {
     "name": "stdout",
     "output_type": "stream",
     "text": [
      "INFO:tensorflow:*** Available Device: _DeviceAttributes(/job:worker/replica:0/task:0/device:TPU:4, TPU, 0, 0)\n"
     ]
    },
    {
     "name": "stderr",
     "output_type": "stream",
     "text": [
      "INFO:tensorflow:*** Available Device: _DeviceAttributes(/job:worker/replica:0/task:0/device:TPU:4, TPU, 0, 0)\n"
     ]
    },
    {
     "name": "stdout",
     "output_type": "stream",
     "text": [
      "INFO:tensorflow:*** Available Device: _DeviceAttributes(/job:worker/replica:0/task:0/device:TPU:5, TPU, 0, 0)\n"
     ]
    },
    {
     "name": "stderr",
     "output_type": "stream",
     "text": [
      "INFO:tensorflow:*** Available Device: _DeviceAttributes(/job:worker/replica:0/task:0/device:TPU:5, TPU, 0, 0)\n"
     ]
    },
    {
     "name": "stdout",
     "output_type": "stream",
     "text": [
      "INFO:tensorflow:*** Available Device: _DeviceAttributes(/job:worker/replica:0/task:0/device:TPU:6, TPU, 0, 0)\n"
     ]
    },
    {
     "name": "stderr",
     "output_type": "stream",
     "text": [
      "INFO:tensorflow:*** Available Device: _DeviceAttributes(/job:worker/replica:0/task:0/device:TPU:6, TPU, 0, 0)\n"
     ]
    },
    {
     "name": "stdout",
     "output_type": "stream",
     "text": [
      "INFO:tensorflow:*** Available Device: _DeviceAttributes(/job:worker/replica:0/task:0/device:TPU:7, TPU, 0, 0)\n"
     ]
    },
    {
     "name": "stderr",
     "output_type": "stream",
     "text": [
      "INFO:tensorflow:*** Available Device: _DeviceAttributes(/job:worker/replica:0/task:0/device:TPU:7, TPU, 0, 0)\n"
     ]
    },
    {
     "name": "stdout",
     "output_type": "stream",
     "text": [
      "INFO:tensorflow:*** Available Device: _DeviceAttributes(/job:worker/replica:0/task:0/device:TPU_SYSTEM:0, TPU_SYSTEM, 0, 0)\n"
     ]
    },
    {
     "name": "stderr",
     "output_type": "stream",
     "text": [
      "INFO:tensorflow:*** Available Device: _DeviceAttributes(/job:worker/replica:0/task:0/device:TPU_SYSTEM:0, TPU_SYSTEM, 0, 0)\n"
     ]
    },
    {
     "name": "stdout",
     "output_type": "stream",
     "text": [
      "INFO:tensorflow:*** Available Device: _DeviceAttributes(/job:worker/replica:0/task:0/device:XLA_CPU:0, XLA_CPU, 0, 0)\n"
     ]
    },
    {
     "name": "stderr",
     "output_type": "stream",
     "text": [
      "INFO:tensorflow:*** Available Device: _DeviceAttributes(/job:worker/replica:0/task:0/device:XLA_CPU:0, XLA_CPU, 0, 0)\n"
     ]
    },
    {
     "name": "stdout",
     "output_type": "stream",
     "text": [
      "Model: \"sequential_4\"\n",
      "_________________________________________________________________\n",
      "Layer (type)                 Output Shape              Param #   \n",
      "=================================================================\n",
      "up_sampling3d_4 (UpSampling3 (None, 28, 28, 1)         0         \n",
      "_________________________________________________________________\n",
      "conv2d_48 (Conv2D)           (None, 28, 28, 32)        320       \n",
      "_________________________________________________________________\n",
      "batch_normalization_56 (Batc (None, 28, 28, 32)        112       \n",
      "_________________________________________________________________\n",
      "conv2d_49 (Conv2D)           (None, 28, 28, 32)        9248      \n",
      "_________________________________________________________________\n",
      "batch_normalization_57 (Batc (None, 28, 28, 32)        112       \n",
      "_________________________________________________________________\n",
      "max_pooling2d_16 (MaxPooling (None, 14, 14, 32)        0         \n",
      "_________________________________________________________________\n",
      "dropout_16 (Dropout)         (None, 14, 14, 32)        0         \n",
      "_________________________________________________________________\n",
      "conv2d_50 (Conv2D)           (None, 14, 14, 64)        18496     \n",
      "_________________________________________________________________\n",
      "batch_normalization_58 (Batc (None, 14, 14, 64)        56        \n",
      "_________________________________________________________________\n",
      "conv2d_51 (Conv2D)           (None, 14, 14, 64)        36928     \n",
      "_________________________________________________________________\n",
      "batch_normalization_59 (Batc (None, 14, 14, 64)        56        \n",
      "_________________________________________________________________\n",
      "max_pooling2d_17 (MaxPooling (None, 7, 7, 64)          0         \n",
      "_________________________________________________________________\n",
      "dropout_17 (Dropout)         (None, 7, 7, 64)          0         \n",
      "_________________________________________________________________\n",
      "conv2d_52 (Conv2D)           (None, 7, 7, 128)         73856     \n",
      "_________________________________________________________________\n",
      "batch_normalization_60 (Batc (None, 7, 7, 128)         28        \n",
      "_________________________________________________________________\n",
      "conv2d_53 (Conv2D)           (None, 7, 7, 128)         147584    \n",
      "_________________________________________________________________\n",
      "batch_normalization_61 (Batc (None, 7, 7, 128)         28        \n",
      "_________________________________________________________________\n",
      "conv2d_54 (Conv2D)           (None, 7, 7, 128)         147584    \n",
      "_________________________________________________________________\n",
      "batch_normalization_62 (Batc (None, 7, 7, 128)         28        \n",
      "_________________________________________________________________\n",
      "conv2d_55 (Conv2D)           (None, 7, 7, 128)         147584    \n",
      "_________________________________________________________________\n",
      "batch_normalization_63 (Batc (None, 7, 7, 128)         28        \n",
      "_________________________________________________________________\n",
      "max_pooling2d_18 (MaxPooling (None, 3, 3, 128)         0         \n",
      "_________________________________________________________________\n",
      "dropout_18 (Dropout)         (None, 3, 3, 128)         0         \n",
      "_________________________________________________________________\n",
      "conv2d_56 (Conv2D)           (None, 3, 3, 256)         295168    \n",
      "_________________________________________________________________\n",
      "batch_normalization_64 (Batc (None, 3, 3, 256)         12        \n",
      "_________________________________________________________________\n",
      "conv2d_57 (Conv2D)           (None, 3, 3, 256)         590080    \n",
      "_________________________________________________________________\n",
      "batch_normalization_65 (Batc (None, 3, 3, 256)         12        \n",
      "_________________________________________________________________\n",
      "conv2d_58 (Conv2D)           (None, 3, 3, 256)         590080    \n",
      "_________________________________________________________________\n",
      "batch_normalization_66 (Batc (None, 3, 3, 256)         12        \n",
      "_________________________________________________________________\n",
      "conv2d_59 (Conv2D)           (None, 3, 3, 256)         590080    \n",
      "_________________________________________________________________\n",
      "batch_normalization_67 (Batc (None, 3, 3, 256)         12        \n",
      "_________________________________________________________________\n",
      "max_pooling2d_19 (MaxPooling (None, 1, 1, 256)         0         \n",
      "_________________________________________________________________\n",
      "dropout_19 (Dropout)         (None, 1, 1, 256)         0         \n",
      "_________________________________________________________________\n",
      "flatten_4 (Flatten)          (None, 256)               0         \n",
      "_________________________________________________________________\n",
      "dense_12 (Dense)             (None, 256)               65792     \n",
      "_________________________________________________________________\n",
      "batch_normalization_68 (Batc (None, 256)               1024      \n",
      "_________________________________________________________________\n",
      "dense_13 (Dense)             (None, 256)               65792     \n",
      "_________________________________________________________________\n",
      "batch_normalization_69 (Batc (None, 256)               1024      \n",
      "_________________________________________________________________\n",
      "dense_14 (Dense)             (None, 10)                2570      \n",
      "=================================================================\n",
      "Total params: 2,783,706\n",
      "Trainable params: 2,782,434\n",
      "Non-trainable params: 1,272\n",
      "_________________________________________________________________\n",
      "Epoch 1/200\n",
      "15/15 [==============================] - 26s 783ms/step - loss: 1.9809 - accuracy: 0.3697 - val_loss: 2.2771 - val_accuracy: 0.2098\n",
      "Epoch 2/200\n",
      "15/15 [==============================] - 1s 81ms/step - loss: 0.6759 - accuracy: 0.7405 - val_loss: 2.3157 - val_accuracy: 0.1598\n",
      "Epoch 3/200\n",
      "15/15 [==============================] - 1s 83ms/step - loss: 0.5523 - accuracy: 0.7941 - val_loss: 2.3581 - val_accuracy: 0.1585\n",
      "Epoch 4/200\n",
      "15/15 [==============================] - 1s 82ms/step - loss: 0.4718 - accuracy: 0.8240 - val_loss: 2.4897 - val_accuracy: 0.1873\n",
      "Epoch 5/200\n",
      "15/15 [==============================] - 1s 81ms/step - loss: 0.4146 - accuracy: 0.8438 - val_loss: 2.5488 - val_accuracy: 0.1531\n",
      "Epoch 6/200\n",
      "15/15 [==============================] - 1s 81ms/step - loss: 0.3703 - accuracy: 0.8598 - val_loss: 2.4771 - val_accuracy: 0.1493\n",
      "Epoch 7/200\n",
      "15/15 [==============================] - 1s 83ms/step - loss: 0.3374 - accuracy: 0.8729 - val_loss: 2.7591 - val_accuracy: 0.1011\n",
      "Epoch 8/200\n",
      "15/15 [==============================] - 1s 85ms/step - loss: 0.3179 - accuracy: 0.8815 - val_loss: 2.4321 - val_accuracy: 0.1011\n",
      "Epoch 9/200\n",
      "15/15 [==============================] - 1s 84ms/step - loss: 0.2908 - accuracy: 0.8915 - val_loss: 2.2605 - val_accuracy: 0.1300\n",
      "Epoch 10/200\n",
      "15/15 [==============================] - 1s 84ms/step - loss: 0.2777 - accuracy: 0.8957 - val_loss: 2.1012 - val_accuracy: 0.2080\n",
      "Epoch 11/200\n",
      "15/15 [==============================] - 2s 105ms/step - loss: 0.2640 - accuracy: 0.9012 - val_loss: 2.2550 - val_accuracy: 0.2086\n",
      "Epoch 12/200\n",
      "15/15 [==============================] - 1s 84ms/step - loss: 0.2494 - accuracy: 0.9066 - val_loss: 2.5071 - val_accuracy: 0.1556\n",
      "Epoch 13/200\n",
      "15/15 [==============================] - 1s 84ms/step - loss: 0.2358 - accuracy: 0.9120 - val_loss: 2.0407 - val_accuracy: 0.3328\n",
      "Epoch 14/200\n",
      "15/15 [==============================] - 1s 82ms/step - loss: 0.2306 - accuracy: 0.9142 - val_loss: 1.8617 - val_accuracy: 0.3283\n",
      "Epoch 15/200\n",
      "15/15 [==============================] - 1s 83ms/step - loss: 0.2169 - accuracy: 0.9196 - val_loss: 2.1135 - val_accuracy: 0.3524\n",
      "Epoch 16/200\n",
      "15/15 [==============================] - 1s 83ms/step - loss: 0.2092 - accuracy: 0.9221 - val_loss: 1.6877 - val_accuracy: 0.4415\n",
      "Epoch 17/200\n",
      "15/15 [==============================] - 1s 81ms/step - loss: 0.2048 - accuracy: 0.9232 - val_loss: 1.5598 - val_accuracy: 0.5215\n",
      "Epoch 18/200\n",
      "15/15 [==============================] - 1s 82ms/step - loss: 0.1989 - accuracy: 0.9239 - val_loss: 1.3700 - val_accuracy: 0.5694\n",
      "Epoch 19/200\n",
      "15/15 [==============================] - 1s 80ms/step - loss: 0.1859 - accuracy: 0.9301 - val_loss: 1.2765 - val_accuracy: 0.5816\n",
      "Epoch 20/200\n",
      "15/15 [==============================] - 1s 81ms/step - loss: 0.1897 - accuracy: 0.9302 - val_loss: 1.2734 - val_accuracy: 0.5614\n",
      "Epoch 21/200\n",
      "15/15 [==============================] - 1s 82ms/step - loss: 0.1729 - accuracy: 0.9364 - val_loss: 1.1573 - val_accuracy: 0.6168\n",
      "Epoch 22/200\n",
      "15/15 [==============================] - 1s 82ms/step - loss: 0.1721 - accuracy: 0.9363 - val_loss: 0.8227 - val_accuracy: 0.6919\n",
      "Epoch 23/200\n",
      "15/15 [==============================] - 1s 86ms/step - loss: 0.1665 - accuracy: 0.9370 - val_loss: 0.7443 - val_accuracy: 0.7499\n",
      "Epoch 24/200\n",
      "15/15 [==============================] - 1s 82ms/step - loss: 0.1641 - accuracy: 0.9380 - val_loss: 0.9059 - val_accuracy: 0.6936\n",
      "Epoch 25/200\n",
      "15/15 [==============================] - 1s 84ms/step - loss: 0.1524 - accuracy: 0.9436 - val_loss: 0.6990 - val_accuracy: 0.7663\n",
      "Epoch 26/200\n",
      "15/15 [==============================] - 1s 81ms/step - loss: 0.1519 - accuracy: 0.9428 - val_loss: 0.6065 - val_accuracy: 0.8006\n",
      "Epoch 27/200\n",
      "15/15 [==============================] - 1s 81ms/step - loss: 0.1476 - accuracy: 0.9446 - val_loss: 0.4822 - val_accuracy: 0.8293\n",
      "Epoch 28/200\n",
      "15/15 [==============================] - 1s 84ms/step - loss: 0.1418 - accuracy: 0.9469 - val_loss: 0.4741 - val_accuracy: 0.8379\n",
      "Epoch 29/200\n",
      "15/15 [==============================] - 1s 81ms/step - loss: 0.1321 - accuracy: 0.9495 - val_loss: 0.5204 - val_accuracy: 0.8284\n",
      "Epoch 30/200\n",
      "15/15 [==============================] - 1s 80ms/step - loss: 0.1323 - accuracy: 0.9503 - val_loss: 0.4115 - val_accuracy: 0.8635\n",
      "Epoch 31/200\n",
      "15/15 [==============================] - 1s 81ms/step - loss: 0.1293 - accuracy: 0.9524 - val_loss: 0.3853 - val_accuracy: 0.8786\n",
      "Epoch 32/200\n",
      "15/15 [==============================] - 1s 80ms/step - loss: 0.1282 - accuracy: 0.9510 - val_loss: 0.3952 - val_accuracy: 0.8713\n",
      "Epoch 33/200\n",
      "15/15 [==============================] - 1s 80ms/step - loss: 0.1288 - accuracy: 0.9507 - val_loss: 0.3014 - val_accuracy: 0.9019\n",
      "Epoch 34/200\n",
      "15/15 [==============================] - 1s 82ms/step - loss: 0.1203 - accuracy: 0.9530 - val_loss: 0.2883 - val_accuracy: 0.9065\n",
      "Epoch 35/200\n",
      "15/15 [==============================] - 1s 81ms/step - loss: 0.1134 - accuracy: 0.9567 - val_loss: 0.2836 - val_accuracy: 0.9105\n",
      "Epoch 36/200\n",
      "15/15 [==============================] - 1s 84ms/step - loss: 0.1119 - accuracy: 0.9577 - val_loss: 0.2601 - val_accuracy: 0.9174\n",
      "Epoch 37/200\n",
      "15/15 [==============================] - 1s 82ms/step - loss: 0.1057 - accuracy: 0.9594 - val_loss: 0.2645 - val_accuracy: 0.9203\n",
      "Epoch 38/200\n",
      "15/15 [==============================] - 1s 81ms/step - loss: 0.1052 - accuracy: 0.9603 - val_loss: 0.2816 - val_accuracy: 0.9106\n",
      "Epoch 39/200\n",
      "15/15 [==============================] - 1s 84ms/step - loss: 0.0996 - accuracy: 0.9621 - val_loss: 0.2956 - val_accuracy: 0.9108\n",
      "Epoch 40/200\n",
      "15/15 [==============================] - 1s 83ms/step - loss: 0.0955 - accuracy: 0.9637 - val_loss: 0.2545 - val_accuracy: 0.9251\n",
      "Epoch 41/200\n",
      "15/15 [==============================] - 1s 82ms/step - loss: 0.0939 - accuracy: 0.9643 - val_loss: 0.2971 - val_accuracy: 0.9151\n",
      "Epoch 42/200\n",
      "15/15 [==============================] - 1s 84ms/step - loss: 0.0922 - accuracy: 0.9650 - val_loss: 0.3201 - val_accuracy: 0.9124\n",
      "Epoch 43/200\n",
      "15/15 [==============================] - 1s 80ms/step - loss: 0.0885 - accuracy: 0.9663 - val_loss: 0.2788 - val_accuracy: 0.9236\n",
      "Epoch 44/200\n",
      "15/15 [==============================] - 1s 81ms/step - loss: 0.0868 - accuracy: 0.9667 - val_loss: 0.2662 - val_accuracy: 0.9250\n",
      "Epoch 45/200\n",
      "15/15 [==============================] - 1s 81ms/step - loss: 0.0846 - accuracy: 0.9676 - val_loss: 0.2556 - val_accuracy: 0.9315\n",
      "Epoch 46/200\n",
      "15/15 [==============================] - 1s 82ms/step - loss: 0.0801 - accuracy: 0.9702 - val_loss: 0.2697 - val_accuracy: 0.9234\n",
      "Epoch 47/200\n",
      "15/15 [==============================] - 1s 82ms/step - loss: 0.0792 - accuracy: 0.9702 - val_loss: 0.2656 - val_accuracy: 0.9276\n",
      "Epoch 48/200\n",
      "15/15 [==============================] - 2s 116ms/step - loss: 0.0738 - accuracy: 0.9720 - val_loss: 0.2543 - val_accuracy: 0.9294\n",
      "Epoch 49/200\n",
      "15/15 [==============================] - 1s 81ms/step - loss: 0.0704 - accuracy: 0.9744 - val_loss: 0.2651 - val_accuracy: 0.9259\n",
      "Epoch 50/200\n",
      "15/15 [==============================] - 1s 83ms/step - loss: 0.0718 - accuracy: 0.9731 - val_loss: 0.2638 - val_accuracy: 0.9290\n",
      "Epoch 51/200\n",
      "15/15 [==============================] - 1s 85ms/step - loss: 0.0681 - accuracy: 0.9743 - val_loss: 0.2751 - val_accuracy: 0.9299\n",
      "Epoch 52/200\n",
      "15/15 [==============================] - 1s 80ms/step - loss: 0.0653 - accuracy: 0.9753 - val_loss: 0.2788 - val_accuracy: 0.9293\n",
      "Epoch 53/200\n",
      "15/15 [==============================] - 1s 80ms/step - loss: 0.0632 - accuracy: 0.9748 - val_loss: 0.2862 - val_accuracy: 0.9281\n",
      "Epoch 54/200\n",
      "15/15 [==============================] - 1s 79ms/step - loss: 0.0605 - accuracy: 0.9779 - val_loss: 0.2844 - val_accuracy: 0.9346\n",
      "Epoch 55/200\n",
      "15/15 [==============================] - 1s 81ms/step - loss: 0.0604 - accuracy: 0.9772 - val_loss: 0.2921 - val_accuracy: 0.9278\n",
      "Epoch 56/200\n",
      "15/15 [==============================] - 1s 81ms/step - loss: 0.0565 - accuracy: 0.9784 - val_loss: 0.2894 - val_accuracy: 0.9296\n",
      "Epoch 57/200\n",
      "15/15 [==============================] - 1s 81ms/step - loss: 0.0589 - accuracy: 0.9772 - val_loss: 0.2884 - val_accuracy: 0.9284\n",
      "Epoch 58/200\n",
      "15/15 [==============================] - 1s 80ms/step - loss: 0.0621 - accuracy: 0.9769 - val_loss: 0.3007 - val_accuracy: 0.9268\n",
      "Epoch 59/200\n",
      "15/15 [==============================] - 1s 82ms/step - loss: 0.0592 - accuracy: 0.9768 - val_loss: 0.2847 - val_accuracy: 0.9324\n",
      "Epoch 60/200\n",
      "15/15 [==============================] - 1s 82ms/step - loss: 0.0561 - accuracy: 0.9787 - val_loss: 0.3094 - val_accuracy: 0.9298\n",
      "Epoch 61/200\n",
      "15/15 [==============================] - 1s 80ms/step - loss: 0.0470 - accuracy: 0.9821 - val_loss: 0.3001 - val_accuracy: 0.9306\n",
      "Epoch 62/200\n",
      "15/15 [==============================] - 1s 82ms/step - loss: 0.0496 - accuracy: 0.9814 - val_loss: 0.3146 - val_accuracy: 0.9313\n",
      "Epoch 63/200\n",
      "15/15 [==============================] - 1s 79ms/step - loss: 0.0522 - accuracy: 0.9804 - val_loss: 0.2977 - val_accuracy: 0.9314\n",
      "Epoch 64/200\n",
      "15/15 [==============================] - 1s 79ms/step - loss: 0.0442 - accuracy: 0.9825 - val_loss: 0.3215 - val_accuracy: 0.9296\n",
      "Epoch 65/200\n",
      "15/15 [==============================] - 1s 81ms/step - loss: 0.0462 - accuracy: 0.9829 - val_loss: 0.3029 - val_accuracy: 0.9299\n",
      "Epoch 66/200\n",
      "15/15 [==============================] - 1s 82ms/step - loss: 0.0472 - accuracy: 0.9827 - val_loss: 0.3406 - val_accuracy: 0.9288\n",
      "Epoch 67/200\n",
      "15/15 [==============================] - 1s 80ms/step - loss: 0.0448 - accuracy: 0.9836 - val_loss: 0.3225 - val_accuracy: 0.9308\n",
      "Epoch 68/200\n",
      "15/15 [==============================] - 1s 81ms/step - loss: 0.0422 - accuracy: 0.9841 - val_loss: 0.3263 - val_accuracy: 0.9291\n"
     ]
    }
   ],
   "source": [
    "resolver = tf.distribute.cluster_resolver.TPUClusterResolver(tpu='grpc://' + os.environ['COLAB_TPU_ADDR'])\n",
    "tf.config.experimental_connect_to_cluster(resolver)\n",
    "tf.tpu.experimental.initialize_tpu_system(resolver)\n",
    "strategy = tf.distribute.TPUStrategy(resolver)\n",
    "\n",
    "with strategy.scope():\n",
    "    model = factory.createMiniVGGModel(32)\n",
    "    history = train_model(model)"
   ]
  },
  {
   "cell_type": "code",
   "execution_count": null,
   "metadata": {
    "colab": {
     "base_uri": "https://localhost:8080/"
    },
    "id": "dvSX6CFfDOJq",
    "outputId": "d64675f1-d27b-41e4-d6c4-1c1f393d8b19"
   },
   "outputs": [
    {
     "name": "stdout",
     "output_type": "stream",
     "text": [
      "1/1 [==============================] - 2s 2s/step - loss: 0.2290 - accuracy: 0.9370\n"
     ]
    }
   ],
   "source": [
    "histories['VGG19_32'] = (history, model.evaluate(x_test_1, y_test_1, BATCH_SIZE))"
   ]
  },
  {
   "cell_type": "markdown",
   "metadata": {
    "id": "Rt0OIDlBDGf9"
   },
   "source": [
    "---"
   ]
  },
  {
   "cell_type": "code",
   "execution_count": null,
   "metadata": {
    "colab": {
     "base_uri": "https://localhost:8080/"
    },
    "id": "E89UDim8Jq1s",
    "outputId": "96a64738-ab1a-4a76-f156-19ab91c87c97"
   },
   "outputs": [
    {
     "name": "stdout",
     "output_type": "stream",
     "text": [
      "WARNING:tensorflow:TPU system grpc://10.31.158.74:8470 has already been initialized. Reinitializing the TPU can cause previously created variables on TPU to be lost.\n"
     ]
    },
    {
     "name": "stderr",
     "output_type": "stream",
     "text": [
      "WARNING:tensorflow:TPU system grpc://10.31.158.74:8470 has already been initialized. Reinitializing the TPU can cause previously created variables on TPU to be lost.\n"
     ]
    },
    {
     "name": "stdout",
     "output_type": "stream",
     "text": [
      "INFO:tensorflow:Initializing the TPU system: grpc://10.31.158.74:8470\n"
     ]
    },
    {
     "name": "stderr",
     "output_type": "stream",
     "text": [
      "INFO:tensorflow:Initializing the TPU system: grpc://10.31.158.74:8470\n"
     ]
    },
    {
     "name": "stdout",
     "output_type": "stream",
     "text": [
      "INFO:tensorflow:Clearing out eager caches\n"
     ]
    },
    {
     "name": "stderr",
     "output_type": "stream",
     "text": [
      "INFO:tensorflow:Clearing out eager caches\n"
     ]
    },
    {
     "name": "stdout",
     "output_type": "stream",
     "text": [
      "INFO:tensorflow:Finished initializing TPU system.\n"
     ]
    },
    {
     "name": "stderr",
     "output_type": "stream",
     "text": [
      "INFO:tensorflow:Finished initializing TPU system.\n"
     ]
    },
    {
     "name": "stdout",
     "output_type": "stream",
     "text": [
      "INFO:tensorflow:Found TPU system:\n"
     ]
    },
    {
     "name": "stderr",
     "output_type": "stream",
     "text": [
      "INFO:tensorflow:Found TPU system:\n"
     ]
    },
    {
     "name": "stdout",
     "output_type": "stream",
     "text": [
      "INFO:tensorflow:*** Num TPU Cores: 8\n"
     ]
    },
    {
     "name": "stderr",
     "output_type": "stream",
     "text": [
      "INFO:tensorflow:*** Num TPU Cores: 8\n"
     ]
    },
    {
     "name": "stdout",
     "output_type": "stream",
     "text": [
      "INFO:tensorflow:*** Num TPU Workers: 1\n"
     ]
    },
    {
     "name": "stderr",
     "output_type": "stream",
     "text": [
      "INFO:tensorflow:*** Num TPU Workers: 1\n"
     ]
    },
    {
     "name": "stdout",
     "output_type": "stream",
     "text": [
      "INFO:tensorflow:*** Num TPU Cores Per Worker: 8\n"
     ]
    },
    {
     "name": "stderr",
     "output_type": "stream",
     "text": [
      "INFO:tensorflow:*** Num TPU Cores Per Worker: 8\n"
     ]
    },
    {
     "name": "stdout",
     "output_type": "stream",
     "text": [
      "INFO:tensorflow:*** Available Device: _DeviceAttributes(/job:localhost/replica:0/task:0/device:CPU:0, CPU, 0, 0)\n"
     ]
    },
    {
     "name": "stderr",
     "output_type": "stream",
     "text": [
      "INFO:tensorflow:*** Available Device: _DeviceAttributes(/job:localhost/replica:0/task:0/device:CPU:0, CPU, 0, 0)\n"
     ]
    },
    {
     "name": "stdout",
     "output_type": "stream",
     "text": [
      "INFO:tensorflow:*** Available Device: _DeviceAttributes(/job:worker/replica:0/task:0/device:CPU:0, CPU, 0, 0)\n"
     ]
    },
    {
     "name": "stderr",
     "output_type": "stream",
     "text": [
      "INFO:tensorflow:*** Available Device: _DeviceAttributes(/job:worker/replica:0/task:0/device:CPU:0, CPU, 0, 0)\n"
     ]
    },
    {
     "name": "stdout",
     "output_type": "stream",
     "text": [
      "INFO:tensorflow:*** Available Device: _DeviceAttributes(/job:worker/replica:0/task:0/device:TPU:0, TPU, 0, 0)\n"
     ]
    },
    {
     "name": "stderr",
     "output_type": "stream",
     "text": [
      "INFO:tensorflow:*** Available Device: _DeviceAttributes(/job:worker/replica:0/task:0/device:TPU:0, TPU, 0, 0)\n"
     ]
    },
    {
     "name": "stdout",
     "output_type": "stream",
     "text": [
      "INFO:tensorflow:*** Available Device: _DeviceAttributes(/job:worker/replica:0/task:0/device:TPU:1, TPU, 0, 0)\n"
     ]
    },
    {
     "name": "stderr",
     "output_type": "stream",
     "text": [
      "INFO:tensorflow:*** Available Device: _DeviceAttributes(/job:worker/replica:0/task:0/device:TPU:1, TPU, 0, 0)\n"
     ]
    },
    {
     "name": "stdout",
     "output_type": "stream",
     "text": [
      "INFO:tensorflow:*** Available Device: _DeviceAttributes(/job:worker/replica:0/task:0/device:TPU:2, TPU, 0, 0)\n"
     ]
    },
    {
     "name": "stderr",
     "output_type": "stream",
     "text": [
      "INFO:tensorflow:*** Available Device: _DeviceAttributes(/job:worker/replica:0/task:0/device:TPU:2, TPU, 0, 0)\n"
     ]
    },
    {
     "name": "stdout",
     "output_type": "stream",
     "text": [
      "INFO:tensorflow:*** Available Device: _DeviceAttributes(/job:worker/replica:0/task:0/device:TPU:3, TPU, 0, 0)\n"
     ]
    },
    {
     "name": "stderr",
     "output_type": "stream",
     "text": [
      "INFO:tensorflow:*** Available Device: _DeviceAttributes(/job:worker/replica:0/task:0/device:TPU:3, TPU, 0, 0)\n"
     ]
    },
    {
     "name": "stdout",
     "output_type": "stream",
     "text": [
      "INFO:tensorflow:*** Available Device: _DeviceAttributes(/job:worker/replica:0/task:0/device:TPU:4, TPU, 0, 0)\n"
     ]
    },
    {
     "name": "stderr",
     "output_type": "stream",
     "text": [
      "INFO:tensorflow:*** Available Device: _DeviceAttributes(/job:worker/replica:0/task:0/device:TPU:4, TPU, 0, 0)\n"
     ]
    },
    {
     "name": "stdout",
     "output_type": "stream",
     "text": [
      "INFO:tensorflow:*** Available Device: _DeviceAttributes(/job:worker/replica:0/task:0/device:TPU:5, TPU, 0, 0)\n"
     ]
    },
    {
     "name": "stderr",
     "output_type": "stream",
     "text": [
      "INFO:tensorflow:*** Available Device: _DeviceAttributes(/job:worker/replica:0/task:0/device:TPU:5, TPU, 0, 0)\n"
     ]
    },
    {
     "name": "stdout",
     "output_type": "stream",
     "text": [
      "INFO:tensorflow:*** Available Device: _DeviceAttributes(/job:worker/replica:0/task:0/device:TPU:6, TPU, 0, 0)\n"
     ]
    },
    {
     "name": "stderr",
     "output_type": "stream",
     "text": [
      "INFO:tensorflow:*** Available Device: _DeviceAttributes(/job:worker/replica:0/task:0/device:TPU:6, TPU, 0, 0)\n"
     ]
    },
    {
     "name": "stdout",
     "output_type": "stream",
     "text": [
      "INFO:tensorflow:*** Available Device: _DeviceAttributes(/job:worker/replica:0/task:0/device:TPU:7, TPU, 0, 0)\n"
     ]
    },
    {
     "name": "stderr",
     "output_type": "stream",
     "text": [
      "INFO:tensorflow:*** Available Device: _DeviceAttributes(/job:worker/replica:0/task:0/device:TPU:7, TPU, 0, 0)\n"
     ]
    },
    {
     "name": "stdout",
     "output_type": "stream",
     "text": [
      "INFO:tensorflow:*** Available Device: _DeviceAttributes(/job:worker/replica:0/task:0/device:TPU_SYSTEM:0, TPU_SYSTEM, 0, 0)\n"
     ]
    },
    {
     "name": "stderr",
     "output_type": "stream",
     "text": [
      "INFO:tensorflow:*** Available Device: _DeviceAttributes(/job:worker/replica:0/task:0/device:TPU_SYSTEM:0, TPU_SYSTEM, 0, 0)\n"
     ]
    },
    {
     "name": "stdout",
     "output_type": "stream",
     "text": [
      "INFO:tensorflow:*** Available Device: _DeviceAttributes(/job:worker/replica:0/task:0/device:XLA_CPU:0, XLA_CPU, 0, 0)\n"
     ]
    },
    {
     "name": "stderr",
     "output_type": "stream",
     "text": [
      "INFO:tensorflow:*** Available Device: _DeviceAttributes(/job:worker/replica:0/task:0/device:XLA_CPU:0, XLA_CPU, 0, 0)\n"
     ]
    },
    {
     "name": "stdout",
     "output_type": "stream",
     "text": [
      "Model: \"sequential_5\"\n",
      "_________________________________________________________________\n",
      "Layer (type)                 Output Shape              Param #   \n",
      "=================================================================\n",
      "up_sampling3d_5 (UpSampling3 (None, 28, 28, 1)         0         \n",
      "_________________________________________________________________\n",
      "conv2d_60 (Conv2D)           (None, 28, 28, 64)        640       \n",
      "_________________________________________________________________\n",
      "batch_normalization_70 (Batc (None, 28, 28, 64)        112       \n",
      "_________________________________________________________________\n",
      "conv2d_61 (Conv2D)           (None, 28, 28, 64)        36928     \n",
      "_________________________________________________________________\n",
      "batch_normalization_71 (Batc (None, 28, 28, 64)        112       \n",
      "_________________________________________________________________\n",
      "max_pooling2d_20 (MaxPooling (None, 14, 14, 64)        0         \n",
      "_________________________________________________________________\n",
      "dropout_20 (Dropout)         (None, 14, 14, 64)        0         \n",
      "_________________________________________________________________\n",
      "conv2d_62 (Conv2D)           (None, 14, 14, 128)       73856     \n",
      "_________________________________________________________________\n",
      "batch_normalization_72 (Batc (None, 14, 14, 128)       56        \n",
      "_________________________________________________________________\n",
      "conv2d_63 (Conv2D)           (None, 14, 14, 128)       147584    \n",
      "_________________________________________________________________\n",
      "batch_normalization_73 (Batc (None, 14, 14, 128)       56        \n",
      "_________________________________________________________________\n",
      "max_pooling2d_21 (MaxPooling (None, 7, 7, 128)         0         \n",
      "_________________________________________________________________\n",
      "dropout_21 (Dropout)         (None, 7, 7, 128)         0         \n",
      "_________________________________________________________________\n",
      "conv2d_64 (Conv2D)           (None, 7, 7, 256)         295168    \n",
      "_________________________________________________________________\n",
      "batch_normalization_74 (Batc (None, 7, 7, 256)         28        \n",
      "_________________________________________________________________\n",
      "conv2d_65 (Conv2D)           (None, 7, 7, 256)         590080    \n",
      "_________________________________________________________________\n",
      "batch_normalization_75 (Batc (None, 7, 7, 256)         28        \n",
      "_________________________________________________________________\n",
      "conv2d_66 (Conv2D)           (None, 7, 7, 256)         590080    \n",
      "_________________________________________________________________\n",
      "batch_normalization_76 (Batc (None, 7, 7, 256)         28        \n",
      "_________________________________________________________________\n",
      "conv2d_67 (Conv2D)           (None, 7, 7, 256)         590080    \n",
      "_________________________________________________________________\n",
      "batch_normalization_77 (Batc (None, 7, 7, 256)         28        \n",
      "_________________________________________________________________\n",
      "max_pooling2d_22 (MaxPooling (None, 3, 3, 256)         0         \n",
      "_________________________________________________________________\n",
      "dropout_22 (Dropout)         (None, 3, 3, 256)         0         \n",
      "_________________________________________________________________\n",
      "conv2d_68 (Conv2D)           (None, 3, 3, 512)         1180160   \n",
      "_________________________________________________________________\n",
      "batch_normalization_78 (Batc (None, 3, 3, 512)         12        \n",
      "_________________________________________________________________\n",
      "conv2d_69 (Conv2D)           (None, 3, 3, 512)         2359808   \n",
      "_________________________________________________________________\n",
      "batch_normalization_79 (Batc (None, 3, 3, 512)         12        \n",
      "_________________________________________________________________\n",
      "conv2d_70 (Conv2D)           (None, 3, 3, 512)         2359808   \n",
      "_________________________________________________________________\n",
      "batch_normalization_80 (Batc (None, 3, 3, 512)         12        \n",
      "_________________________________________________________________\n",
      "conv2d_71 (Conv2D)           (None, 3, 3, 512)         2359808   \n",
      "_________________________________________________________________\n",
      "batch_normalization_81 (Batc (None, 3, 3, 512)         12        \n",
      "_________________________________________________________________\n",
      "max_pooling2d_23 (MaxPooling (None, 1, 1, 512)         0         \n",
      "_________________________________________________________________\n",
      "dropout_23 (Dropout)         (None, 1, 1, 512)         0         \n",
      "_________________________________________________________________\n",
      "flatten_5 (Flatten)          (None, 512)               0         \n",
      "_________________________________________________________________\n",
      "dense_15 (Dense)             (None, 512)               262656    \n",
      "_________________________________________________________________\n",
      "batch_normalization_82 (Batc (None, 512)               2048      \n",
      "_________________________________________________________________\n",
      "dense_16 (Dense)             (None, 512)               262656    \n",
      "_________________________________________________________________\n",
      "batch_normalization_83 (Batc (None, 512)               2048      \n",
      "_________________________________________________________________\n",
      "dense_17 (Dense)             (None, 10)                5130      \n",
      "=================================================================\n",
      "Total params: 11,119,034\n",
      "Trainable params: 11,116,738\n",
      "Non-trainable params: 2,296\n",
      "_________________________________________________________________\n",
      "Epoch 1/200\n",
      "15/15 [==============================] - 43s 2s/step - loss: 2.1510 - accuracy: 0.3452 - val_loss: 1.9289 - val_accuracy: 0.2408\n",
      "Epoch 2/200\n",
      "15/15 [==============================] - 2s 118ms/step - loss: 0.7127 - accuracy: 0.7297 - val_loss: 3.1997 - val_accuracy: 0.1334\n",
      "Epoch 3/200\n",
      "15/15 [==============================] - 2s 118ms/step - loss: 0.5751 - accuracy: 0.7838 - val_loss: 3.2515 - val_accuracy: 0.0993\n",
      "Epoch 4/200\n",
      "15/15 [==============================] - 2s 117ms/step - loss: 0.5137 - accuracy: 0.8082 - val_loss: 3.0022 - val_accuracy: 0.1066\n",
      "Epoch 5/200\n",
      "15/15 [==============================] - 2s 121ms/step - loss: 0.4632 - accuracy: 0.8268 - val_loss: 2.8594 - val_accuracy: 0.1374\n",
      "Epoch 6/200\n",
      "15/15 [==============================] - 2s 118ms/step - loss: 0.4223 - accuracy: 0.8418 - val_loss: 2.6877 - val_accuracy: 0.1831\n",
      "Epoch 7/200\n",
      "15/15 [==============================] - 2s 118ms/step - loss: 0.3866 - accuracy: 0.8551 - val_loss: 3.4796 - val_accuracy: 0.1733\n",
      "Epoch 8/200\n",
      "15/15 [==============================] - 2s 118ms/step - loss: 0.3558 - accuracy: 0.8671 - val_loss: 3.2986 - val_accuracy: 0.0986\n",
      "Epoch 9/200\n",
      "15/15 [==============================] - 2s 119ms/step - loss: 0.3256 - accuracy: 0.8777 - val_loss: 2.9048 - val_accuracy: 0.0336\n",
      "Epoch 10/200\n",
      "15/15 [==============================] - 2s 118ms/step - loss: 0.3046 - accuracy: 0.8869 - val_loss: 2.8676 - val_accuracy: 0.1024\n",
      "Epoch 11/200\n",
      "15/15 [==============================] - 2s 118ms/step - loss: 0.2804 - accuracy: 0.8984 - val_loss: 2.6008 - val_accuracy: 0.2020\n",
      "Epoch 12/200\n",
      "15/15 [==============================] - 2s 116ms/step - loss: 0.2656 - accuracy: 0.9021 - val_loss: 2.3834 - val_accuracy: 0.3154\n",
      "Epoch 13/200\n",
      "15/15 [==============================] - 2s 117ms/step - loss: 0.2503 - accuracy: 0.9090 - val_loss: 2.3958 - val_accuracy: 0.2610\n",
      "Epoch 14/200\n",
      "15/15 [==============================] - 2s 142ms/step - loss: 0.2335 - accuracy: 0.9138 - val_loss: 2.7149 - val_accuracy: 0.1264\n",
      "Epoch 15/200\n",
      "15/15 [==============================] - 2s 117ms/step - loss: 0.2260 - accuracy: 0.9166 - val_loss: 2.6027 - val_accuracy: 0.2435\n",
      "Epoch 16/200\n",
      "15/15 [==============================] - 2s 118ms/step - loss: 0.2164 - accuracy: 0.9185 - val_loss: 2.6427 - val_accuracy: 0.1974\n",
      "Epoch 17/200\n",
      "15/15 [==============================] - 2s 117ms/step - loss: 0.2015 - accuracy: 0.9257 - val_loss: 2.6884 - val_accuracy: 0.3071\n",
      "Epoch 18/200\n",
      "15/15 [==============================] - 2s 122ms/step - loss: 0.1901 - accuracy: 0.9298 - val_loss: 2.4228 - val_accuracy: 0.2650\n",
      "Epoch 19/200\n",
      "15/15 [==============================] - 2s 119ms/step - loss: 0.1850 - accuracy: 0.9304 - val_loss: 2.7339 - val_accuracy: 0.2544\n",
      "Epoch 20/200\n",
      "15/15 [==============================] - 2s 117ms/step - loss: 0.1838 - accuracy: 0.9307 - val_loss: 1.5574 - val_accuracy: 0.4418\n",
      "Epoch 21/200\n",
      "15/15 [==============================] - 2s 117ms/step - loss: 0.1733 - accuracy: 0.9377 - val_loss: 1.3369 - val_accuracy: 0.5000\n",
      "Epoch 22/200\n",
      "15/15 [==============================] - 2s 118ms/step - loss: 0.1621 - accuracy: 0.9396 - val_loss: 1.7079 - val_accuracy: 0.4620\n",
      "Epoch 23/200\n",
      "15/15 [==============================] - 2s 115ms/step - loss: 0.1530 - accuracy: 0.9446 - val_loss: 1.3987 - val_accuracy: 0.5229\n",
      "Epoch 24/200\n",
      "15/15 [==============================] - 2s 116ms/step - loss: 0.1448 - accuracy: 0.9463 - val_loss: 1.5279 - val_accuracy: 0.5093\n",
      "Epoch 25/200\n",
      "15/15 [==============================] - 2s 117ms/step - loss: 0.1431 - accuracy: 0.9469 - val_loss: 1.1812 - val_accuracy: 0.5830\n",
      "Epoch 26/200\n",
      "15/15 [==============================] - 2s 119ms/step - loss: 0.1362 - accuracy: 0.9492 - val_loss: 1.0448 - val_accuracy: 0.6384\n",
      "Epoch 27/200\n",
      "15/15 [==============================] - 2s 118ms/step - loss: 0.1271 - accuracy: 0.9524 - val_loss: 0.7727 - val_accuracy: 0.7378\n",
      "Epoch 28/200\n",
      "15/15 [==============================] - 2s 120ms/step - loss: 0.1249 - accuracy: 0.9523 - val_loss: 0.9178 - val_accuracy: 0.6991\n",
      "Epoch 29/200\n",
      "15/15 [==============================] - 2s 118ms/step - loss: 0.1132 - accuracy: 0.9575 - val_loss: 0.6253 - val_accuracy: 0.7851\n",
      "Epoch 30/200\n",
      "15/15 [==============================] - 2s 118ms/step - loss: 0.1135 - accuracy: 0.9577 - val_loss: 0.5432 - val_accuracy: 0.8205\n",
      "Epoch 31/200\n",
      "15/15 [==============================] - 2s 118ms/step - loss: 0.1041 - accuracy: 0.9607 - val_loss: 0.6760 - val_accuracy: 0.7851\n",
      "Epoch 32/200\n",
      "15/15 [==============================] - 2s 117ms/step - loss: 0.1083 - accuracy: 0.9605 - val_loss: 0.4196 - val_accuracy: 0.8574\n",
      "Epoch 33/200\n",
      "15/15 [==============================] - 2s 121ms/step - loss: 0.1012 - accuracy: 0.9619 - val_loss: 0.4294 - val_accuracy: 0.8571\n",
      "Epoch 34/200\n",
      "15/15 [==============================] - 2s 116ms/step - loss: 0.0964 - accuracy: 0.9634 - val_loss: 0.4638 - val_accuracy: 0.8594\n",
      "Epoch 35/200\n",
      "15/15 [==============================] - 2s 118ms/step - loss: 0.0908 - accuracy: 0.9666 - val_loss: 0.3566 - val_accuracy: 0.8914\n",
      "Epoch 36/200\n",
      "15/15 [==============================] - 2s 117ms/step - loss: 0.0860 - accuracy: 0.9673 - val_loss: 0.3918 - val_accuracy: 0.8836\n",
      "Epoch 37/200\n",
      "15/15 [==============================] - 2s 118ms/step - loss: 0.0811 - accuracy: 0.9698 - val_loss: 0.3042 - val_accuracy: 0.9071\n",
      "Epoch 38/200\n",
      "15/15 [==============================] - 2s 115ms/step - loss: 0.0782 - accuracy: 0.9714 - val_loss: 0.3153 - val_accuracy: 0.9046\n",
      "Epoch 39/200\n",
      "15/15 [==============================] - 2s 117ms/step - loss: 0.0728 - accuracy: 0.9733 - val_loss: 0.3423 - val_accuracy: 0.9138\n",
      "Epoch 40/200\n",
      "15/15 [==============================] - 2s 117ms/step - loss: 0.0714 - accuracy: 0.9729 - val_loss: 0.2839 - val_accuracy: 0.9151\n",
      "Epoch 41/200\n",
      "15/15 [==============================] - 2s 117ms/step - loss: 0.0692 - accuracy: 0.9736 - val_loss: 0.2826 - val_accuracy: 0.9198\n",
      "Epoch 42/200\n",
      "15/15 [==============================] - 2s 119ms/step - loss: 0.0623 - accuracy: 0.9767 - val_loss: 0.2803 - val_accuracy: 0.9234\n",
      "Epoch 43/200\n",
      "15/15 [==============================] - 2s 118ms/step - loss: 0.0587 - accuracy: 0.9777 - val_loss: 0.2826 - val_accuracy: 0.9265\n",
      "Epoch 44/200\n",
      "15/15 [==============================] - 2s 117ms/step - loss: 0.0602 - accuracy: 0.9778 - val_loss: 0.2529 - val_accuracy: 0.9311\n",
      "Epoch 45/200\n",
      "15/15 [==============================] - 2s 117ms/step - loss: 0.0587 - accuracy: 0.9788 - val_loss: 0.3087 - val_accuracy: 0.9240\n",
      "Epoch 46/200\n",
      "15/15 [==============================] - 2s 117ms/step - loss: 0.0528 - accuracy: 0.9802 - val_loss: 0.2829 - val_accuracy: 0.9273\n",
      "Epoch 47/200\n",
      "15/15 [==============================] - 2s 118ms/step - loss: 0.0489 - accuracy: 0.9817 - val_loss: 0.2978 - val_accuracy: 0.9240\n",
      "Epoch 48/200\n",
      "15/15 [==============================] - 2s 117ms/step - loss: 0.0556 - accuracy: 0.9788 - val_loss: 0.3086 - val_accuracy: 0.9288\n",
      "Epoch 49/200\n",
      "15/15 [==============================] - 2s 118ms/step - loss: 0.0455 - accuracy: 0.9830 - val_loss: 0.2880 - val_accuracy: 0.9298\n",
      "Epoch 50/200\n",
      "15/15 [==============================] - 2s 119ms/step - loss: 0.0424 - accuracy: 0.9843 - val_loss: 0.2999 - val_accuracy: 0.9345\n",
      "Epoch 51/200\n",
      "15/15 [==============================] - 2s 119ms/step - loss: 0.0434 - accuracy: 0.9845 - val_loss: 0.2772 - val_accuracy: 0.9354\n",
      "Epoch 52/200\n",
      "15/15 [==============================] - 2s 121ms/step - loss: 0.0379 - accuracy: 0.9865 - val_loss: 0.2997 - val_accuracy: 0.9341\n",
      "Epoch 53/200\n",
      "15/15 [==============================] - 2s 122ms/step - loss: 0.0342 - accuracy: 0.9877 - val_loss: 0.3029 - val_accuracy: 0.9335\n",
      "Epoch 54/200\n",
      "15/15 [==============================] - 2s 119ms/step - loss: 0.0346 - accuracy: 0.9877 - val_loss: 0.2916 - val_accuracy: 0.9353\n",
      "Epoch 55/200\n",
      "15/15 [==============================] - 2s 117ms/step - loss: 0.0348 - accuracy: 0.9875 - val_loss: 0.3180 - val_accuracy: 0.9343\n",
      "Epoch 56/200\n",
      "15/15 [==============================] - 2s 118ms/step - loss: 0.0336 - accuracy: 0.9881 - val_loss: 0.3493 - val_accuracy: 0.9284\n",
      "Epoch 57/200\n",
      "15/15 [==============================] - 2s 116ms/step - loss: 0.0314 - accuracy: 0.9884 - val_loss: 0.3542 - val_accuracy: 0.9300\n",
      "Epoch 58/200\n",
      "15/15 [==============================] - 2s 159ms/step - loss: 0.0337 - accuracy: 0.9873 - val_loss: 0.3263 - val_accuracy: 0.9330\n",
      "Epoch 59/200\n",
      "15/15 [==============================] - 2s 118ms/step - loss: 0.0310 - accuracy: 0.9886 - val_loss: 0.3227 - val_accuracy: 0.9364\n",
      "Epoch 60/200\n",
      "15/15 [==============================] - 2s 119ms/step - loss: 0.0268 - accuracy: 0.9900 - val_loss: 0.3243 - val_accuracy: 0.9330\n",
      "Epoch 61/200\n",
      "15/15 [==============================] - 2s 118ms/step - loss: 0.0273 - accuracy: 0.9905 - val_loss: 0.3317 - val_accuracy: 0.9344\n",
      "Epoch 62/200\n",
      "15/15 [==============================] - 2s 118ms/step - loss: 0.0256 - accuracy: 0.9909 - val_loss: 0.3586 - val_accuracy: 0.9269\n",
      "Epoch 63/200\n",
      "15/15 [==============================] - 2s 116ms/step - loss: 0.0256 - accuracy: 0.9906 - val_loss: 0.3653 - val_accuracy: 0.9314\n",
      "Epoch 64/200\n",
      "15/15 [==============================] - 2s 118ms/step - loss: 0.0224 - accuracy: 0.9919 - val_loss: 0.3441 - val_accuracy: 0.9323\n"
     ]
    }
   ],
   "source": [
    "resolver = tf.distribute.cluster_resolver.TPUClusterResolver(tpu='grpc://' + os.environ['COLAB_TPU_ADDR'])\n",
    "tf.config.experimental_connect_to_cluster(resolver)\n",
    "tf.tpu.experimental.initialize_tpu_system(resolver)\n",
    "strategy = tf.distribute.TPUStrategy(resolver)\n",
    "\n",
    "with strategy.scope():\n",
    "    model = factory.createMiniVGGModel(64)\n",
    "    history = train_model(model)"
   ]
  },
  {
   "cell_type": "code",
   "execution_count": null,
   "metadata": {
    "colab": {
     "base_uri": "https://localhost:8080/"
    },
    "id": "mUXIvqqEJq13",
    "outputId": "4b115a72-b43e-4424-8c01-3fc0c031ef3f"
   },
   "outputs": [
    {
     "name": "stdout",
     "output_type": "stream",
     "text": [
      "1/1 [==============================] - 2s 2s/step - loss: 0.2600 - accuracy: 0.9250\n"
     ]
    }
   ],
   "source": [
    "histories['VGG19_64'] = (history, model.evaluate(x_test_1, y_test_1, BATCH_SIZE))"
   ]
  },
  {
   "cell_type": "markdown",
   "metadata": {
    "id": "AjEBKzV5AcqB"
   },
   "source": [
    "---"
   ]
  },
  {
   "cell_type": "code",
   "execution_count": null,
   "metadata": {
    "colab": {
     "base_uri": "https://localhost:8080/"
    },
    "id": "HkpzBCsvAY-c",
    "outputId": "c5827f08-c4a9-4b3e-8062-cfac1cccc354"
   },
   "outputs": [
    {
     "name": "stdout",
     "output_type": "stream",
     "text": [
      "WARNING:tensorflow:TPU system grpc://10.31.158.74:8470 has already been initialized. Reinitializing the TPU can cause previously created variables on TPU to be lost.\n"
     ]
    },
    {
     "name": "stderr",
     "output_type": "stream",
     "text": [
      "WARNING:tensorflow:TPU system grpc://10.31.158.74:8470 has already been initialized. Reinitializing the TPU can cause previously created variables on TPU to be lost.\n"
     ]
    },
    {
     "name": "stdout",
     "output_type": "stream",
     "text": [
      "INFO:tensorflow:Initializing the TPU system: grpc://10.31.158.74:8470\n"
     ]
    },
    {
     "name": "stderr",
     "output_type": "stream",
     "text": [
      "INFO:tensorflow:Initializing the TPU system: grpc://10.31.158.74:8470\n"
     ]
    },
    {
     "name": "stdout",
     "output_type": "stream",
     "text": [
      "INFO:tensorflow:Clearing out eager caches\n"
     ]
    },
    {
     "name": "stderr",
     "output_type": "stream",
     "text": [
      "INFO:tensorflow:Clearing out eager caches\n"
     ]
    },
    {
     "name": "stdout",
     "output_type": "stream",
     "text": [
      "INFO:tensorflow:Finished initializing TPU system.\n"
     ]
    },
    {
     "name": "stderr",
     "output_type": "stream",
     "text": [
      "INFO:tensorflow:Finished initializing TPU system.\n"
     ]
    },
    {
     "name": "stdout",
     "output_type": "stream",
     "text": [
      "INFO:tensorflow:Found TPU system:\n"
     ]
    },
    {
     "name": "stderr",
     "output_type": "stream",
     "text": [
      "INFO:tensorflow:Found TPU system:\n"
     ]
    },
    {
     "name": "stdout",
     "output_type": "stream",
     "text": [
      "INFO:tensorflow:*** Num TPU Cores: 8\n"
     ]
    },
    {
     "name": "stderr",
     "output_type": "stream",
     "text": [
      "INFO:tensorflow:*** Num TPU Cores: 8\n"
     ]
    },
    {
     "name": "stdout",
     "output_type": "stream",
     "text": [
      "INFO:tensorflow:*** Num TPU Workers: 1\n"
     ]
    },
    {
     "name": "stderr",
     "output_type": "stream",
     "text": [
      "INFO:tensorflow:*** Num TPU Workers: 1\n"
     ]
    },
    {
     "name": "stdout",
     "output_type": "stream",
     "text": [
      "INFO:tensorflow:*** Num TPU Cores Per Worker: 8\n"
     ]
    },
    {
     "name": "stderr",
     "output_type": "stream",
     "text": [
      "INFO:tensorflow:*** Num TPU Cores Per Worker: 8\n"
     ]
    },
    {
     "name": "stdout",
     "output_type": "stream",
     "text": [
      "INFO:tensorflow:*** Available Device: _DeviceAttributes(/job:localhost/replica:0/task:0/device:CPU:0, CPU, 0, 0)\n"
     ]
    },
    {
     "name": "stderr",
     "output_type": "stream",
     "text": [
      "INFO:tensorflow:*** Available Device: _DeviceAttributes(/job:localhost/replica:0/task:0/device:CPU:0, CPU, 0, 0)\n"
     ]
    },
    {
     "name": "stdout",
     "output_type": "stream",
     "text": [
      "INFO:tensorflow:*** Available Device: _DeviceAttributes(/job:worker/replica:0/task:0/device:CPU:0, CPU, 0, 0)\n"
     ]
    },
    {
     "name": "stderr",
     "output_type": "stream",
     "text": [
      "INFO:tensorflow:*** Available Device: _DeviceAttributes(/job:worker/replica:0/task:0/device:CPU:0, CPU, 0, 0)\n"
     ]
    },
    {
     "name": "stdout",
     "output_type": "stream",
     "text": [
      "INFO:tensorflow:*** Available Device: _DeviceAttributes(/job:worker/replica:0/task:0/device:TPU:0, TPU, 0, 0)\n"
     ]
    },
    {
     "name": "stderr",
     "output_type": "stream",
     "text": [
      "INFO:tensorflow:*** Available Device: _DeviceAttributes(/job:worker/replica:0/task:0/device:TPU:0, TPU, 0, 0)\n"
     ]
    },
    {
     "name": "stdout",
     "output_type": "stream",
     "text": [
      "INFO:tensorflow:*** Available Device: _DeviceAttributes(/job:worker/replica:0/task:0/device:TPU:1, TPU, 0, 0)\n"
     ]
    },
    {
     "name": "stderr",
     "output_type": "stream",
     "text": [
      "INFO:tensorflow:*** Available Device: _DeviceAttributes(/job:worker/replica:0/task:0/device:TPU:1, TPU, 0, 0)\n"
     ]
    },
    {
     "name": "stdout",
     "output_type": "stream",
     "text": [
      "INFO:tensorflow:*** Available Device: _DeviceAttributes(/job:worker/replica:0/task:0/device:TPU:2, TPU, 0, 0)\n"
     ]
    },
    {
     "name": "stderr",
     "output_type": "stream",
     "text": [
      "INFO:tensorflow:*** Available Device: _DeviceAttributes(/job:worker/replica:0/task:0/device:TPU:2, TPU, 0, 0)\n"
     ]
    },
    {
     "name": "stdout",
     "output_type": "stream",
     "text": [
      "INFO:tensorflow:*** Available Device: _DeviceAttributes(/job:worker/replica:0/task:0/device:TPU:3, TPU, 0, 0)\n"
     ]
    },
    {
     "name": "stderr",
     "output_type": "stream",
     "text": [
      "INFO:tensorflow:*** Available Device: _DeviceAttributes(/job:worker/replica:0/task:0/device:TPU:3, TPU, 0, 0)\n"
     ]
    },
    {
     "name": "stdout",
     "output_type": "stream",
     "text": [
      "INFO:tensorflow:*** Available Device: _DeviceAttributes(/job:worker/replica:0/task:0/device:TPU:4, TPU, 0, 0)\n"
     ]
    },
    {
     "name": "stderr",
     "output_type": "stream",
     "text": [
      "INFO:tensorflow:*** Available Device: _DeviceAttributes(/job:worker/replica:0/task:0/device:TPU:4, TPU, 0, 0)\n"
     ]
    },
    {
     "name": "stdout",
     "output_type": "stream",
     "text": [
      "INFO:tensorflow:*** Available Device: _DeviceAttributes(/job:worker/replica:0/task:0/device:TPU:5, TPU, 0, 0)\n"
     ]
    },
    {
     "name": "stderr",
     "output_type": "stream",
     "text": [
      "INFO:tensorflow:*** Available Device: _DeviceAttributes(/job:worker/replica:0/task:0/device:TPU:5, TPU, 0, 0)\n"
     ]
    },
    {
     "name": "stdout",
     "output_type": "stream",
     "text": [
      "INFO:tensorflow:*** Available Device: _DeviceAttributes(/job:worker/replica:0/task:0/device:TPU:6, TPU, 0, 0)\n"
     ]
    },
    {
     "name": "stderr",
     "output_type": "stream",
     "text": [
      "INFO:tensorflow:*** Available Device: _DeviceAttributes(/job:worker/replica:0/task:0/device:TPU:6, TPU, 0, 0)\n"
     ]
    },
    {
     "name": "stdout",
     "output_type": "stream",
     "text": [
      "INFO:tensorflow:*** Available Device: _DeviceAttributes(/job:worker/replica:0/task:0/device:TPU:7, TPU, 0, 0)\n"
     ]
    },
    {
     "name": "stderr",
     "output_type": "stream",
     "text": [
      "INFO:tensorflow:*** Available Device: _DeviceAttributes(/job:worker/replica:0/task:0/device:TPU:7, TPU, 0, 0)\n"
     ]
    },
    {
     "name": "stdout",
     "output_type": "stream",
     "text": [
      "INFO:tensorflow:*** Available Device: _DeviceAttributes(/job:worker/replica:0/task:0/device:TPU_SYSTEM:0, TPU_SYSTEM, 0, 0)\n"
     ]
    },
    {
     "name": "stderr",
     "output_type": "stream",
     "text": [
      "INFO:tensorflow:*** Available Device: _DeviceAttributes(/job:worker/replica:0/task:0/device:TPU_SYSTEM:0, TPU_SYSTEM, 0, 0)\n"
     ]
    },
    {
     "name": "stdout",
     "output_type": "stream",
     "text": [
      "INFO:tensorflow:*** Available Device: _DeviceAttributes(/job:worker/replica:0/task:0/device:XLA_CPU:0, XLA_CPU, 0, 0)\n"
     ]
    },
    {
     "name": "stderr",
     "output_type": "stream",
     "text": [
      "INFO:tensorflow:*** Available Device: _DeviceAttributes(/job:worker/replica:0/task:0/device:XLA_CPU:0, XLA_CPU, 0, 0)\n"
     ]
    },
    {
     "name": "stdout",
     "output_type": "stream",
     "text": [
      "Model: \"sequential_6\"\n",
      "_________________________________________________________________\n",
      "Layer (type)                 Output Shape              Param #   \n",
      "=================================================================\n",
      "up_sampling3d_6 (UpSampling3 (None, 28, 28, 1)         0         \n",
      "_________________________________________________________________\n",
      "conv2d_72 (Conv2D)           (None, 28, 28, 128)       1280      \n",
      "_________________________________________________________________\n",
      "batch_normalization_84 (Batc (None, 28, 28, 128)       112       \n",
      "_________________________________________________________________\n",
      "conv2d_73 (Conv2D)           (None, 28, 28, 128)       147584    \n",
      "_________________________________________________________________\n",
      "batch_normalization_85 (Batc (None, 28, 28, 128)       112       \n",
      "_________________________________________________________________\n",
      "max_pooling2d_24 (MaxPooling (None, 14, 14, 128)       0         \n",
      "_________________________________________________________________\n",
      "dropout_24 (Dropout)         (None, 14, 14, 128)       0         \n",
      "_________________________________________________________________\n",
      "conv2d_74 (Conv2D)           (None, 14, 14, 256)       295168    \n",
      "_________________________________________________________________\n",
      "batch_normalization_86 (Batc (None, 14, 14, 256)       56        \n",
      "_________________________________________________________________\n",
      "conv2d_75 (Conv2D)           (None, 14, 14, 256)       590080    \n",
      "_________________________________________________________________\n",
      "batch_normalization_87 (Batc (None, 14, 14, 256)       56        \n",
      "_________________________________________________________________\n",
      "max_pooling2d_25 (MaxPooling (None, 7, 7, 256)         0         \n",
      "_________________________________________________________________\n",
      "dropout_25 (Dropout)         (None, 7, 7, 256)         0         \n",
      "_________________________________________________________________\n",
      "conv2d_76 (Conv2D)           (None, 7, 7, 512)         1180160   \n",
      "_________________________________________________________________\n",
      "batch_normalization_88 (Batc (None, 7, 7, 512)         28        \n",
      "_________________________________________________________________\n",
      "conv2d_77 (Conv2D)           (None, 7, 7, 512)         2359808   \n",
      "_________________________________________________________________\n",
      "batch_normalization_89 (Batc (None, 7, 7, 512)         28        \n",
      "_________________________________________________________________\n",
      "conv2d_78 (Conv2D)           (None, 7, 7, 512)         2359808   \n",
      "_________________________________________________________________\n",
      "batch_normalization_90 (Batc (None, 7, 7, 512)         28        \n",
      "_________________________________________________________________\n",
      "conv2d_79 (Conv2D)           (None, 7, 7, 512)         2359808   \n",
      "_________________________________________________________________\n",
      "batch_normalization_91 (Batc (None, 7, 7, 512)         28        \n",
      "_________________________________________________________________\n",
      "max_pooling2d_26 (MaxPooling (None, 3, 3, 512)         0         \n",
      "_________________________________________________________________\n",
      "dropout_26 (Dropout)         (None, 3, 3, 512)         0         \n",
      "_________________________________________________________________\n",
      "conv2d_80 (Conv2D)           (None, 3, 3, 1024)        4719616   \n",
      "_________________________________________________________________\n",
      "batch_normalization_92 (Batc (None, 3, 3, 1024)        12        \n",
      "_________________________________________________________________\n",
      "conv2d_81 (Conv2D)           (None, 3, 3, 1024)        9438208   \n",
      "_________________________________________________________________\n",
      "batch_normalization_93 (Batc (None, 3, 3, 1024)        12        \n",
      "_________________________________________________________________\n",
      "conv2d_82 (Conv2D)           (None, 3, 3, 1024)        9438208   \n",
      "_________________________________________________________________\n",
      "batch_normalization_94 (Batc (None, 3, 3, 1024)        12        \n",
      "_________________________________________________________________\n",
      "conv2d_83 (Conv2D)           (None, 3, 3, 1024)        9438208   \n",
      "_________________________________________________________________\n",
      "batch_normalization_95 (Batc (None, 3, 3, 1024)        12        \n",
      "_________________________________________________________________\n",
      "max_pooling2d_27 (MaxPooling (None, 1, 1, 1024)        0         \n",
      "_________________________________________________________________\n",
      "dropout_27 (Dropout)         (None, 1, 1, 1024)        0         \n",
      "_________________________________________________________________\n",
      "flatten_6 (Flatten)          (None, 1024)              0         \n",
      "_________________________________________________________________\n",
      "dense_18 (Dense)             (None, 1024)              1049600   \n",
      "_________________________________________________________________\n",
      "batch_normalization_96 (Batc (None, 1024)              4096      \n",
      "_________________________________________________________________\n",
      "dense_19 (Dense)             (None, 1024)              1049600   \n",
      "_________________________________________________________________\n",
      "batch_normalization_97 (Batc (None, 1024)              4096      \n",
      "_________________________________________________________________\n",
      "dense_20 (Dense)             (None, 10)                10250     \n",
      "=================================================================\n",
      "Total params: 44,446,074\n",
      "Trainable params: 44,441,730\n",
      "Non-trainable params: 4,344\n",
      "_________________________________________________________________\n",
      "Epoch 1/200\n",
      "15/15 [==============================] - 58s 2s/step - loss: 3.3322 - accuracy: 0.2095 - val_loss: 6657.1353 - val_accuracy: 0.1040\n",
      "Epoch 2/200\n",
      "15/15 [==============================] - 4s 237ms/step - loss: 1.2079 - accuracy: 0.5408 - val_loss: 7004.7500 - val_accuracy: 0.1011\n",
      "Epoch 3/200\n",
      "15/15 [==============================] - 4s 238ms/step - loss: 0.9198 - accuracy: 0.6505 - val_loss: 1557.5841 - val_accuracy: 0.1011\n",
      "Epoch 4/200\n",
      "15/15 [==============================] - 4s 236ms/step - loss: 0.8217 - accuracy: 0.6896 - val_loss: 696.1893 - val_accuracy: 0.1011\n",
      "Epoch 5/200\n",
      "15/15 [==============================] - 4s 237ms/step - loss: 0.7349 - accuracy: 0.7264 - val_loss: 223.7329 - val_accuracy: 0.1011\n",
      "Epoch 6/200\n",
      "15/15 [==============================] - 4s 237ms/step - loss: 0.6951 - accuracy: 0.7389 - val_loss: 70.2052 - val_accuracy: 0.1011\n",
      "Epoch 7/200\n",
      "15/15 [==============================] - 4s 238ms/step - loss: 0.6340 - accuracy: 0.7631 - val_loss: 30.7393 - val_accuracy: 0.1011\n",
      "Epoch 8/200\n",
      "15/15 [==============================] - 4s 238ms/step - loss: 0.6020 - accuracy: 0.7808 - val_loss: 13.4191 - val_accuracy: 0.1011\n",
      "Epoch 9/200\n",
      "15/15 [==============================] - 3s 236ms/step - loss: 0.5553 - accuracy: 0.7993 - val_loss: 6.7049 - val_accuracy: 0.1011\n",
      "Epoch 10/200\n",
      "15/15 [==============================] - 4s 237ms/step - loss: 0.5225 - accuracy: 0.8106 - val_loss: 4.7010 - val_accuracy: 0.1186\n",
      "Epoch 11/200\n",
      "15/15 [==============================] - 4s 238ms/step - loss: 0.4806 - accuracy: 0.8259 - val_loss: 4.8200 - val_accuracy: 0.0996\n",
      "Epoch 12/200\n",
      "15/15 [==============================] - 4s 238ms/step - loss: 0.4415 - accuracy: 0.8358 - val_loss: 4.7842 - val_accuracy: 0.1304\n",
      "Epoch 13/200\n",
      "15/15 [==============================] - 4s 237ms/step - loss: 0.4202 - accuracy: 0.8438 - val_loss: 4.8230 - val_accuracy: 0.1004\n",
      "Epoch 14/200\n",
      "15/15 [==============================] - 4s 240ms/step - loss: 0.3918 - accuracy: 0.8533 - val_loss: 3.6446 - val_accuracy: 0.2834\n",
      "Epoch 15/200\n",
      "15/15 [==============================] - 4s 237ms/step - loss: 0.3740 - accuracy: 0.8608 - val_loss: 6.5257 - val_accuracy: 0.1016\n",
      "Epoch 16/200\n",
      "15/15 [==============================] - 4s 238ms/step - loss: 0.3541 - accuracy: 0.8697 - val_loss: 8.5842 - val_accuracy: 0.0986\n",
      "Epoch 17/200\n",
      "15/15 [==============================] - 4s 241ms/step - loss: 0.3295 - accuracy: 0.8789 - val_loss: 8.0173 - val_accuracy: 0.0986\n",
      "Epoch 18/200\n",
      "15/15 [==============================] - 4s 240ms/step - loss: 0.3099 - accuracy: 0.8841 - val_loss: 7.5043 - val_accuracy: 0.0986\n",
      "Epoch 19/200\n",
      "15/15 [==============================] - 4s 239ms/step - loss: 0.2842 - accuracy: 0.8968 - val_loss: 7.3609 - val_accuracy: 0.0986\n",
      "Epoch 20/200\n",
      "15/15 [==============================] - 4s 238ms/step - loss: 0.2846 - accuracy: 0.8956 - val_loss: 7.7073 - val_accuracy: 0.0986\n",
      "Epoch 21/200\n",
      "15/15 [==============================] - 4s 238ms/step - loss: 0.2732 - accuracy: 0.8992 - val_loss: 8.3935 - val_accuracy: 0.0988\n",
      "Epoch 22/200\n",
      "15/15 [==============================] - 4s 238ms/step - loss: 0.2452 - accuracy: 0.9100 - val_loss: 9.0512 - val_accuracy: 0.0986\n",
      "Epoch 23/200\n",
      "15/15 [==============================] - 4s 237ms/step - loss: 0.2369 - accuracy: 0.9133 - val_loss: 6.0023 - val_accuracy: 0.1360\n",
      "Epoch 24/200\n",
      "15/15 [==============================] - 4s 237ms/step - loss: 0.2255 - accuracy: 0.9169 - val_loss: 5.8161 - val_accuracy: 0.1300\n",
      "Epoch 25/200\n",
      "15/15 [==============================] - 4s 237ms/step - loss: 0.2121 - accuracy: 0.9227 - val_loss: 5.4429 - val_accuracy: 0.1410\n",
      "Epoch 26/200\n",
      "15/15 [==============================] - 3s 235ms/step - loss: 0.2052 - accuracy: 0.9238 - val_loss: 4.9381 - val_accuracy: 0.1575\n",
      "Epoch 27/200\n",
      "15/15 [==============================] - 3s 236ms/step - loss: 0.1982 - accuracy: 0.9275 - val_loss: 4.0295 - val_accuracy: 0.1421\n",
      "Epoch 28/200\n",
      "15/15 [==============================] - 4s 238ms/step - loss: 0.1893 - accuracy: 0.9312 - val_loss: 3.0618 - val_accuracy: 0.2571\n",
      "Epoch 29/200\n",
      "15/15 [==============================] - 3s 236ms/step - loss: 0.1733 - accuracy: 0.9371 - val_loss: 2.9136 - val_accuracy: 0.2790\n",
      "Epoch 30/200\n",
      "15/15 [==============================] - 3s 236ms/step - loss: 0.1771 - accuracy: 0.9347 - val_loss: 3.0424 - val_accuracy: 0.3558\n",
      "Epoch 31/200\n",
      "15/15 [==============================] - 4s 238ms/step - loss: 0.1591 - accuracy: 0.9423 - val_loss: 2.4224 - val_accuracy: 0.4229\n",
      "Epoch 32/200\n",
      "15/15 [==============================] - 4s 238ms/step - loss: 0.1657 - accuracy: 0.9390 - val_loss: 2.4353 - val_accuracy: 0.4256\n",
      "Epoch 33/200\n",
      "15/15 [==============================] - 3s 236ms/step - loss: 0.1502 - accuracy: 0.9450 - val_loss: 2.3348 - val_accuracy: 0.4863\n",
      "Epoch 34/200\n",
      "15/15 [==============================] - 3s 236ms/step - loss: 0.1417 - accuracy: 0.9491 - val_loss: 1.7696 - val_accuracy: 0.6040\n",
      "Epoch 35/200\n",
      "15/15 [==============================] - 4s 237ms/step - loss: 0.1330 - accuracy: 0.9506 - val_loss: 2.8136 - val_accuracy: 0.4750\n",
      "Epoch 36/200\n",
      "15/15 [==============================] - 4s 239ms/step - loss: 0.1306 - accuracy: 0.9517 - val_loss: 2.0110 - val_accuracy: 0.5296\n",
      "Epoch 37/200\n",
      "15/15 [==============================] - 4s 237ms/step - loss: 0.1247 - accuracy: 0.9553 - val_loss: 1.6681 - val_accuracy: 0.5740\n",
      "Epoch 38/200\n",
      "15/15 [==============================] - 4s 239ms/step - loss: 0.1166 - accuracy: 0.9561 - val_loss: 0.7485 - val_accuracy: 0.7725\n",
      "Epoch 39/200\n",
      "15/15 [==============================] - 4s 239ms/step - loss: 0.1120 - accuracy: 0.9604 - val_loss: 1.1749 - val_accuracy: 0.6928\n",
      "Epoch 40/200\n",
      "15/15 [==============================] - 4s 238ms/step - loss: 0.1039 - accuracy: 0.9618 - val_loss: 0.4995 - val_accuracy: 0.8439\n",
      "Epoch 41/200\n",
      "15/15 [==============================] - 4s 238ms/step - loss: 0.1003 - accuracy: 0.9641 - val_loss: 0.3744 - val_accuracy: 0.8828\n",
      "Epoch 42/200\n",
      "15/15 [==============================] - 4s 237ms/step - loss: 0.1000 - accuracy: 0.9636 - val_loss: 0.4801 - val_accuracy: 0.8599\n",
      "Epoch 43/200\n",
      "15/15 [==============================] - 4s 239ms/step - loss: 0.0922 - accuracy: 0.9670 - val_loss: 0.4138 - val_accuracy: 0.8815\n",
      "Epoch 44/200\n",
      "15/15 [==============================] - 4s 239ms/step - loss: 0.0920 - accuracy: 0.9655 - val_loss: 0.3977 - val_accuracy: 0.8918\n",
      "Epoch 45/200\n",
      "15/15 [==============================] - 4s 242ms/step - loss: 0.0827 - accuracy: 0.9707 - val_loss: 0.4957 - val_accuracy: 0.8635\n",
      "Epoch 46/200\n",
      "15/15 [==============================] - 4s 243ms/step - loss: 0.0828 - accuracy: 0.9701 - val_loss: 0.3649 - val_accuracy: 0.9006\n",
      "Epoch 47/200\n",
      "15/15 [==============================] - 4s 241ms/step - loss: 0.0743 - accuracy: 0.9733 - val_loss: 0.3708 - val_accuracy: 0.8958\n",
      "Epoch 48/200\n",
      "15/15 [==============================] - 4s 242ms/step - loss: 0.0744 - accuracy: 0.9733 - val_loss: 0.3575 - val_accuracy: 0.9068\n",
      "Epoch 49/200\n",
      "15/15 [==============================] - 4s 239ms/step - loss: 0.0736 - accuracy: 0.9732 - val_loss: 0.2856 - val_accuracy: 0.9231\n",
      "Epoch 50/200\n",
      "15/15 [==============================] - 4s 240ms/step - loss: 0.0706 - accuracy: 0.9742 - val_loss: 0.3444 - val_accuracy: 0.9106\n",
      "Epoch 51/200\n",
      "15/15 [==============================] - 4s 240ms/step - loss: 0.0709 - accuracy: 0.9743 - val_loss: 0.3657 - val_accuracy: 0.9085\n",
      "Epoch 52/200\n",
      "15/15 [==============================] - 4s 240ms/step - loss: 0.0614 - accuracy: 0.9781 - val_loss: 0.3272 - val_accuracy: 0.9165\n",
      "Epoch 53/200\n",
      "15/15 [==============================] - 4s 242ms/step - loss: 0.0566 - accuracy: 0.9799 - val_loss: 0.3233 - val_accuracy: 0.9154\n",
      "Epoch 54/200\n",
      "15/15 [==============================] - 4s 240ms/step - loss: 0.0550 - accuracy: 0.9789 - val_loss: 0.3202 - val_accuracy: 0.9198\n",
      "Epoch 55/200\n",
      "15/15 [==============================] - 4s 240ms/step - loss: 0.0553 - accuracy: 0.9802 - val_loss: 0.3416 - val_accuracy: 0.9141\n",
      "Epoch 56/200\n",
      "15/15 [==============================] - 4s 242ms/step - loss: 0.0525 - accuracy: 0.9819 - val_loss: 0.2719 - val_accuracy: 0.9305\n",
      "Epoch 57/200\n",
      "15/15 [==============================] - 4s 247ms/step - loss: 0.0431 - accuracy: 0.9844 - val_loss: 0.3547 - val_accuracy: 0.9209\n",
      "Epoch 58/200\n",
      "15/15 [==============================] - 4s 241ms/step - loss: 0.0421 - accuracy: 0.9846 - val_loss: 0.3354 - val_accuracy: 0.9226\n",
      "Epoch 59/200\n",
      "15/15 [==============================] - 4s 242ms/step - loss: 0.0390 - accuracy: 0.9859 - val_loss: 0.3361 - val_accuracy: 0.9213\n",
      "Epoch 60/200\n",
      "15/15 [==============================] - 4s 241ms/step - loss: 0.0409 - accuracy: 0.9852 - val_loss: 0.3083 - val_accuracy: 0.9273\n",
      "Epoch 61/200\n",
      "15/15 [==============================] - 4s 242ms/step - loss: 0.0355 - accuracy: 0.9875 - val_loss: 0.2951 - val_accuracy: 0.9338\n",
      "Epoch 62/200\n",
      "15/15 [==============================] - 4s 294ms/step - loss: 0.0325 - accuracy: 0.9881 - val_loss: 0.2945 - val_accuracy: 0.9334\n",
      "Epoch 63/200\n",
      "15/15 [==============================] - 4s 242ms/step - loss: 0.0339 - accuracy: 0.9877 - val_loss: 0.3244 - val_accuracy: 0.9263\n",
      "Epoch 64/200\n",
      "15/15 [==============================] - 4s 239ms/step - loss: 0.0412 - accuracy: 0.9845 - val_loss: 0.3958 - val_accuracy: 0.9151\n",
      "Epoch 65/200\n",
      "15/15 [==============================] - 4s 238ms/step - loss: 0.0315 - accuracy: 0.9887 - val_loss: 0.3216 - val_accuracy: 0.9271\n",
      "Epoch 66/200\n",
      "15/15 [==============================] - 4s 239ms/step - loss: 0.0300 - accuracy: 0.9889 - val_loss: 0.3757 - val_accuracy: 0.9258\n",
      "Epoch 67/200\n",
      "15/15 [==============================] - 4s 239ms/step - loss: 0.0296 - accuracy: 0.9892 - val_loss: 0.4544 - val_accuracy: 0.9098\n",
      "Epoch 68/200\n",
      "15/15 [==============================] - 4s 240ms/step - loss: 0.0288 - accuracy: 0.9894 - val_loss: 0.3595 - val_accuracy: 0.9214\n",
      "Epoch 69/200\n",
      "15/15 [==============================] - 4s 240ms/step - loss: 0.0275 - accuracy: 0.9897 - val_loss: 0.4206 - val_accuracy: 0.9228\n",
      "Epoch 70/200\n",
      "15/15 [==============================] - 4s 243ms/step - loss: 0.0290 - accuracy: 0.9898 - val_loss: 0.3717 - val_accuracy: 0.9264\n",
      "Epoch 71/200\n",
      "15/15 [==============================] - 4s 240ms/step - loss: 0.0283 - accuracy: 0.9899 - val_loss: 0.3936 - val_accuracy: 0.9235\n",
      "Epoch 72/200\n",
      "15/15 [==============================] - 4s 239ms/step - loss: 0.0263 - accuracy: 0.9910 - val_loss: 0.3186 - val_accuracy: 0.9341\n",
      "Epoch 73/200\n",
      "15/15 [==============================] - 4s 238ms/step - loss: 0.0277 - accuracy: 0.9893 - val_loss: 0.3549 - val_accuracy: 0.9255\n",
      "Epoch 74/200\n",
      "15/15 [==============================] - 4s 240ms/step - loss: 0.0264 - accuracy: 0.9901 - val_loss: 0.3518 - val_accuracy: 0.9318\n",
      "Epoch 75/200\n",
      "15/15 [==============================] - 4s 239ms/step - loss: 0.0234 - accuracy: 0.9918 - val_loss: 0.3503 - val_accuracy: 0.9313\n",
      "Epoch 76/200\n",
      "15/15 [==============================] - 4s 240ms/step - loss: 0.0204 - accuracy: 0.9930 - val_loss: 0.3877 - val_accuracy: 0.9285\n"
     ]
    }
   ],
   "source": [
    "resolver = tf.distribute.cluster_resolver.TPUClusterResolver(tpu='grpc://' + os.environ['COLAB_TPU_ADDR'])\n",
    "tf.config.experimental_connect_to_cluster(resolver)\n",
    "tf.tpu.experimental.initialize_tpu_system(resolver)\n",
    "strategy = tf.distribute.TPUStrategy(resolver)\n",
    "\n",
    "with strategy.scope():\n",
    "    model = factory.createMiniVGGModel(128)\n",
    "    history = train_model(model)"
   ]
  },
  {
   "cell_type": "code",
   "execution_count": null,
   "metadata": {
    "colab": {
     "base_uri": "https://localhost:8080/"
    },
    "id": "7t7zGlnsArOG",
    "outputId": "04508a44-7839-4057-9cef-f1cdc8c5da51"
   },
   "outputs": [
    {
     "name": "stdout",
     "output_type": "stream",
     "text": [
      "1/1 [==============================] - 5s 5s/step - loss: 0.2482 - accuracy: 0.9345\n"
     ]
    }
   ],
   "source": [
    "histories['VGG19_128'] = (history, model.evaluate(x_test_1, y_test_1, BATCH_SIZE))"
   ]
  },
  {
   "cell_type": "markdown",
   "metadata": {
    "id": "R5iQO9vCPpxt"
   },
   "source": [
    "---"
   ]
  },
  {
   "cell_type": "code",
   "execution_count": null,
   "metadata": {
    "colab": {
     "base_uri": "https://localhost:8080/",
     "height": 1000
    },
    "id": "JX3NZL6nrNaG",
    "outputId": "a2321ed0-cfa2-4178-9db5-462efc832c20"
   },
   "outputs": [
    {
     "name": "stdout",
     "output_type": "stream",
     "text": [
      "VGG19_32\n"
     ]
    },
    {
     "data": {
      "image/png": "[encoded data removed]",
      "text/plain": [
       "<Figure size 432x288 with 1 Axes>"
      ]
     },
     "metadata": {
      "needs_background": "light",
      "tags": []
     },
     "output_type": "display_data"
    },
    {
     "data": {
      "image/png": "[encoded data removed]",
      "text/plain": [
       "<Figure size 432x288 with 1 Axes>"
      ]
     },
     "metadata": {
      "needs_background": "light",
      "tags": []
     },
     "output_type": "display_data"
    },
    {
     "name": "stdout",
     "output_type": "stream",
     "text": [
      "[0.22895169258117676, 0.937000036239624]\n",
      "VGG19_64\n"
     ]
    },
    {
     "data": {
      "image/png": "[encoded data removed]",
      "text/plain": [
       "<Figure size 432x288 with 1 Axes>"
      ]
     },
     "metadata": {
      "needs_background": "light",
      "tags": []
     },
     "output_type": "display_data"
    },
    {
     "data": {
      "image/png": "[encoded data removed]",
      "text/plain": [
       "<Figure size 432x288 with 1 Axes>"
      ]
     },
     "metadata": {
      "needs_background": "light",
      "tags": []
     },
     "output_type": "display_data"
    },
    {
     "name": "stdout",
     "output_type": "stream",
     "text": [
      "[0.26001396775245667, 0.9250000715255737]\n",
      "VGG19_128\n"
     ]
    },
    {
     "data": {
      "image/png": "[encoded data removed]",
      "text/plain": [
       "<Figure size 432x288 with 1 Axes>"
      ]
     },
     "metadata": {
      "needs_background": "light",
      "tags": []
     },
     "output_type": "display_data"
    },
    {
     "data": {
      "image/png": "[encoded data removed]",
      "text/plain": [
       "<Figure size 432x288 with 1 Axes>"
      ]
     },
     "metadata": {
      "needs_background": "light",
      "tags": []
     },
     "output_type": "display_data"
    },
    {
     "name": "stdout",
     "output_type": "stream",
     "text": [
      "[0.24820923805236816, 0.9345000386238098]\n"
     ]
    }
   ],
   "source": [
    "for model_name, (model_history, model_evaluation) in histories.items():\n",
    "    print(model_name)\n",
    "    visualize_history(model_history)\n",
    "    print(model_evaluation)"
   ]
  },
  {
   "cell_type": "markdown",
   "metadata": {
    "id": "tYaxoL7rZPhG"
   },
   "source": [
    "## V. Đánh giá chung"
   ]
  },
  {
   "cell_type": "markdown",
   "metadata": {
    "id": "PUu_eyBwZYO3"
   },
   "source": [
    "## VI. Tham khảo"
   ]
  }
 ],
 "metadata": {
  "accelerator": "TPU",
  "colab": {
   "collapsed_sections": [],
   "name": "CS300_FinalProject_FashionMNIST.ipynb",
   "provenance": []
  },
  "kernelspec": {
   "display_name": "Python 3",
   "language": "python",
   "name": "python3"
  },
  "language_info": {
   "codemirror_mode": {
    "name": "ipython",
    "version": 3
   },
   "file_extension": ".py",
   "mimetype": "text/x-python",
   "name": "python",
   "nbconvert_exporter": "python",
   "pygments_lexer": "ipython3",
   "version": "3.7.7"
  }
 },
 "nbformat": 4,
 "nbformat_minor": 4
}
