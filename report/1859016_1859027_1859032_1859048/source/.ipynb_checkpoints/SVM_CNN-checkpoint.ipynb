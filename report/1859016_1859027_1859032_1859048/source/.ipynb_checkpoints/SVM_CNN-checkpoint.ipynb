{
  "nbformat": 4,
  "nbformat_minor": 0,
  "metadata": {
    "accelerator": "TPU",
    "colab": {
      "name": "CS300_FinalProject_FashionMNIST.ipynb",
      "provenance": [],
      "collapsed_sections": [],
      "toc_visible": true
    },
    "kernelspec": {
      "display_name": "Python 3",
      "name": "python3"
    },
    "language_info": {
      "name": "python"
    }
  },
  "cells": [
    {
      "cell_type": "markdown",
      "metadata": {
        "id": "klc4OV8xW0Tz"
      },
      "source": [
        "# CS300-Artificial Intelligence : Đồ án cuối kì\n",
        "\n",
        "---\n",
        "\n"
      ]
    },
    {
      "cell_type": "markdown",
      "metadata": {
        "id": "hYC2rUn4Y387"
      },
      "source": [
        "## 1. Lấy mã nguồn từ thư viện nhóm"
      ]
    },
    {
      "cell_type": "code",
      "metadata": {
        "colab": {
          "base_uri": "https://localhost:8080/"
        },
        "id": "9chqrhkJsDVR",
        "outputId": "0367a8fc-54ad-4520-f9b7-bcf7a5d919ba"
      },
      "source": [
        "!git clone https://github.com/liem18112000/CS300_FInalTerm.git"
      ],
      "execution_count": null,
      "outputs": [
        {
          "output_type": "stream",
          "text": [
            "Cloning into 'CS300_FInalTerm'...\n",
            "remote: Enumerating objects: 171, done.\u001b[K\n",
            "remote: Counting objects: 100% (171/171), done.\u001b[K\n",
            "remote: Compressing objects: 100% (117/117), done.\u001b[K\n",
            "remote: Total 171 (delta 92), reused 131 (delta 52), pack-reused 0\u001b[K\n",
            "Receiving objects: 100% (171/171), 632.14 KiB | 5.96 MiB/s, done.\n",
            "Resolving deltas: 100% (92/92), done.\n"
          ],
          "name": "stdout"
        }
      ]
    },
    {
      "cell_type": "code",
      "metadata": {
        "colab": {
          "base_uri": "https://localhost:8080/"
        },
        "id": "waCVGXEBzYfv",
        "outputId": "1286e730-2a38-4659-c3df-23ffb601c967"
      },
      "source": [
        "!nvidia-smi"
      ],
      "execution_count": null,
      "outputs": [
        {
          "output_type": "stream",
          "text": [
            "NVIDIA-SMI has failed because it couldn't communicate with the NVIDIA driver. Make sure that the latest NVIDIA driver is installed and running.\n",
            "\n"
          ],
          "name": "stdout"
        }
      ]
    },
    {
      "cell_type": "markdown",
      "metadata": {
        "id": "FazPFIfMZHqk"
      },
      "source": [
        "## 2. Máy hỗ trợ Véc-tơ - Support Vector Machine"
      ]
    },
    {
      "cell_type": "markdown",
      "metadata": {
        "id": "hSZ4fHzfTr1a"
      },
      "source": [
        "### a. Chuẩn bị các thư viện cần thiết"
      ]
    },
    {
      "cell_type": "code",
      "metadata": {
        "id": "2Dg_2y4TT6gS"
      },
      "source": [
        "from sklearn import svm, metrics\n",
        "import tensorflow as tf\n",
        "import os\n",
        "import time\n",
        "import numpy as np\n",
        "from CS300_FInalTerm.factory import *\n",
        "from CS300_FInalTerm.loader import *\n",
        "from CS300_FInalTerm.utility import *\n",
        "\n",
        "factory = ModelFactory.instance()\n",
        "loader = Loader()"
      ],
      "execution_count": null,
      "outputs": []
    },
    {
      "cell_type": "markdown",
      "metadata": {
        "id": "0aZEHht_UOxS"
      },
      "source": [
        "### b. Dữ liệu huấn luyện : Fashion MNIST"
      ]
    },
    {
      "cell_type": "code",
      "metadata": {
        "colab": {
          "base_uri": "https://localhost:8080/"
        },
        "id": "QVmGEKRaUOxW",
        "outputId": "32da6ec7-845b-4b86-f56f-6da899cf90e0"
      },
      "source": [
        "(x_train, y_train), (x_test, y_test) = loader.load_dataset()"
      ],
      "execution_count": null,
      "outputs": [
        {
          "output_type": "stream",
          "text": [
            "Downloading data from https://storage.googleapis.com/tensorflow/tf-keras-datasets/train-labels-idx1-ubyte.gz\n",
            "32768/29515 [=================================] - 0s 0us/step\n",
            "Downloading data from https://storage.googleapis.com/tensorflow/tf-keras-datasets/train-images-idx3-ubyte.gz\n",
            "26427392/26421880 [==============================] - 0s 0us/step\n",
            "Downloading data from https://storage.googleapis.com/tensorflow/tf-keras-datasets/t10k-labels-idx1-ubyte.gz\n",
            "8192/5148 [===============================================] - 0s 0us/step\n",
            "Downloading data from https://storage.googleapis.com/tensorflow/tf-keras-datasets/t10k-images-idx3-ubyte.gz\n",
            "4423680/4422102 [==============================] - 0s 0us/step\n",
            "Shape of original training examples: (60000, 28, 28)\n",
            "Shape of original test examples: (10000, 28, 28)\n",
            "Shape of original training result: (60000,)\n",
            "Shape of original test result: (10000,)\n"
          ],
          "name": "stdout"
        }
      ]
    },
    {
      "cell_type": "markdown",
      "metadata": {
        "id": "An8rqj2nVLv9"
      },
      "source": [
        "### c. Các mẩu huấn luyện"
      ]
    },
    {
      "cell_type": "code",
      "metadata": {
        "colab": {
          "base_uri": "https://localhost:8080/"
        },
        "id": "i7eCM1ezVKrD",
        "outputId": "e7299b3a-8c8b-4548-a162-58738d7eece0"
      },
      "source": [
        "start = time.time()\n",
        "\n",
        "resolver = tf.distribute.cluster_resolver.TPUClusterResolver(tpu='grpc://' + os.environ['COLAB_TPU_ADDR'])\n",
        "tf.config.experimental_connect_to_cluster(resolver)\n",
        "tf.tpu.experimental.initialize_tpu_system(resolver)\n",
        "strategy = tf.distribute.TPUStrategy(resolver)\n",
        "\n",
        "with strategy.scope():\n",
        "\n",
        "    clf = factory.createSVMModel()\n",
        "\n",
        "    # Learn the digits on the train subset\n",
        "    clf.fit(np.reshape(x_train, (x_train.shape[0], -1)), y_train)\n",
        "\n",
        "    # Predict the value of the digit on the test subset\n",
        "    predicted = clf.predict(np.reshape(x_test, (x_test.shape[0], -1)))\n",
        "\n",
        "\n",
        "    print(\"RESULT\")\n",
        "    ac_score = metrics.accuracy_score(y_test, predicted)\n",
        "    cl_report = metrics.classification_report(y_test, predicted)\n",
        "    print(\"Accuracy : \", ac_score)\n",
        "    print(f\"Classification report for classifier :\\n\"\n",
        "        f\"{metrics.classification_report(y_test, predicted)}\\n\")\n",
        "\n",
        "end = time.time()\n",
        "print(\"Eslapse time : \" + str(end - start) + \" seconds\")"
      ],
      "execution_count": null,
      "outputs": [
        {
          "output_type": "stream",
          "text": [
            "INFO:tensorflow:Initializing the TPU system: grpc://10.120.249.186:8470\n"
          ],
          "name": "stdout"
        },
        {
          "output_type": "stream",
          "text": [
            "INFO:tensorflow:Initializing the TPU system: grpc://10.120.249.186:8470\n"
          ],
          "name": "stderr"
        },
        {
          "output_type": "stream",
          "text": [
            "INFO:tensorflow:Clearing out eager caches\n"
          ],
          "name": "stdout"
        },
        {
          "output_type": "stream",
          "text": [
            "INFO:tensorflow:Clearing out eager caches\n"
          ],
          "name": "stderr"
        },
        {
          "output_type": "stream",
          "text": [
            "INFO:tensorflow:Finished initializing TPU system.\n"
          ],
          "name": "stdout"
        },
        {
          "output_type": "stream",
          "text": [
            "INFO:tensorflow:Finished initializing TPU system.\n"
          ],
          "name": "stderr"
        },
        {
          "output_type": "stream",
          "text": [
            "INFO:tensorflow:Found TPU system:\n"
          ],
          "name": "stdout"
        },
        {
          "output_type": "stream",
          "text": [
            "INFO:tensorflow:Found TPU system:\n"
          ],
          "name": "stderr"
        },
        {
          "output_type": "stream",
          "text": [
            "INFO:tensorflow:*** Num TPU Cores: 8\n"
          ],
          "name": "stdout"
        },
        {
          "output_type": "stream",
          "text": [
            "INFO:tensorflow:*** Num TPU Cores: 8\n"
          ],
          "name": "stderr"
        },
        {
          "output_type": "stream",
          "text": [
            "INFO:tensorflow:*** Num TPU Workers: 1\n"
          ],
          "name": "stdout"
        },
        {
          "output_type": "stream",
          "text": [
            "INFO:tensorflow:*** Num TPU Workers: 1\n"
          ],
          "name": "stderr"
        },
        {
          "output_type": "stream",
          "text": [
            "INFO:tensorflow:*** Num TPU Cores Per Worker: 8\n"
          ],
          "name": "stdout"
        },
        {
          "output_type": "stream",
          "text": [
            "INFO:tensorflow:*** Num TPU Cores Per Worker: 8\n"
          ],
          "name": "stderr"
        },
        {
          "output_type": "stream",
          "text": [
            "INFO:tensorflow:*** Available Device: _DeviceAttributes(/job:localhost/replica:0/task:0/device:CPU:0, CPU, 0, 0)\n"
          ],
          "name": "stdout"
        },
        {
          "output_type": "stream",
          "text": [
            "INFO:tensorflow:*** Available Device: _DeviceAttributes(/job:localhost/replica:0/task:0/device:CPU:0, CPU, 0, 0)\n"
          ],
          "name": "stderr"
        },
        {
          "output_type": "stream",
          "text": [
            "INFO:tensorflow:*** Available Device: _DeviceAttributes(/job:worker/replica:0/task:0/device:CPU:0, CPU, 0, 0)\n"
          ],
          "name": "stdout"
        },
        {
          "output_type": "stream",
          "text": [
            "INFO:tensorflow:*** Available Device: _DeviceAttributes(/job:worker/replica:0/task:0/device:CPU:0, CPU, 0, 0)\n"
          ],
          "name": "stderr"
        },
        {
          "output_type": "stream",
          "text": [
            "INFO:tensorflow:*** Available Device: _DeviceAttributes(/job:worker/replica:0/task:0/device:TPU:0, TPU, 0, 0)\n"
          ],
          "name": "stdout"
        },
        {
          "output_type": "stream",
          "text": [
            "INFO:tensorflow:*** Available Device: _DeviceAttributes(/job:worker/replica:0/task:0/device:TPU:0, TPU, 0, 0)\n"
          ],
          "name": "stderr"
        },
        {
          "output_type": "stream",
          "text": [
            "INFO:tensorflow:*** Available Device: _DeviceAttributes(/job:worker/replica:0/task:0/device:TPU:1, TPU, 0, 0)\n"
          ],
          "name": "stdout"
        },
        {
          "output_type": "stream",
          "text": [
            "INFO:tensorflow:*** Available Device: _DeviceAttributes(/job:worker/replica:0/task:0/device:TPU:1, TPU, 0, 0)\n"
          ],
          "name": "stderr"
        },
        {
          "output_type": "stream",
          "text": [
            "INFO:tensorflow:*** Available Device: _DeviceAttributes(/job:worker/replica:0/task:0/device:TPU:2, TPU, 0, 0)\n"
          ],
          "name": "stdout"
        },
        {
          "output_type": "stream",
          "text": [
            "INFO:tensorflow:*** Available Device: _DeviceAttributes(/job:worker/replica:0/task:0/device:TPU:2, TPU, 0, 0)\n"
          ],
          "name": "stderr"
        },
        {
          "output_type": "stream",
          "text": [
            "INFO:tensorflow:*** Available Device: _DeviceAttributes(/job:worker/replica:0/task:0/device:TPU:3, TPU, 0, 0)\n"
          ],
          "name": "stdout"
        },
        {
          "output_type": "stream",
          "text": [
            "INFO:tensorflow:*** Available Device: _DeviceAttributes(/job:worker/replica:0/task:0/device:TPU:3, TPU, 0, 0)\n"
          ],
          "name": "stderr"
        },
        {
          "output_type": "stream",
          "text": [
            "INFO:tensorflow:*** Available Device: _DeviceAttributes(/job:worker/replica:0/task:0/device:TPU:4, TPU, 0, 0)\n"
          ],
          "name": "stdout"
        },
        {
          "output_type": "stream",
          "text": [
            "INFO:tensorflow:*** Available Device: _DeviceAttributes(/job:worker/replica:0/task:0/device:TPU:4, TPU, 0, 0)\n"
          ],
          "name": "stderr"
        },
        {
          "output_type": "stream",
          "text": [
            "INFO:tensorflow:*** Available Device: _DeviceAttributes(/job:worker/replica:0/task:0/device:TPU:5, TPU, 0, 0)\n"
          ],
          "name": "stdout"
        },
        {
          "output_type": "stream",
          "text": [
            "INFO:tensorflow:*** Available Device: _DeviceAttributes(/job:worker/replica:0/task:0/device:TPU:5, TPU, 0, 0)\n"
          ],
          "name": "stderr"
        },
        {
          "output_type": "stream",
          "text": [
            "INFO:tensorflow:*** Available Device: _DeviceAttributes(/job:worker/replica:0/task:0/device:TPU:6, TPU, 0, 0)\n"
          ],
          "name": "stdout"
        },
        {
          "output_type": "stream",
          "text": [
            "INFO:tensorflow:*** Available Device: _DeviceAttributes(/job:worker/replica:0/task:0/device:TPU:6, TPU, 0, 0)\n"
          ],
          "name": "stderr"
        },
        {
          "output_type": "stream",
          "text": [
            "INFO:tensorflow:*** Available Device: _DeviceAttributes(/job:worker/replica:0/task:0/device:TPU:7, TPU, 0, 0)\n"
          ],
          "name": "stdout"
        },
        {
          "output_type": "stream",
          "text": [
            "INFO:tensorflow:*** Available Device: _DeviceAttributes(/job:worker/replica:0/task:0/device:TPU:7, TPU, 0, 0)\n"
          ],
          "name": "stderr"
        },
        {
          "output_type": "stream",
          "text": [
            "INFO:tensorflow:*** Available Device: _DeviceAttributes(/job:worker/replica:0/task:0/device:TPU_SYSTEM:0, TPU_SYSTEM, 0, 0)\n"
          ],
          "name": "stdout"
        },
        {
          "output_type": "stream",
          "text": [
            "INFO:tensorflow:*** Available Device: _DeviceAttributes(/job:worker/replica:0/task:0/device:TPU_SYSTEM:0, TPU_SYSTEM, 0, 0)\n"
          ],
          "name": "stderr"
        },
        {
          "output_type": "stream",
          "text": [
            "INFO:tensorflow:*** Available Device: _DeviceAttributes(/job:worker/replica:0/task:0/device:XLA_CPU:0, XLA_CPU, 0, 0)\n"
          ],
          "name": "stdout"
        },
        {
          "output_type": "stream",
          "text": [
            "INFO:tensorflow:*** Available Device: _DeviceAttributes(/job:worker/replica:0/task:0/device:XLA_CPU:0, XLA_CPU, 0, 0)\n"
          ],
          "name": "stderr"
        },
        {
          "output_type": "stream",
          "text": [
            "RESULT\n",
            "Accuracy :  0.883\n",
            "Classification report for classifier :\n",
            "              precision    recall  f1-score   support\n",
            "\n",
            "           0       0.83      0.86      0.84      1000\n",
            "           1       0.99      0.96      0.98      1000\n",
            "           2       0.79      0.82      0.80      1000\n",
            "           3       0.87      0.89      0.88      1000\n",
            "           4       0.81      0.81      0.81      1000\n",
            "           5       0.96      0.95      0.96      1000\n",
            "           6       0.72      0.66      0.69      1000\n",
            "           7       0.93      0.95      0.94      1000\n",
            "           8       0.97      0.98      0.97      1000\n",
            "           9       0.96      0.95      0.96      1000\n",
            "\n",
            "    accuracy                           0.88     10000\n",
            "   macro avg       0.88      0.88      0.88     10000\n",
            "weighted avg       0.88      0.88      0.88     10000\n",
            "\n",
            "\n",
            "Eslapse time : 1058.566123008728 seconds\n"
          ],
          "name": "stdout"
        }
      ]
    },
    {
      "cell_type": "markdown",
      "metadata": {
        "id": "NTP1mytqZN3D"
      },
      "source": [
        "## 2. Mạng nơ-ron tích chập - Convolutional Neural Network"
      ]
    },
    {
      "cell_type": "markdown",
      "metadata": {
        "id": "m66AVFN7wIuU"
      },
      "source": [
        "### a. Chuẩn bị các thư viện cần thiết"
      ]
    },
    {
      "cell_type": "code",
      "metadata": {
        "id": "6-jkPT1JP4Tf"
      },
      "source": [
        "%load_ext tensorboard"
      ],
      "execution_count": null,
      "outputs": []
    },
    {
      "cell_type": "code",
      "metadata": {
        "id": "ZLLQLbMLuW59"
      },
      "source": [
        "import tensorflow as tf\n",
        "from datetime import datetime\n",
        "import os\n",
        "from tensorflow.keras.optimizers import RMSprop,Adam\n",
        "from CS300_FInalTerm.factory import *\n",
        "from CS300_FInalTerm.loader import *\n",
        "from CS300_FInalTerm.utility import *\n",
        "\n",
        "factory = ModelFactory.instance()\n",
        "loader = Loader()\n",
        "\n",
        "def train_model(model):\n",
        "    model.compile(\n",
        "        optimizer ='adam',\n",
        "        loss='categorical_crossentropy',\n",
        "        metrics=['accuracy']\n",
        "    )\n",
        "\n",
        "    # logdir = os.path.join(\"logs\", datetime.now().strftime(\"%Y%m%d-%H%M%S\"))\n",
        "    # tensorboard_callback = tf.keras.callbacks.TensorBoard(logdir, histogram_freq=1)\n",
        "\n",
        "    history = model.fit(\n",
        "        x_train_1, y_train_1, \n",
        "        validation_data = (x_val_1, y_val_1),\n",
        "        batch_size=BATCH_SIZE, \n",
        "        epochs=EPOCHS,\n",
        "        # callbacks = callbacks + [tensorboard_callback]\n",
        "        callbacks = callbacks\n",
        "    )\n",
        "\n",
        "    return history"
      ],
      "execution_count": null,
      "outputs": []
    },
    {
      "cell_type": "markdown",
      "metadata": {
        "id": "c3SDRNiHzelB"
      },
      "source": [
        "### b. Dữ liệu huấn luyện : Fashion MNIST"
      ]
    },
    {
      "cell_type": "code",
      "metadata": {
        "colab": {
          "base_uri": "https://localhost:8080/"
        },
        "id": "3c5_M2MnzeEH",
        "outputId": "c818e3c7-7fd0-4c85-d0ee-431a45b99be0"
      },
      "source": [
        "(x_train, y_train), (x_test, y_test) = loader.load_dataset()"
      ],
      "execution_count": null,
      "outputs": [
        {
          "output_type": "stream",
          "text": [
            "Shape of original training examples: (60000, 28, 28)\n",
            "Shape of original test examples: (10000, 28, 28)\n",
            "Shape of original training result: (60000,)\n",
            "Shape of original test result: (10000,)\n"
          ],
          "name": "stdout"
        }
      ]
    },
    {
      "cell_type": "code",
      "metadata": {
        "colab": {
          "base_uri": "https://localhost:8080/",
          "height": 915
        },
        "id": "cWaClgRH04tu",
        "outputId": "c7ae39b4-6ebb-4e75-a92f-8fe3763172e8"
      },
      "source": [
        "class_names = ['T-shirt/top', 'Trouser', 'Pullover', 'Dress', 'Coat', 'Sandal', 'Shirt', 'Sneaker', 'Bag', 'Ankle boot']\n",
        "plt.figure(figsize=(16,16))\n",
        "for i in range(25):\n",
        "    plt.subplot(5,5,i+1)\n",
        "    plt.xticks([])\n",
        "    plt.yticks([])\n",
        "    plt.grid(False)\n",
        "    plt.imshow(x_train[i], cmap=plt.cm.binary)\n",
        "    plt.xlabel(class_names[y_train[i]])\n",
        "plt.show()"
      ],
      "execution_count": null,
      "outputs": [
        {
          "output_type": "display_data",
          "data": {
            "image/png": "[encoded data removed]",
            "text/plain": [
              "<Figure size 1152x1152 with 25 Axes>"
            ]
          },
          "metadata": {
            "tags": []
          }
        }
      ]
    },
    {
      "cell_type": "markdown",
      "metadata": {
        "id": "dV628cAo1o3o"
      },
      "source": [
        "### c. Các mẩu huấn luyện"
      ]
    },
    {
      "cell_type": "code",
      "metadata": {
        "colab": {
          "base_uri": "https://localhost:8080/"
        },
        "id": "n7frCGs32hAy",
        "outputId": "bb0f112c-fce8-42b3-b796-69b1cca5034b"
      },
      "source": [
        "(x_train_1, y_train_1), (x_val_1, y_val_1), (x_test_1, y_test_1) = loader.load_dataset_expanddim()"
      ],
      "execution_count": null,
      "outputs": [
        {
          "output_type": "stream",
          "text": [
            "Shape of original training examples: (60000, 28, 28)\n",
            "Shape of original validation examples: (8000, 28, 28)\n",
            "Shape of original test examples: (2000, 28, 28)\n",
            "Shape of original training result: (60000, 10)\n",
            "Shape of original validation result: (8000, 10)\n",
            "Shape of original test result: (2000, 10)\n"
          ],
          "name": "stdout"
        }
      ]
    },
    {
      "cell_type": "code",
      "metadata": {
        "colab": {
          "base_uri": "https://localhost:8080/"
        },
        "id": "fjlEukShJjmu",
        "outputId": "bd9a37dc-0614-4dd3-efe1-998dd6d91ce5"
      },
      "source": [
        "datagen = tf.keras.preprocessing.image.ImageDataGenerator(\n",
        "    rotation_range=20,\n",
        "    width_shift_range=0.2,\n",
        "    height_shift_range=0.2,\n",
        "    horizontal_flip=True)\n",
        "# compute quantities required for featurewise normalization\n",
        "# (std, mean, and principal components if ZCA whitening is applied)\n",
        "x_train_1 = np.reshape(x_train_1, (60000, 28, 28, 1))\n",
        "datagen.fit(x_train_1)\n",
        "x_add_data = np.reshape([], (0, 28, 28, 1))\n",
        "y_add_data = np.reshape([], (0, 10))\n",
        "# here's a more \"manual\" example\n",
        "for e in range(10):\n",
        "    print('Epoch', e)\n",
        "    batches = 0\n",
        "    for x_batch, y_batch in datagen.flow(x_train_1, y_train_1, batch_size=10000):\n",
        "        x_add_data = np.concatenate((x_add_data,np.reshape(x_batch, (10000, 28, 28, 1))), axis = 0)\n",
        "        y_add_data = np.concatenate((y_add_data,y_batch), axis = 0)\n",
        "        batches += 1\n",
        "        if batches >= len(x_train) / 10000:\n",
        "            break\n",
        "\n",
        "print(np.shape(x_add_data))\n",
        "print(np.shape(y_add_data))\n",
        "\n",
        "x_train_1 = x_add_data\n",
        "y_train_1 = y_add_data"
      ],
      "execution_count": null,
      "outputs": [
        {
          "output_type": "stream",
          "text": [
            "Epoch 0\n",
            "Epoch 1\n",
            "Epoch 2\n",
            "Epoch 3\n",
            "Epoch 4\n",
            "Epoch 5\n",
            "Epoch 6\n",
            "Epoch 7\n",
            "Epoch 8\n",
            "Epoch 9\n",
            "(600000, 28, 28, 1)\n",
            "(600000, 10)\n"
          ],
          "name": "stdout"
        }
      ]
    },
    {
      "cell_type": "code",
      "metadata": {
        "id": "SRyYWa662v9r"
      },
      "source": [
        "BATCH_SIZE = 4096\n",
        "EPOCHS = 200\n",
        "callbacks = [\n",
        "    tf.keras.callbacks.EarlyStopping(monitor='loss', patience=20, restore_best_weights= True),\n",
        "    tf.keras.callbacks.EarlyStopping(monitor='val_loss', patience=20, restore_best_weights= True),\n",
        "]\n",
        "histories = {}"
      ],
      "execution_count": null,
      "outputs": []
    },
    {
      "cell_type": "markdown",
      "metadata": {
        "id": "0Y-LOySNDL_2"
      },
      "source": [
        "---"
      ]
    },
    {
      "cell_type": "code",
      "metadata": {
        "colab": {
          "base_uri": "https://localhost:8080/"
        },
        "id": "7bdR9ZaXDOJp",
        "outputId": "f31fce7b-1b5f-43e9-e283-4236bfe1a7b5"
      },
      "source": [
        "resolver = tf.distribute.cluster_resolver.TPUClusterResolver(tpu='grpc://' + os.environ['COLAB_TPU_ADDR'])\n",
        "tf.config.experimental_connect_to_cluster(resolver)\n",
        "tf.tpu.experimental.initialize_tpu_system(resolver)\n",
        "strategy = tf.distribute.TPUStrategy(resolver)\n",
        "\n",
        "with strategy.scope():\n",
        "    model = factory.createMiniVGGModel(32)\n",
        "    history = train_model(model)"
      ],
      "execution_count": null,
      "outputs": [
        {
          "output_type": "stream",
          "text": [
            "WARNING:tensorflow:TPU system grpc://10.120.249.186:8470 has already been initialized. Reinitializing the TPU can cause previously created variables on TPU to be lost.\n"
          ],
          "name": "stdout"
        },
        {
          "output_type": "stream",
          "text": [
            "WARNING:tensorflow:TPU system grpc://10.120.249.186:8470 has already been initialized. Reinitializing the TPU can cause previously created variables on TPU to be lost.\n"
          ],
          "name": "stderr"
        },
        {
          "output_type": "stream",
          "text": [
            "INFO:tensorflow:Initializing the TPU system: grpc://10.120.249.186:8470\n"
          ],
          "name": "stdout"
        },
        {
          "output_type": "stream",
          "text": [
            "INFO:tensorflow:Initializing the TPU system: grpc://10.120.249.186:8470\n"
          ],
          "name": "stderr"
        },
        {
          "output_type": "stream",
          "text": [
            "INFO:tensorflow:Clearing out eager caches\n"
          ],
          "name": "stdout"
        },
        {
          "output_type": "stream",
          "text": [
            "INFO:tensorflow:Clearing out eager caches\n"
          ],
          "name": "stderr"
        },
        {
          "output_type": "stream",
          "text": [
            "INFO:tensorflow:Finished initializing TPU system.\n"
          ],
          "name": "stdout"
        },
        {
          "output_type": "stream",
          "text": [
            "INFO:tensorflow:Finished initializing TPU system.\n"
          ],
          "name": "stderr"
        },
        {
          "output_type": "stream",
          "text": [
            "INFO:tensorflow:Found TPU system:\n"
          ],
          "name": "stdout"
        },
        {
          "output_type": "stream",
          "text": [
            "INFO:tensorflow:Found TPU system:\n"
          ],
          "name": "stderr"
        },
        {
          "output_type": "stream",
          "text": [
            "INFO:tensorflow:*** Num TPU Cores: 8\n"
          ],
          "name": "stdout"
        },
        {
          "output_type": "stream",
          "text": [
            "INFO:tensorflow:*** Num TPU Cores: 8\n"
          ],
          "name": "stderr"
        },
        {
          "output_type": "stream",
          "text": [
            "INFO:tensorflow:*** Num TPU Workers: 1\n"
          ],
          "name": "stdout"
        },
        {
          "output_type": "stream",
          "text": [
            "INFO:tensorflow:*** Num TPU Workers: 1\n"
          ],
          "name": "stderr"
        },
        {
          "output_type": "stream",
          "text": [
            "INFO:tensorflow:*** Num TPU Cores Per Worker: 8\n"
          ],
          "name": "stdout"
        },
        {
          "output_type": "stream",
          "text": [
            "INFO:tensorflow:*** Num TPU Cores Per Worker: 8\n"
          ],
          "name": "stderr"
        },
        {
          "output_type": "stream",
          "text": [
            "INFO:tensorflow:*** Available Device: _DeviceAttributes(/job:localhost/replica:0/task:0/device:CPU:0, CPU, 0, 0)\n"
          ],
          "name": "stdout"
        },
        {
          "output_type": "stream",
          "text": [
            "INFO:tensorflow:*** Available Device: _DeviceAttributes(/job:localhost/replica:0/task:0/device:CPU:0, CPU, 0, 0)\n"
          ],
          "name": "stderr"
        },
        {
          "output_type": "stream",
          "text": [
            "INFO:tensorflow:*** Available Device: _DeviceAttributes(/job:worker/replica:0/task:0/device:CPU:0, CPU, 0, 0)\n"
          ],
          "name": "stdout"
        },
        {
          "output_type": "stream",
          "text": [
            "INFO:tensorflow:*** Available Device: _DeviceAttributes(/job:worker/replica:0/task:0/device:CPU:0, CPU, 0, 0)\n"
          ],
          "name": "stderr"
        },
        {
          "output_type": "stream",
          "text": [
            "INFO:tensorflow:*** Available Device: _DeviceAttributes(/job:worker/replica:0/task:0/device:TPU:0, TPU, 0, 0)\n"
          ],
          "name": "stdout"
        },
        {
          "output_type": "stream",
          "text": [
            "INFO:tensorflow:*** Available Device: _DeviceAttributes(/job:worker/replica:0/task:0/device:TPU:0, TPU, 0, 0)\n"
          ],
          "name": "stderr"
        },
        {
          "output_type": "stream",
          "text": [
            "INFO:tensorflow:*** Available Device: _DeviceAttributes(/job:worker/replica:0/task:0/device:TPU:1, TPU, 0, 0)\n"
          ],
          "name": "stdout"
        },
        {
          "output_type": "stream",
          "text": [
            "INFO:tensorflow:*** Available Device: _DeviceAttributes(/job:worker/replica:0/task:0/device:TPU:1, TPU, 0, 0)\n"
          ],
          "name": "stderr"
        },
        {
          "output_type": "stream",
          "text": [
            "INFO:tensorflow:*** Available Device: _DeviceAttributes(/job:worker/replica:0/task:0/device:TPU:2, TPU, 0, 0)\n"
          ],
          "name": "stdout"
        },
        {
          "output_type": "stream",
          "text": [
            "INFO:tensorflow:*** Available Device: _DeviceAttributes(/job:worker/replica:0/task:0/device:TPU:2, TPU, 0, 0)\n"
          ],
          "name": "stderr"
        },
        {
          "output_type": "stream",
          "text": [
            "INFO:tensorflow:*** Available Device: _DeviceAttributes(/job:worker/replica:0/task:0/device:TPU:3, TPU, 0, 0)\n"
          ],
          "name": "stdout"
        },
        {
          "output_type": "stream",
          "text": [
            "INFO:tensorflow:*** Available Device: _DeviceAttributes(/job:worker/replica:0/task:0/device:TPU:3, TPU, 0, 0)\n"
          ],
          "name": "stderr"
        },
        {
          "output_type": "stream",
          "text": [
            "INFO:tensorflow:*** Available Device: _DeviceAttributes(/job:worker/replica:0/task:0/device:TPU:4, TPU, 0, 0)\n"
          ],
          "name": "stdout"
        },
        {
          "output_type": "stream",
          "text": [
            "INFO:tensorflow:*** Available Device: _DeviceAttributes(/job:worker/replica:0/task:0/device:TPU:4, TPU, 0, 0)\n"
          ],
          "name": "stderr"
        },
        {
          "output_type": "stream",
          "text": [
            "INFO:tensorflow:*** Available Device: _DeviceAttributes(/job:worker/replica:0/task:0/device:TPU:5, TPU, 0, 0)\n"
          ],
          "name": "stdout"
        },
        {
          "output_type": "stream",
          "text": [
            "INFO:tensorflow:*** Available Device: _DeviceAttributes(/job:worker/replica:0/task:0/device:TPU:5, TPU, 0, 0)\n"
          ],
          "name": "stderr"
        },
        {
          "output_type": "stream",
          "text": [
            "INFO:tensorflow:*** Available Device: _DeviceAttributes(/job:worker/replica:0/task:0/device:TPU:6, TPU, 0, 0)\n"
          ],
          "name": "stdout"
        },
        {
          "output_type": "stream",
          "text": [
            "INFO:tensorflow:*** Available Device: _DeviceAttributes(/job:worker/replica:0/task:0/device:TPU:6, TPU, 0, 0)\n"
          ],
          "name": "stderr"
        },
        {
          "output_type": "stream",
          "text": [
            "INFO:tensorflow:*** Available Device: _DeviceAttributes(/job:worker/replica:0/task:0/device:TPU:7, TPU, 0, 0)\n"
          ],
          "name": "stdout"
        },
        {
          "output_type": "stream",
          "text": [
            "INFO:tensorflow:*** Available Device: _DeviceAttributes(/job:worker/replica:0/task:0/device:TPU:7, TPU, 0, 0)\n"
          ],
          "name": "stderr"
        },
        {
          "output_type": "stream",
          "text": [
            "INFO:tensorflow:*** Available Device: _DeviceAttributes(/job:worker/replica:0/task:0/device:TPU_SYSTEM:0, TPU_SYSTEM, 0, 0)\n"
          ],
          "name": "stdout"
        },
        {
          "output_type": "stream",
          "text": [
            "INFO:tensorflow:*** Available Device: _DeviceAttributes(/job:worker/replica:0/task:0/device:TPU_SYSTEM:0, TPU_SYSTEM, 0, 0)\n"
          ],
          "name": "stderr"
        },
        {
          "output_type": "stream",
          "text": [
            "INFO:tensorflow:*** Available Device: _DeviceAttributes(/job:worker/replica:0/task:0/device:XLA_CPU:0, XLA_CPU, 0, 0)\n"
          ],
          "name": "stdout"
        },
        {
          "output_type": "stream",
          "text": [
            "INFO:tensorflow:*** Available Device: _DeviceAttributes(/job:worker/replica:0/task:0/device:XLA_CPU:0, XLA_CPU, 0, 0)\n"
          ],
          "name": "stderr"
        },
        {
          "output_type": "stream",
          "text": [
            "Model: \"sequential\"\n",
            "_________________________________________________________________\n",
            "Layer (type)                 Output Shape              Param #   \n",
            "=================================================================\n",
            "up_sampling3d (UpSampling3D) (None, 28, 28, 1)         0         \n",
            "_________________________________________________________________\n",
            "conv2d (Conv2D)              (None, 28, 28, 32)        320       \n",
            "_________________________________________________________________\n",
            "batch_normalization (BatchNo (None, 28, 28, 32)        112       \n",
            "_________________________________________________________________\n",
            "conv2d_1 (Conv2D)            (None, 28, 28, 32)        9248      \n",
            "_________________________________________________________________\n",
            "batch_normalization_1 (Batch (None, 28, 28, 32)        112       \n",
            "_________________________________________________________________\n",
            "max_pooling2d (MaxPooling2D) (None, 14, 14, 32)        0         \n",
            "_________________________________________________________________\n",
            "dropout (Dropout)            (None, 14, 14, 32)        0         \n",
            "_________________________________________________________________\n",
            "conv2d_2 (Conv2D)            (None, 14, 14, 64)        18496     \n",
            "_________________________________________________________________\n",
            "batch_normalization_2 (Batch (None, 14, 14, 64)        56        \n",
            "_________________________________________________________________\n",
            "conv2d_3 (Conv2D)            (None, 14, 14, 64)        36928     \n",
            "_________________________________________________________________\n",
            "batch_normalization_3 (Batch (None, 14, 14, 64)        56        \n",
            "_________________________________________________________________\n",
            "max_pooling2d_1 (MaxPooling2 (None, 7, 7, 64)          0         \n",
            "_________________________________________________________________\n",
            "dropout_1 (Dropout)          (None, 7, 7, 64)          0         \n",
            "_________________________________________________________________\n",
            "conv2d_4 (Conv2D)            (None, 7, 7, 128)         73856     \n",
            "_________________________________________________________________\n",
            "batch_normalization_4 (Batch (None, 7, 7, 128)         28        \n",
            "_________________________________________________________________\n",
            "conv2d_5 (Conv2D)            (None, 7, 7, 128)         147584    \n",
            "_________________________________________________________________\n",
            "batch_normalization_5 (Batch (None, 7, 7, 128)         28        \n",
            "_________________________________________________________________\n",
            "conv2d_6 (Conv2D)            (None, 7, 7, 128)         147584    \n",
            "_________________________________________________________________\n",
            "batch_normalization_6 (Batch (None, 7, 7, 128)         28        \n",
            "_________________________________________________________________\n",
            "conv2d_7 (Conv2D)            (None, 7, 7, 128)         147584    \n",
            "_________________________________________________________________\n",
            "batch_normalization_7 (Batch (None, 7, 7, 128)         28        \n",
            "_________________________________________________________________\n",
            "max_pooling2d_2 (MaxPooling2 (None, 3, 3, 128)         0         \n",
            "_________________________________________________________________\n",
            "dropout_2 (Dropout)          (None, 3, 3, 128)         0         \n",
            "_________________________________________________________________\n",
            "conv2d_8 (Conv2D)            (None, 3, 3, 256)         295168    \n",
            "_________________________________________________________________\n",
            "batch_normalization_8 (Batch (None, 3, 3, 256)         12        \n",
            "_________________________________________________________________\n",
            "conv2d_9 (Conv2D)            (None, 3, 3, 256)         590080    \n",
            "_________________________________________________________________\n",
            "batch_normalization_9 (Batch (None, 3, 3, 256)         12        \n",
            "_________________________________________________________________\n",
            "conv2d_10 (Conv2D)           (None, 3, 3, 256)         590080    \n",
            "_________________________________________________________________\n",
            "batch_normalization_10 (Batc (None, 3, 3, 256)         12        \n",
            "_________________________________________________________________\n",
            "conv2d_11 (Conv2D)           (None, 3, 3, 256)         590080    \n",
            "_________________________________________________________________\n",
            "batch_normalization_11 (Batc (None, 3, 3, 256)         12        \n",
            "_________________________________________________________________\n",
            "max_pooling2d_3 (MaxPooling2 (None, 1, 1, 256)         0         \n",
            "_________________________________________________________________\n",
            "dropout_3 (Dropout)          (None, 1, 1, 256)         0         \n",
            "_________________________________________________________________\n",
            "flatten (Flatten)            (None, 256)               0         \n",
            "_________________________________________________________________\n",
            "dense (Dense)                (None, 256)               65792     \n",
            "_________________________________________________________________\n",
            "batch_normalization_12 (Batc (None, 256)               1024      \n",
            "_________________________________________________________________\n",
            "dense_1 (Dense)              (None, 256)               65792     \n",
            "_________________________________________________________________\n",
            "batch_normalization_13 (Batc (None, 256)               1024      \n",
            "_________________________________________________________________\n",
            "dense_2 (Dense)              (None, 10)                2570      \n",
            "=================================================================\n",
            "Total params: 2,783,706\n",
            "Trainable params: 2,782,434\n",
            "Non-trainable params: 1,272\n",
            "_________________________________________________________________\n",
            "Epoch 1/200\n",
            "147/147 [==============================] - 29s 109ms/step - loss: 1.1651 - accuracy: 0.5824 - val_loss: 3.8050 - val_accuracy: 0.1011\n",
            "Epoch 2/200\n",
            "147/147 [==============================] - 7s 46ms/step - loss: 0.4526 - accuracy: 0.8293 - val_loss: 4.4751 - val_accuracy: 0.1511\n",
            "Epoch 3/200\n",
            "147/147 [==============================] - 7s 46ms/step - loss: 0.3489 - accuracy: 0.8693 - val_loss: 0.8607 - val_accuracy: 0.6818\n",
            "Epoch 4/200\n",
            "147/147 [==============================] - 7s 46ms/step - loss: 0.3002 - accuracy: 0.8878 - val_loss: 0.3061 - val_accuracy: 0.8905\n",
            "Epoch 5/200\n",
            "147/147 [==============================] - 7s 47ms/step - loss: 0.2689 - accuracy: 0.8993 - val_loss: 0.2639 - val_accuracy: 0.9054\n",
            "Epoch 6/200\n",
            "147/147 [==============================] - 7s 47ms/step - loss: 0.2459 - accuracy: 0.9079 - val_loss: 0.2592 - val_accuracy: 0.9066\n",
            "Epoch 7/200\n",
            "147/147 [==============================] - 7s 46ms/step - loss: 0.2267 - accuracy: 0.9153 - val_loss: 0.2232 - val_accuracy: 0.9201\n",
            "Epoch 8/200\n",
            "147/147 [==============================] - 7s 46ms/step - loss: 0.2134 - accuracy: 0.9194 - val_loss: 0.2303 - val_accuracy: 0.9185\n",
            "Epoch 9/200\n",
            "147/147 [==============================] - 7s 45ms/step - loss: 0.2000 - accuracy: 0.9249 - val_loss: 0.2319 - val_accuracy: 0.9176\n",
            "Epoch 10/200\n",
            "147/147 [==============================] - 7s 46ms/step - loss: 0.1890 - accuracy: 0.9290 - val_loss: 0.2562 - val_accuracy: 0.9073\n",
            "Epoch 11/200\n",
            "147/147 [==============================] - 7s 46ms/step - loss: 0.1774 - accuracy: 0.9333 - val_loss: 0.2122 - val_accuracy: 0.9274\n",
            "Epoch 12/200\n",
            "147/147 [==============================] - 7s 46ms/step - loss: 0.1693 - accuracy: 0.9359 - val_loss: 0.2306 - val_accuracy: 0.9233\n",
            "Epoch 13/200\n",
            "147/147 [==============================] - 7s 46ms/step - loss: 0.1623 - accuracy: 0.9389 - val_loss: 0.2344 - val_accuracy: 0.9253\n",
            "Epoch 14/200\n",
            "147/147 [==============================] - 7s 45ms/step - loss: 0.1562 - accuracy: 0.9411 - val_loss: 0.2340 - val_accuracy: 0.9238\n",
            "Epoch 15/200\n",
            "147/147 [==============================] - 7s 46ms/step - loss: 0.1455 - accuracy: 0.9452 - val_loss: 0.2502 - val_accuracy: 0.9156\n",
            "Epoch 16/200\n",
            "147/147 [==============================] - 7s 46ms/step - loss: 0.1392 - accuracy: 0.9474 - val_loss: 0.2371 - val_accuracy: 0.9233\n",
            "Epoch 17/200\n",
            "147/147 [==============================] - 7s 45ms/step - loss: 0.1303 - accuracy: 0.9507 - val_loss: 0.2390 - val_accuracy: 0.9271\n",
            "Epoch 18/200\n",
            "147/147 [==============================] - 7s 46ms/step - loss: 0.1261 - accuracy: 0.9522 - val_loss: 0.2497 - val_accuracy: 0.9226\n",
            "Epoch 19/200\n",
            "147/147 [==============================] - 7s 46ms/step - loss: 0.1209 - accuracy: 0.9543 - val_loss: 0.2352 - val_accuracy: 0.9333\n",
            "Epoch 20/200\n",
            "147/147 [==============================] - 7s 46ms/step - loss: 0.1133 - accuracy: 0.9568 - val_loss: 0.2393 - val_accuracy: 0.9299\n",
            "Epoch 21/200\n",
            "147/147 [==============================] - 7s 45ms/step - loss: 0.1082 - accuracy: 0.9592 - val_loss: 0.2407 - val_accuracy: 0.9314\n",
            "Epoch 22/200\n",
            "147/147 [==============================] - 7s 46ms/step - loss: 0.1042 - accuracy: 0.9604 - val_loss: 0.2611 - val_accuracy: 0.9264\n",
            "Epoch 23/200\n",
            "147/147 [==============================] - 7s 46ms/step - loss: 0.0993 - accuracy: 0.9623 - val_loss: 0.2560 - val_accuracy: 0.9286\n",
            "Epoch 24/200\n",
            "147/147 [==============================] - 7s 46ms/step - loss: 0.0956 - accuracy: 0.9634 - val_loss: 0.2528 - val_accuracy: 0.9286\n",
            "Epoch 25/200\n",
            "147/147 [==============================] - 7s 46ms/step - loss: 0.0914 - accuracy: 0.9653 - val_loss: 0.2549 - val_accuracy: 0.9323\n",
            "Epoch 26/200\n",
            "147/147 [==============================] - 7s 47ms/step - loss: 0.0877 - accuracy: 0.9667 - val_loss: 0.2575 - val_accuracy: 0.9285\n",
            "Epoch 27/200\n",
            "147/147 [==============================] - 7s 46ms/step - loss: 0.0852 - accuracy: 0.9679 - val_loss: 0.2774 - val_accuracy: 0.9295\n",
            "Epoch 28/200\n",
            "147/147 [==============================] - 7s 46ms/step - loss: 0.0806 - accuracy: 0.9694 - val_loss: 0.2782 - val_accuracy: 0.9310\n",
            "Epoch 29/200\n",
            "147/147 [==============================] - 7s 46ms/step - loss: 0.0773 - accuracy: 0.9706 - val_loss: 0.2782 - val_accuracy: 0.9295\n",
            "Epoch 30/200\n",
            "147/147 [==============================] - 7s 46ms/step - loss: 0.0736 - accuracy: 0.9720 - val_loss: 0.2719 - val_accuracy: 0.9288\n",
            "Epoch 31/200\n",
            "147/147 [==============================] - 7s 46ms/step - loss: 0.0728 - accuracy: 0.9723 - val_loss: 0.2767 - val_accuracy: 0.9333\n"
          ],
          "name": "stdout"
        }
      ]
    },
    {
      "cell_type": "code",
      "metadata": {
        "colab": {
          "base_uri": "https://localhost:8080/"
        },
        "id": "dvSX6CFfDOJq",
        "outputId": "e211cabe-46d6-4432-ce81-32c8f25c4d29"
      },
      "source": [
        "histories['VGG19_32'] = (history, model.evaluate(x_test_1, y_test_1, BATCH_SIZE))"
      ],
      "execution_count": null,
      "outputs": [
        {
          "output_type": "stream",
          "text": [
            "1/1 [==============================] - 2s 2s/step - loss: 0.2113 - accuracy: 0.9225\n"
          ],
          "name": "stdout"
        }
      ]
    },
    {
      "cell_type": "code",
      "metadata": {
        "colab": {
          "base_uri": "https://localhost:8080/",
          "height": 606
        },
        "id": "JX3NZL6nrNaG",
        "outputId": "48b2b0c9-b677-48db-f886-fca11215306a"
      },
      "source": [
        "for model_name, (model_history, model_evaluation) in histories.items():\n",
        "    print(model_name)\n",
        "    visualize_history(model_history)\n",
        "    print(model_evaluation)"
      ],
      "execution_count": null,
      "outputs": [
        {
          "output_type": "stream",
          "text": [
            "VGG19_32\n"
          ],
          "name": "stdout"
        },
        {
          "output_type": "display_data",
          "data": {
            "image/png": "[encoded data removed]",
            "text/plain": [
              "<Figure size 432x288 with 1 Axes>"
            ]
          },
          "metadata": {
            "tags": [],
            "needs_background": "light"
          }
        },
        {
          "output_type": "display_data",
          "data": {
            "image/png": "[encoded data removed]",
            "text/plain": [
              "<Figure size 432x288 with 1 Axes>"
            ]
          },
          "metadata": {
            "tags": [],
            "needs_background": "light"
          }
        },
        {
          "output_type": "stream",
          "text": [
            "[0.2112504094839096, 0.9225000143051147]\n"
          ],
          "name": "stdout"
        }
      ]
    }
  ]
}