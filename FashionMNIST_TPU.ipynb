{
  "nbformat": 4,
  "nbformat_minor": 0,
  "metadata": {
    "accelerator": "TPU",
    "colab": {
      "name": "FashionMNIST_TPU.ipynb",
      "provenance": []
    },
    "kernelspec": {
      "display_name": "Python 3",
      "name": "python3"
    },
    "language_info": {
      "name": "python"
    }
  },
  "cells": [
    {
      "cell_type": "code",
      "metadata": {
        "id": "5VRMu070udOJ"
      },
      "source": [
        "import tensorflow as tf\n",
        "from tensorflow.keras.layers import *\n",
        "from tensorflow.keras.models import Sequential as Base_Model\n",
        "from tensorflow.keras.datasets import fashion_mnist as dataset\n",
        "import os\n",
        "from datetime import datetime\n",
        "import numpy as np\n",
        "import matplotlib.pyplot as plt\n",
        "from sklearn.model_selection import train_test_split"
      ],
      "execution_count": 1,
      "outputs": []
    },
    {
      "cell_type": "code",
      "metadata": {
        "id": "qt68uFUPuksm"
      },
      "source": [
        "class ModelFactory(object):\n",
        "\n",
        "    def createPretrainedModel(self, Pretrained_Model):\n",
        "\n",
        "        pretrained_model = Pretrained_Model(\n",
        "            input_shape=(224, 224, 3),\n",
        "            include_top = False,\n",
        "            weights='imagenet'\n",
        "        )\n",
        "\n",
        "        for layer in pretrained_model.layers:\n",
        "            layer.trainable = False\n",
        "\n",
        "        model = Base_Model([\n",
        "            Input(shape=(28, 28, 1)),\n",
        "            UpSampling3D(size=(8, 8, 3)),\n",
        "            pretrained_model,\n",
        "            Dropout(0.5),\n",
        "            Flatten(),\n",
        "            Dense(2048, activation='relu'),\n",
        "            Dense(1024, activation='relu'),\n",
        "            Dense(512, activation='relu'),\n",
        "            Dense(256, activation='relu'),\n",
        "            Dense(128, activation='relu'),\n",
        "            Dense(10, activation='softmax'),\n",
        "        ])\n",
        "\n",
        "        model.summary()\n",
        "\n",
        "        return model\n",
        "\n",
        "    def createPlainModel(self):\n",
        "        model = Base_Model([\n",
        "            Flatten(input_shape=(28, 28)),\n",
        "            Dense(512, activation='relu'),\n",
        "            Dense(10, activation='softmax')\n",
        "        ])\n",
        "\n",
        "        model.summary()\n",
        "        return model\n",
        "\n",
        "    def createSimpleCNNModel(self):\n",
        "        model = Base_Model([\n",
        "            Input(shape=(28, 28, 1)),\n",
        "            UpSampling3D(size=(1, 1, 3)),\n",
        "            Conv2D(32, (3, 3), activation='relu', input_shape=(28, 28, 3)),\n",
        "            MaxPooling2D((2, 2)),\n",
        "            Flatten(),\n",
        "            Dense(512, activation='relu'),\n",
        "            Dense(10, activation='softmax')\n",
        "        ])\n",
        "\n",
        "        model.summary()\n",
        "        return model\n",
        "\n",
        "    def createCNNModel_1(self):\n",
        "        model = Base_Model([\n",
        "            Input(shape=(28, 28, 1)),\n",
        "            UpSampling3D(size=(1, 1, 3)),\n",
        "            Conv2D(48, (5, 5), activation='relu',padding=\"same\", input_shape=(28, 28, 3)),\n",
        "            MaxPooling2D((2, 2), padding=\"same\"),\n",
        "            Conv2D(96, (5, 5), activation='relu', padding=\"same\"),\n",
        "            MaxPooling2D((2, 2), padding=\"same\"),\n",
        "            Conv2D(80, (5, 5), activation='relu', padding=\"same\"),\n",
        "            Conv2D(96, (5, 5), activation='relu', padding=\"same\"),\n",
        "            Flatten(),\n",
        "            Dense(512, activation='relu'),\n",
        "            Dense(10, activation='softmax')\n",
        "        ])\n",
        "\n",
        "        model.summary()\n",
        "        return model\n",
        "\n",
        "    def createCNNModel_2(self):\n",
        "        model = Base_Model([\n",
        "            Input(shape=(28, 28, 1)),\n",
        "            UpSampling3D(size=(1, 1, 3)),\n",
        "            Conv2D(48, (5, 5), activation='relu',padding=\"same\", input_shape=(28, 28, 3)),\n",
        "            MaxPooling2D((2, 2), padding=\"same\"),\n",
        "            Conv2D(80, (5, 5), activation='relu', padding=\"same\"),\n",
        "            MaxPooling2D((2, 2), padding=\"same\"),\n",
        "            Conv2D(64, (5, 5), activation='relu', padding=\"same\"),\n",
        "            Conv2D(80, (5, 5), activation='relu', padding=\"same\"),\n",
        "            Conv2D(96, (5, 5), activation='relu', padding=\"same\"),\n",
        "            Conv2D(96, (5, 5), activation='relu', padding=\"same\"),\n",
        "            Conv2D(64, (5, 5), activation='relu', padding=\"same\"),\n",
        "            Conv2D(80, (5, 5), activation='relu', padding=\"same\"),\n",
        "            Flatten(),\n",
        "            Dense(512, activation='relu'),\n",
        "            Dense(10, activation='softmax')\n",
        "        ])\n",
        "\n",
        "        model.summary()\n",
        "        return model"
      ],
      "execution_count": 29,
      "outputs": []
    },
    {
      "cell_type": "code",
      "metadata": {
        "id": "NFGQYuFDQEQP"
      },
      "source": [
        "def visualize_history(history):\n",
        "    # summarize history for accuracy\n",
        "    plt.plot(history.history['accuracy'])\n",
        "    plt.plot(history.history['val_accuracy'])\n",
        "    plt.title('model accuracy')\n",
        "    plt.ylabel('accuracy')\n",
        "    plt.xlabel('epoch')\n",
        "    plt.legend(['train', 'test'], loc='upper left')\n",
        "    plt.show()\n",
        "    # summarize history for loss\n",
        "    plt.plot(history.history['loss'])\n",
        "    plt.plot(history.history['val_loss'])\n",
        "    plt.title('model loss')\n",
        "    plt.ylabel('loss')\n",
        "    plt.xlabel('epoch')\n",
        "    plt.legend(['train', 'test'], loc='upper left')\n",
        "    plt.show()"
      ],
      "execution_count": 3,
      "outputs": []
    },
    {
      "cell_type": "code",
      "metadata": {
        "id": "Fuig1u3j5JDl",
        "colab": {
          "base_uri": "https://localhost:8080/"
        },
        "outputId": "c2f91e5c-09cd-42f9-9fe4-ffb7c7108a4c"
      },
      "source": [
        "# Load Fashion MNIST datasets\n",
        "(x_train, y_train), (x_test, y_test) = dataset.load_data()"
      ],
      "execution_count": 4,
      "outputs": [
        {
          "output_type": "stream",
          "text": [
            "Downloading data from https://storage.googleapis.com/tensorflow/tf-keras-datasets/train-labels-idx1-ubyte.gz\n",
            "32768/29515 [=================================] - 0s 0us/step\n",
            "Downloading data from https://storage.googleapis.com/tensorflow/tf-keras-datasets/train-images-idx3-ubyte.gz\n",
            "26427392/26421880 [==============================] - 0s 0us/step\n",
            "Downloading data from https://storage.googleapis.com/tensorflow/tf-keras-datasets/t10k-labels-idx1-ubyte.gz\n",
            "8192/5148 [===============================================] - 0s 0us/step\n",
            "Downloading data from https://storage.googleapis.com/tensorflow/tf-keras-datasets/t10k-images-idx3-ubyte.gz\n",
            "4423680/4422102 [==============================] - 0s 0us/step\n"
          ],
          "name": "stdout"
        }
      ]
    },
    {
      "cell_type": "code",
      "metadata": {
        "colab": {
          "base_uri": "https://localhost:8080/"
        },
        "id": "Rdx8_rAqx16A",
        "outputId": "3953df2e-b935-437b-8a3f-7c0001e2a03c"
      },
      "source": [
        "# Expand dimensions of datasets\n",
        "x_train_1, x_test_1 = np.expand_dims(x_train, axis = 3), np.expand_dims(x_test, axis = 3)  \n",
        "\n",
        "# Rescale the images from [0,255] to the [0.0, 1.0] range.\n",
        "x_train_1, x_test_1 = np.array(x_train, dtype=np.float32)/255.0, np.array(x_test, dtype=np.float32)/255.0\n",
        "y_train_1, y_test_1 = tf.keras.utils.to_categorical(y_train, 10, dtype=np.uint8),tf.keras.utils.to_categorical(y_test, 10, dtype=np.uint8)\n",
        "\n",
        "# Brief information of datasets\n",
        "print(\"Shape of original training examples:\", np.shape(x_train_1))\n",
        "print(\"Shape of original test examples:\", np.shape(x_test_1))\n",
        "print(\"Shape of original training result:\", np.shape(y_train_1))\n",
        "print(\"Shape of original test result:\", np.shape(y_test_1))"
      ],
      "execution_count": 5,
      "outputs": [
        {
          "output_type": "stream",
          "text": [
            "Shape of original training examples: (60000, 28, 28)\n",
            "Shape of original test examples: (10000, 28, 28)\n",
            "Shape of original training result: (60000, 10)\n",
            "Shape of original test result: (10000, 10)\n"
          ],
          "name": "stdout"
        }
      ]
    },
    {
      "cell_type": "markdown",
      "metadata": {
        "id": "FGlqu7VZJzy4"
      },
      "source": [
        "## Pretrained Model"
      ]
    },
    {
      "cell_type": "markdown",
      "metadata": {
        "id": "DlsV5JjZL5-h"
      },
      "source": [
        "### VGG19"
      ]
    },
    {
      "cell_type": "code",
      "metadata": {
        "colab": {
          "base_uri": "https://localhost:8080/"
        },
        "id": "gfw0wKtey_jK",
        "outputId": "acb5a2fd-7f3f-4c79-872e-b30368a8e848"
      },
      "source": [
        "resolver = tf.distribute.cluster_resolver.TPUClusterResolver(tpu='grpc://' + os.environ['COLAB_TPU_ADDR'])\n",
        "tf.config.experimental_connect_to_cluster(resolver)\n",
        "tf.tpu.experimental.initialize_tpu_system(resolver)\n",
        "strategy = tf.distribute.experimental.TPUStrategy(resolver)\n",
        "\n",
        "from tensorflow.keras.applications import VGG19\n",
        "\n",
        "with strategy.scope():\n",
        "    factory = ModelFactory()\n",
        "\n",
        "    model = factory.createPretrainedModel(VGG19)\n",
        "\n",
        "    model.compile(\n",
        "        optimizer='adam',\n",
        "        loss='categorical_crossentropy',\n",
        "        metrics=['accuracy']\n",
        "    )\n",
        "\n",
        "    history = model.fit(\n",
        "        x_train_1, y_train_1, \n",
        "        validation_data = (x_test_1, y_test_1),\n",
        "        batch_size=2048, \n",
        "        epochs=50,\n",
        "        callbacks = [\n",
        "            tf.keras.callbacks.EarlyStopping(monitor='loss', patience=3, restore_best_weights = True),\n",
        "            tf.keras.callbacks.EarlyStopping(monitor='val_loss', patience=3, restore_best_weights = True)\n",
        "        ]\n",
        "    )"
      ],
      "execution_count": 7,
      "outputs": [
        {
          "output_type": "stream",
          "text": [
            "WARNING:tensorflow:TPU system grpc://10.85.164.194:8470 has already been initialized. Reinitializing the TPU can cause previously created variables on TPU to be lost.\n"
          ],
          "name": "stdout"
        },
        {
          "output_type": "stream",
          "text": [
            "WARNING:tensorflow:TPU system grpc://10.85.164.194:8470 has already been initialized. Reinitializing the TPU can cause previously created variables on TPU to be lost.\n"
          ],
          "name": "stderr"
        },
        {
          "output_type": "stream",
          "text": [
            "INFO:tensorflow:Initializing the TPU system: grpc://10.85.164.194:8470\n"
          ],
          "name": "stdout"
        },
        {
          "output_type": "stream",
          "text": [
            "INFO:tensorflow:Initializing the TPU system: grpc://10.85.164.194:8470\n"
          ],
          "name": "stderr"
        },
        {
          "output_type": "stream",
          "text": [
            "INFO:tensorflow:Clearing out eager caches\n"
          ],
          "name": "stdout"
        },
        {
          "output_type": "stream",
          "text": [
            "INFO:tensorflow:Clearing out eager caches\n"
          ],
          "name": "stderr"
        },
        {
          "output_type": "stream",
          "text": [
            "INFO:tensorflow:Finished initializing TPU system.\n"
          ],
          "name": "stdout"
        },
        {
          "output_type": "stream",
          "text": [
            "INFO:tensorflow:Finished initializing TPU system.\n",
            "WARNING:absl:`tf.distribute.experimental.TPUStrategy` is deprecated, please use  the non experimental symbol `tf.distribute.TPUStrategy` instead.\n"
          ],
          "name": "stderr"
        },
        {
          "output_type": "stream",
          "text": [
            "INFO:tensorflow:Found TPU system:\n"
          ],
          "name": "stdout"
        },
        {
          "output_type": "stream",
          "text": [
            "INFO:tensorflow:Found TPU system:\n"
          ],
          "name": "stderr"
        },
        {
          "output_type": "stream",
          "text": [
            "INFO:tensorflow:*** Num TPU Cores: 8\n"
          ],
          "name": "stdout"
        },
        {
          "output_type": "stream",
          "text": [
            "INFO:tensorflow:*** Num TPU Cores: 8\n"
          ],
          "name": "stderr"
        },
        {
          "output_type": "stream",
          "text": [
            "INFO:tensorflow:*** Num TPU Workers: 1\n"
          ],
          "name": "stdout"
        },
        {
          "output_type": "stream",
          "text": [
            "INFO:tensorflow:*** Num TPU Workers: 1\n"
          ],
          "name": "stderr"
        },
        {
          "output_type": "stream",
          "text": [
            "INFO:tensorflow:*** Num TPU Cores Per Worker: 8\n"
          ],
          "name": "stdout"
        },
        {
          "output_type": "stream",
          "text": [
            "INFO:tensorflow:*** Num TPU Cores Per Worker: 8\n"
          ],
          "name": "stderr"
        },
        {
          "output_type": "stream",
          "text": [
            "INFO:tensorflow:*** Available Device: _DeviceAttributes(/job:localhost/replica:0/task:0/device:CPU:0, CPU, 0, 0)\n"
          ],
          "name": "stdout"
        },
        {
          "output_type": "stream",
          "text": [
            "INFO:tensorflow:*** Available Device: _DeviceAttributes(/job:localhost/replica:0/task:0/device:CPU:0, CPU, 0, 0)\n"
          ],
          "name": "stderr"
        },
        {
          "output_type": "stream",
          "text": [
            "INFO:tensorflow:*** Available Device: _DeviceAttributes(/job:worker/replica:0/task:0/device:CPU:0, CPU, 0, 0)\n"
          ],
          "name": "stdout"
        },
        {
          "output_type": "stream",
          "text": [
            "INFO:tensorflow:*** Available Device: _DeviceAttributes(/job:worker/replica:0/task:0/device:CPU:0, CPU, 0, 0)\n"
          ],
          "name": "stderr"
        },
        {
          "output_type": "stream",
          "text": [
            "INFO:tensorflow:*** Available Device: _DeviceAttributes(/job:worker/replica:0/task:0/device:TPU:0, TPU, 0, 0)\n"
          ],
          "name": "stdout"
        },
        {
          "output_type": "stream",
          "text": [
            "INFO:tensorflow:*** Available Device: _DeviceAttributes(/job:worker/replica:0/task:0/device:TPU:0, TPU, 0, 0)\n"
          ],
          "name": "stderr"
        },
        {
          "output_type": "stream",
          "text": [
            "INFO:tensorflow:*** Available Device: _DeviceAttributes(/job:worker/replica:0/task:0/device:TPU:1, TPU, 0, 0)\n"
          ],
          "name": "stdout"
        },
        {
          "output_type": "stream",
          "text": [
            "INFO:tensorflow:*** Available Device: _DeviceAttributes(/job:worker/replica:0/task:0/device:TPU:1, TPU, 0, 0)\n"
          ],
          "name": "stderr"
        },
        {
          "output_type": "stream",
          "text": [
            "INFO:tensorflow:*** Available Device: _DeviceAttributes(/job:worker/replica:0/task:0/device:TPU:2, TPU, 0, 0)\n"
          ],
          "name": "stdout"
        },
        {
          "output_type": "stream",
          "text": [
            "INFO:tensorflow:*** Available Device: _DeviceAttributes(/job:worker/replica:0/task:0/device:TPU:2, TPU, 0, 0)\n"
          ],
          "name": "stderr"
        },
        {
          "output_type": "stream",
          "text": [
            "INFO:tensorflow:*** Available Device: _DeviceAttributes(/job:worker/replica:0/task:0/device:TPU:3, TPU, 0, 0)\n"
          ],
          "name": "stdout"
        },
        {
          "output_type": "stream",
          "text": [
            "INFO:tensorflow:*** Available Device: _DeviceAttributes(/job:worker/replica:0/task:0/device:TPU:3, TPU, 0, 0)\n"
          ],
          "name": "stderr"
        },
        {
          "output_type": "stream",
          "text": [
            "INFO:tensorflow:*** Available Device: _DeviceAttributes(/job:worker/replica:0/task:0/device:TPU:4, TPU, 0, 0)\n"
          ],
          "name": "stdout"
        },
        {
          "output_type": "stream",
          "text": [
            "INFO:tensorflow:*** Available Device: _DeviceAttributes(/job:worker/replica:0/task:0/device:TPU:4, TPU, 0, 0)\n"
          ],
          "name": "stderr"
        },
        {
          "output_type": "stream",
          "text": [
            "INFO:tensorflow:*** Available Device: _DeviceAttributes(/job:worker/replica:0/task:0/device:TPU:5, TPU, 0, 0)\n"
          ],
          "name": "stdout"
        },
        {
          "output_type": "stream",
          "text": [
            "INFO:tensorflow:*** Available Device: _DeviceAttributes(/job:worker/replica:0/task:0/device:TPU:5, TPU, 0, 0)\n"
          ],
          "name": "stderr"
        },
        {
          "output_type": "stream",
          "text": [
            "INFO:tensorflow:*** Available Device: _DeviceAttributes(/job:worker/replica:0/task:0/device:TPU:6, TPU, 0, 0)\n"
          ],
          "name": "stdout"
        },
        {
          "output_type": "stream",
          "text": [
            "INFO:tensorflow:*** Available Device: _DeviceAttributes(/job:worker/replica:0/task:0/device:TPU:6, TPU, 0, 0)\n"
          ],
          "name": "stderr"
        },
        {
          "output_type": "stream",
          "text": [
            "INFO:tensorflow:*** Available Device: _DeviceAttributes(/job:worker/replica:0/task:0/device:TPU:7, TPU, 0, 0)\n"
          ],
          "name": "stdout"
        },
        {
          "output_type": "stream",
          "text": [
            "INFO:tensorflow:*** Available Device: _DeviceAttributes(/job:worker/replica:0/task:0/device:TPU:7, TPU, 0, 0)\n"
          ],
          "name": "stderr"
        },
        {
          "output_type": "stream",
          "text": [
            "INFO:tensorflow:*** Available Device: _DeviceAttributes(/job:worker/replica:0/task:0/device:TPU_SYSTEM:0, TPU_SYSTEM, 0, 0)\n"
          ],
          "name": "stdout"
        },
        {
          "output_type": "stream",
          "text": [
            "INFO:tensorflow:*** Available Device: _DeviceAttributes(/job:worker/replica:0/task:0/device:TPU_SYSTEM:0, TPU_SYSTEM, 0, 0)\n"
          ],
          "name": "stderr"
        },
        {
          "output_type": "stream",
          "text": [
            "INFO:tensorflow:*** Available Device: _DeviceAttributes(/job:worker/replica:0/task:0/device:XLA_CPU:0, XLA_CPU, 0, 0)\n"
          ],
          "name": "stdout"
        },
        {
          "output_type": "stream",
          "text": [
            "INFO:tensorflow:*** Available Device: _DeviceAttributes(/job:worker/replica:0/task:0/device:XLA_CPU:0, XLA_CPU, 0, 0)\n"
          ],
          "name": "stderr"
        },
        {
          "output_type": "stream",
          "text": [
            "Model: \"sequential_1\"\n",
            "_________________________________________________________________\n",
            "Layer (type)                 Output Shape              Param #   \n",
            "=================================================================\n",
            "up_sampling3d_1 (UpSampling3 (None, 224, 224, 3)       0         \n",
            "_________________________________________________________________\n",
            "vgg19 (Functional)           (None, 7, 7, 512)         20024384  \n",
            "_________________________________________________________________\n",
            "dropout_1 (Dropout)          (None, 7, 7, 512)         0         \n",
            "_________________________________________________________________\n",
            "flatten_1 (Flatten)          (None, 25088)             0         \n",
            "_________________________________________________________________\n",
            "dense_6 (Dense)              (None, 2048)              51382272  \n",
            "_________________________________________________________________\n",
            "dense_7 (Dense)              (None, 1024)              2098176   \n",
            "_________________________________________________________________\n",
            "dense_8 (Dense)              (None, 512)               524800    \n",
            "_________________________________________________________________\n",
            "dense_9 (Dense)              (None, 256)               131328    \n",
            "_________________________________________________________________\n",
            "dense_10 (Dense)             (None, 128)               32896     \n",
            "_________________________________________________________________\n",
            "dense_11 (Dense)             (None, 10)                1290      \n",
            "=================================================================\n",
            "Total params: 74,195,146\n",
            "Trainable params: 54,170,762\n",
            "Non-trainable params: 20,024,384\n",
            "_________________________________________________________________\n",
            "Epoch 1/50\n",
            "30/30 [==============================] - 67s 2s/step - loss: 2.9528 - accuracy: 0.2523 - val_loss: 0.7669 - val_accuracy: 0.6584\n",
            "Epoch 2/50\n",
            "30/30 [==============================] - 19s 652ms/step - loss: 0.6327 - accuracy: 0.7515 - val_loss: 0.4426 - val_accuracy: 0.8343\n",
            "Epoch 3/50\n",
            "30/30 [==============================] - 19s 652ms/step - loss: 0.4018 - accuracy: 0.8509 - val_loss: 0.3585 - val_accuracy: 0.8694\n",
            "Epoch 4/50\n",
            "30/30 [==============================] - 19s 649ms/step - loss: 0.3368 - accuracy: 0.8749 - val_loss: 0.3496 - val_accuracy: 0.8685\n",
            "Epoch 5/50\n",
            "30/30 [==============================] - 19s 648ms/step - loss: 0.3053 - accuracy: 0.8889 - val_loss: 0.2897 - val_accuracy: 0.8914\n",
            "Epoch 6/50\n",
            "30/30 [==============================] - 19s 650ms/step - loss: 0.2705 - accuracy: 0.9019 - val_loss: 0.3208 - val_accuracy: 0.8792\n",
            "Epoch 7/50\n",
            "30/30 [==============================] - 19s 651ms/step - loss: 0.2718 - accuracy: 0.8986 - val_loss: 0.2908 - val_accuracy: 0.8912\n",
            "Epoch 8/50\n",
            "30/30 [==============================] - 19s 649ms/step - loss: 0.2506 - accuracy: 0.9082 - val_loss: 0.2564 - val_accuracy: 0.9042\n",
            "Epoch 9/50\n",
            "30/30 [==============================] - 19s 651ms/step - loss: 0.2294 - accuracy: 0.9165 - val_loss: 0.2480 - val_accuracy: 0.9055\n",
            "Epoch 10/50\n",
            "30/30 [==============================] - 19s 650ms/step - loss: 0.2335 - accuracy: 0.9136 - val_loss: 0.2728 - val_accuracy: 0.8996\n",
            "Epoch 11/50\n",
            "30/30 [==============================] - 19s 648ms/step - loss: 0.2337 - accuracy: 0.9133 - val_loss: 0.2448 - val_accuracy: 0.9094\n",
            "Epoch 12/50\n",
            "30/30 [==============================] - 19s 649ms/step - loss: 0.2167 - accuracy: 0.9193 - val_loss: 0.2434 - val_accuracy: 0.9098\n",
            "Epoch 13/50\n",
            "30/30 [==============================] - 19s 651ms/step - loss: 0.2162 - accuracy: 0.9197 - val_loss: 0.2430 - val_accuracy: 0.9098\n",
            "Epoch 14/50\n",
            "30/30 [==============================] - 19s 650ms/step - loss: 0.2010 - accuracy: 0.9264 - val_loss: 0.2385 - val_accuracy: 0.9122\n",
            "Epoch 15/50\n",
            "30/30 [==============================] - 19s 649ms/step - loss: 0.1919 - accuracy: 0.9284 - val_loss: 0.2433 - val_accuracy: 0.9088\n",
            "Epoch 16/50\n",
            "30/30 [==============================] - 19s 651ms/step - loss: 0.1911 - accuracy: 0.9304 - val_loss: 0.2202 - val_accuracy: 0.9192\n",
            "Epoch 17/50\n",
            "30/30 [==============================] - 19s 651ms/step - loss: 0.1835 - accuracy: 0.9324 - val_loss: 0.2350 - val_accuracy: 0.9139\n",
            "Epoch 18/50\n",
            "30/30 [==============================] - 19s 649ms/step - loss: 0.1848 - accuracy: 0.9305 - val_loss: 0.2541 - val_accuracy: 0.9060\n",
            "Epoch 19/50\n",
            "30/30 [==============================] - 20s 663ms/step - loss: 0.1955 - accuracy: 0.9267 - val_loss: 0.2245 - val_accuracy: 0.9153\n"
          ],
          "name": "stdout"
        }
      ]
    },
    {
      "cell_type": "code",
      "metadata": {
        "colab": {
          "base_uri": "https://localhost:8080/"
        },
        "id": "gz8qK3LGzC4d",
        "outputId": "bae12639-43cc-42cf-fc18-bf951f96f33e"
      },
      "source": [
        "model.evaluate(x_test_1, y_test_1, 1024)"
      ],
      "execution_count": 8,
      "outputs": [
        {
          "output_type": "stream",
          "text": [
            "10/10 [==============================] - 23s 1s/step - loss: 0.2202 - accuracy: 0.9192\n"
          ],
          "name": "stdout"
        },
        {
          "output_type": "execute_result",
          "data": {
            "text/plain": [
              "[0.22023847699165344, 0.9192000031471252]"
            ]
          },
          "metadata": {
            "tags": []
          },
          "execution_count": 8
        }
      ]
    },
    {
      "cell_type": "code",
      "metadata": {
        "colab": {
          "base_uri": "https://localhost:8080/",
          "height": 573
        },
        "id": "8kCskvm4R7Kd",
        "outputId": "bd069c20-35bc-4b1f-e816-f24c57436cb9"
      },
      "source": [
        "visualize_history(history)"
      ],
      "execution_count": 9,
      "outputs": [
        {
          "output_type": "display_data",
          "data": {
            "image/png": "[encoded data removed]",
            "text/plain": [
              "<Figure size 432x288 with 1 Axes>"
            ]
          },
          "metadata": {
            "tags": [],
            "needs_background": "light"
          }
        },
        {
          "output_type": "display_data",
          "data": {
            "image/png": "[encoded data removed]",
            "text/plain": [
              "<Figure size 432x288 with 1 Axes>"
            ]
          },
          "metadata": {
            "tags": [],
            "needs_background": "light"
          }
        }
      ]
    },
    {
      "cell_type": "markdown",
      "metadata": {
        "id": "D_GHJ7hkNQOt"
      },
      "source": [
        "### ResNet152V2"
      ]
    },
    {
      "cell_type": "code",
      "metadata": {
        "colab": {
          "base_uri": "https://localhost:8080/"
        },
        "id": "YhyPm7fONb2r",
        "outputId": "8310f730-0dfa-4893-963c-056f77c96c41"
      },
      "source": [
        "resolver = tf.distribute.cluster_resolver.TPUClusterResolver(tpu='grpc://' + os.environ['COLAB_TPU_ADDR'])\n",
        "tf.config.experimental_connect_to_cluster(resolver)\n",
        "tf.tpu.experimental.initialize_tpu_system(resolver)\n",
        "strategy = tf.distribute.experimental.TPUStrategy(resolver)\n",
        "\n",
        "from tensorflow.keras.applications import ResNet152V2\n",
        "\n",
        "with strategy.scope():\n",
        "    factory = ModelFactory()\n",
        "\n",
        "    model = factory.createPretrainedModel(ResNet152V2)\n",
        "\n",
        "    model.compile(\n",
        "        optimizer='adam',\n",
        "        loss='categorical_crossentropy',\n",
        "        metrics=['accuracy']\n",
        "    )\n",
        "\n",
        "    history = model.fit(\n",
        "        x_train_1, y_train_1, \n",
        "        validation_data = (x_test_1, y_test_1),\n",
        "        batch_size=2048, \n",
        "        epochs=50,\n",
        "        callbacks = [\n",
        "            tf.keras.callbacks.EarlyStopping(monitor='loss', patience=3, restore_best_weights= True),\n",
        "            tf.keras.callbacks.EarlyStopping(monitor='val_loss', patience=3, restore_best_weights= True)\n",
        "        ]\n",
        "    )"
      ],
      "execution_count": 11,
      "outputs": [
        {
          "output_type": "stream",
          "text": [
            "WARNING:tensorflow:TPU system grpc://10.85.164.194:8470 has already been initialized. Reinitializing the TPU can cause previously created variables on TPU to be lost.\n"
          ],
          "name": "stdout"
        },
        {
          "output_type": "stream",
          "text": [
            "WARNING:tensorflow:TPU system grpc://10.85.164.194:8470 has already been initialized. Reinitializing the TPU can cause previously created variables on TPU to be lost.\n"
          ],
          "name": "stderr"
        },
        {
          "output_type": "stream",
          "text": [
            "INFO:tensorflow:Initializing the TPU system: grpc://10.85.164.194:8470\n"
          ],
          "name": "stdout"
        },
        {
          "output_type": "stream",
          "text": [
            "INFO:tensorflow:Initializing the TPU system: grpc://10.85.164.194:8470\n"
          ],
          "name": "stderr"
        },
        {
          "output_type": "stream",
          "text": [
            "INFO:tensorflow:Clearing out eager caches\n"
          ],
          "name": "stdout"
        },
        {
          "output_type": "stream",
          "text": [
            "INFO:tensorflow:Clearing out eager caches\n"
          ],
          "name": "stderr"
        },
        {
          "output_type": "stream",
          "text": [
            "INFO:tensorflow:Finished initializing TPU system.\n"
          ],
          "name": "stdout"
        },
        {
          "output_type": "stream",
          "text": [
            "INFO:tensorflow:Finished initializing TPU system.\n",
            "WARNING:absl:`tf.distribute.experimental.TPUStrategy` is deprecated, please use  the non experimental symbol `tf.distribute.TPUStrategy` instead.\n"
          ],
          "name": "stderr"
        },
        {
          "output_type": "stream",
          "text": [
            "INFO:tensorflow:Found TPU system:\n"
          ],
          "name": "stdout"
        },
        {
          "output_type": "stream",
          "text": [
            "INFO:tensorflow:Found TPU system:\n"
          ],
          "name": "stderr"
        },
        {
          "output_type": "stream",
          "text": [
            "INFO:tensorflow:*** Num TPU Cores: 8\n"
          ],
          "name": "stdout"
        },
        {
          "output_type": "stream",
          "text": [
            "INFO:tensorflow:*** Num TPU Cores: 8\n"
          ],
          "name": "stderr"
        },
        {
          "output_type": "stream",
          "text": [
            "INFO:tensorflow:*** Num TPU Workers: 1\n"
          ],
          "name": "stdout"
        },
        {
          "output_type": "stream",
          "text": [
            "INFO:tensorflow:*** Num TPU Workers: 1\n"
          ],
          "name": "stderr"
        },
        {
          "output_type": "stream",
          "text": [
            "INFO:tensorflow:*** Num TPU Cores Per Worker: 8\n"
          ],
          "name": "stdout"
        },
        {
          "output_type": "stream",
          "text": [
            "INFO:tensorflow:*** Num TPU Cores Per Worker: 8\n"
          ],
          "name": "stderr"
        },
        {
          "output_type": "stream",
          "text": [
            "INFO:tensorflow:*** Available Device: _DeviceAttributes(/job:localhost/replica:0/task:0/device:CPU:0, CPU, 0, 0)\n"
          ],
          "name": "stdout"
        },
        {
          "output_type": "stream",
          "text": [
            "INFO:tensorflow:*** Available Device: _DeviceAttributes(/job:localhost/replica:0/task:0/device:CPU:0, CPU, 0, 0)\n"
          ],
          "name": "stderr"
        },
        {
          "output_type": "stream",
          "text": [
            "INFO:tensorflow:*** Available Device: _DeviceAttributes(/job:worker/replica:0/task:0/device:CPU:0, CPU, 0, 0)\n"
          ],
          "name": "stdout"
        },
        {
          "output_type": "stream",
          "text": [
            "INFO:tensorflow:*** Available Device: _DeviceAttributes(/job:worker/replica:0/task:0/device:CPU:0, CPU, 0, 0)\n"
          ],
          "name": "stderr"
        },
        {
          "output_type": "stream",
          "text": [
            "INFO:tensorflow:*** Available Device: _DeviceAttributes(/job:worker/replica:0/task:0/device:TPU:0, TPU, 0, 0)\n"
          ],
          "name": "stdout"
        },
        {
          "output_type": "stream",
          "text": [
            "INFO:tensorflow:*** Available Device: _DeviceAttributes(/job:worker/replica:0/task:0/device:TPU:0, TPU, 0, 0)\n"
          ],
          "name": "stderr"
        },
        {
          "output_type": "stream",
          "text": [
            "INFO:tensorflow:*** Available Device: _DeviceAttributes(/job:worker/replica:0/task:0/device:TPU:1, TPU, 0, 0)\n"
          ],
          "name": "stdout"
        },
        {
          "output_type": "stream",
          "text": [
            "INFO:tensorflow:*** Available Device: _DeviceAttributes(/job:worker/replica:0/task:0/device:TPU:1, TPU, 0, 0)\n"
          ],
          "name": "stderr"
        },
        {
          "output_type": "stream",
          "text": [
            "INFO:tensorflow:*** Available Device: _DeviceAttributes(/job:worker/replica:0/task:0/device:TPU:2, TPU, 0, 0)\n"
          ],
          "name": "stdout"
        },
        {
          "output_type": "stream",
          "text": [
            "INFO:tensorflow:*** Available Device: _DeviceAttributes(/job:worker/replica:0/task:0/device:TPU:2, TPU, 0, 0)\n"
          ],
          "name": "stderr"
        },
        {
          "output_type": "stream",
          "text": [
            "INFO:tensorflow:*** Available Device: _DeviceAttributes(/job:worker/replica:0/task:0/device:TPU:3, TPU, 0, 0)\n"
          ],
          "name": "stdout"
        },
        {
          "output_type": "stream",
          "text": [
            "INFO:tensorflow:*** Available Device: _DeviceAttributes(/job:worker/replica:0/task:0/device:TPU:3, TPU, 0, 0)\n"
          ],
          "name": "stderr"
        },
        {
          "output_type": "stream",
          "text": [
            "INFO:tensorflow:*** Available Device: _DeviceAttributes(/job:worker/replica:0/task:0/device:TPU:4, TPU, 0, 0)\n"
          ],
          "name": "stdout"
        },
        {
          "output_type": "stream",
          "text": [
            "INFO:tensorflow:*** Available Device: _DeviceAttributes(/job:worker/replica:0/task:0/device:TPU:4, TPU, 0, 0)\n"
          ],
          "name": "stderr"
        },
        {
          "output_type": "stream",
          "text": [
            "INFO:tensorflow:*** Available Device: _DeviceAttributes(/job:worker/replica:0/task:0/device:TPU:5, TPU, 0, 0)\n"
          ],
          "name": "stdout"
        },
        {
          "output_type": "stream",
          "text": [
            "INFO:tensorflow:*** Available Device: _DeviceAttributes(/job:worker/replica:0/task:0/device:TPU:5, TPU, 0, 0)\n"
          ],
          "name": "stderr"
        },
        {
          "output_type": "stream",
          "text": [
            "INFO:tensorflow:*** Available Device: _DeviceAttributes(/job:worker/replica:0/task:0/device:TPU:6, TPU, 0, 0)\n"
          ],
          "name": "stdout"
        },
        {
          "output_type": "stream",
          "text": [
            "INFO:tensorflow:*** Available Device: _DeviceAttributes(/job:worker/replica:0/task:0/device:TPU:6, TPU, 0, 0)\n"
          ],
          "name": "stderr"
        },
        {
          "output_type": "stream",
          "text": [
            "INFO:tensorflow:*** Available Device: _DeviceAttributes(/job:worker/replica:0/task:0/device:TPU:7, TPU, 0, 0)\n"
          ],
          "name": "stdout"
        },
        {
          "output_type": "stream",
          "text": [
            "INFO:tensorflow:*** Available Device: _DeviceAttributes(/job:worker/replica:0/task:0/device:TPU:7, TPU, 0, 0)\n"
          ],
          "name": "stderr"
        },
        {
          "output_type": "stream",
          "text": [
            "INFO:tensorflow:*** Available Device: _DeviceAttributes(/job:worker/replica:0/task:0/device:TPU_SYSTEM:0, TPU_SYSTEM, 0, 0)\n"
          ],
          "name": "stdout"
        },
        {
          "output_type": "stream",
          "text": [
            "INFO:tensorflow:*** Available Device: _DeviceAttributes(/job:worker/replica:0/task:0/device:TPU_SYSTEM:0, TPU_SYSTEM, 0, 0)\n"
          ],
          "name": "stderr"
        },
        {
          "output_type": "stream",
          "text": [
            "INFO:tensorflow:*** Available Device: _DeviceAttributes(/job:worker/replica:0/task:0/device:XLA_CPU:0, XLA_CPU, 0, 0)\n"
          ],
          "name": "stdout"
        },
        {
          "output_type": "stream",
          "text": [
            "INFO:tensorflow:*** Available Device: _DeviceAttributes(/job:worker/replica:0/task:0/device:XLA_CPU:0, XLA_CPU, 0, 0)\n"
          ],
          "name": "stderr"
        },
        {
          "output_type": "stream",
          "text": [
            "Downloading data from https://storage.googleapis.com/tensorflow/keras-applications/resnet/resnet152v2_weights_tf_dim_ordering_tf_kernels_notop.h5\n",
            "234553344/234545216 [==============================] - 3s 0us/step\n",
            "Model: \"sequential_2\"\n",
            "_________________________________________________________________\n",
            "Layer (type)                 Output Shape              Param #   \n",
            "=================================================================\n",
            "up_sampling3d_2 (UpSampling3 (None, 224, 224, 3)       0         \n",
            "_________________________________________________________________\n",
            "resnet152v2 (Functional)     (None, 7, 7, 2048)        58331648  \n",
            "_________________________________________________________________\n",
            "dropout_2 (Dropout)          (None, 7, 7, 2048)        0         \n",
            "_________________________________________________________________\n",
            "flatten_2 (Flatten)          (None, 100352)            0         \n",
            "_________________________________________________________________\n",
            "dense_12 (Dense)             (None, 2048)              205522944 \n",
            "_________________________________________________________________\n",
            "dense_13 (Dense)             (None, 1024)              2098176   \n",
            "_________________________________________________________________\n",
            "dense_14 (Dense)             (None, 512)               524800    \n",
            "_________________________________________________________________\n",
            "dense_15 (Dense)             (None, 256)               131328    \n",
            "_________________________________________________________________\n",
            "dense_16 (Dense)             (None, 128)               32896     \n",
            "_________________________________________________________________\n",
            "dense_17 (Dense)             (None, 10)                1290      \n",
            "=================================================================\n",
            "Total params: 266,643,082\n",
            "Trainable params: 208,311,434\n",
            "Non-trainable params: 58,331,648\n",
            "_________________________________________________________________\n",
            "Epoch 1/50\n",
            "30/30 [==============================] - 88s 2s/step - loss: 14.8014 - accuracy: 0.3965 - val_loss: 0.4824 - val_accuracy: 0.8368\n",
            "Epoch 2/50\n",
            "30/30 [==============================] - 15s 505ms/step - loss: 0.3974 - accuracy: 0.8653 - val_loss: 0.3086 - val_accuracy: 0.8902\n",
            "Epoch 3/50\n",
            "30/30 [==============================] - 15s 504ms/step - loss: 0.2580 - accuracy: 0.9072 - val_loss: 0.2588 - val_accuracy: 0.9070\n",
            "Epoch 4/50\n",
            "30/30 [==============================] - 15s 505ms/step - loss: 0.1981 - accuracy: 0.9285 - val_loss: 0.2350 - val_accuracy: 0.9153\n",
            "Epoch 5/50\n",
            "30/30 [==============================] - 15s 505ms/step - loss: 0.1583 - accuracy: 0.9454 - val_loss: 0.2273 - val_accuracy: 0.9197\n",
            "Epoch 6/50\n",
            "30/30 [==============================] - 15s 505ms/step - loss: 0.1284 - accuracy: 0.9552 - val_loss: 0.2251 - val_accuracy: 0.9228\n",
            "Epoch 7/50\n",
            "30/30 [==============================] - 15s 504ms/step - loss: 0.0974 - accuracy: 0.9675 - val_loss: 0.2137 - val_accuracy: 0.9281\n",
            "Epoch 8/50\n",
            "30/30 [==============================] - 15s 504ms/step - loss: 0.0704 - accuracy: 0.9770 - val_loss: 0.2252 - val_accuracy: 0.9261\n",
            "Epoch 9/50\n",
            "30/30 [==============================] - 15s 504ms/step - loss: 0.0539 - accuracy: 0.9830 - val_loss: 0.2424 - val_accuracy: 0.9256\n",
            "Epoch 10/50\n",
            "30/30 [==============================] - 15s 504ms/step - loss: 0.0421 - accuracy: 0.9867 - val_loss: 0.2443 - val_accuracy: 0.9274\n"
          ],
          "name": "stdout"
        }
      ]
    },
    {
      "cell_type": "code",
      "metadata": {
        "colab": {
          "base_uri": "https://localhost:8080/"
        },
        "id": "lVoCg_DUNbpx",
        "outputId": "1ed3963c-902c-4750-8789-65c8616bb206"
      },
      "source": [
        "model.evaluate(x_test_1, y_test_1, 1024)"
      ],
      "execution_count": 12,
      "outputs": [
        {
          "output_type": "stream",
          "text": [
            "10/10 [==============================] - 25s 1s/step - loss: 0.2135 - accuracy: 0.9287\n"
          ],
          "name": "stdout"
        },
        {
          "output_type": "execute_result",
          "data": {
            "text/plain": [
              "[0.21347582340240479, 0.9286999702453613]"
            ]
          },
          "metadata": {
            "tags": []
          },
          "execution_count": 12
        }
      ]
    },
    {
      "cell_type": "code",
      "metadata": {
        "colab": {
          "base_uri": "https://localhost:8080/",
          "height": 573
        },
        "id": "TH6YuMRxNbTY",
        "outputId": "fa72a635-bea3-4092-a335-befa9833214d"
      },
      "source": [
        "visualize_history(history)"
      ],
      "execution_count": 13,
      "outputs": [
        {
          "output_type": "display_data",
          "data": {
            "image/png": "[encoded data removed]",
            "text/plain": [
              "<Figure size 432x288 with 1 Axes>"
            ]
          },
          "metadata": {
            "tags": [],
            "needs_background": "light"
          }
        },
        {
          "output_type": "display_data",
          "data": {
            "image/png": "[encoded data removed]",
            "text/plain": [
              "<Figure size 432x288 with 1 Axes>"
            ]
          },
          "metadata": {
            "tags": [],
            "needs_background": "light"
          }
        }
      ]
    },
    {
      "cell_type": "markdown",
      "metadata": {
        "id": "9KbhfJQbfzKy"
      },
      "source": [
        "### MobileNetV2"
      ]
    },
    {
      "cell_type": "code",
      "metadata": {
        "colab": {
          "base_uri": "https://localhost:8080/"
        },
        "id": "gISHrr7mf3ZN",
        "outputId": "330c1fec-62e3-42b4-93b7-f9b2bbf4ac53"
      },
      "source": [
        "resolver = tf.distribute.cluster_resolver.TPUClusterResolver(tpu='grpc://' + os.environ['COLAB_TPU_ADDR'])\n",
        "tf.config.experimental_connect_to_cluster(resolver)\n",
        "tf.tpu.experimental.initialize_tpu_system(resolver)\n",
        "strategy = tf.distribute.experimental.TPUStrategy(resolver)\n",
        "\n",
        "from tensorflow.keras.applications import MobileNetV2\n",
        "\n",
        "with strategy.scope():\n",
        "    factory = ModelFactory()\n",
        "\n",
        "    model = factory.createPretrainedModel(MobileNetV2)\n",
        "\n",
        "    model.compile(\n",
        "        optimizer='adam',\n",
        "        loss='categorical_crossentropy',\n",
        "        metrics=['accuracy']\n",
        "    )\n",
        "\n",
        "    history = model.fit(\n",
        "        x_train_1, y_train_1, \n",
        "        validation_data = (x_test_1, y_test_1),\n",
        "        batch_size=2048, \n",
        "        epochs=50,\n",
        "        callbacks = [\n",
        "            tf.keras.callbacks.EarlyStopping(monitor='loss', patience=3, restore_best_weights= True),\n",
        "            tf.keras.callbacks.EarlyStopping(monitor='val_loss', patience=3, restore_best_weights= True)\n",
        "        ]\n",
        "    )"
      ],
      "execution_count": 14,
      "outputs": [
        {
          "output_type": "stream",
          "text": [
            "WARNING:tensorflow:TPU system grpc://10.85.164.194:8470 has already been initialized. Reinitializing the TPU can cause previously created variables on TPU to be lost.\n"
          ],
          "name": "stdout"
        },
        {
          "output_type": "stream",
          "text": [
            "WARNING:tensorflow:TPU system grpc://10.85.164.194:8470 has already been initialized. Reinitializing the TPU can cause previously created variables on TPU to be lost.\n"
          ],
          "name": "stderr"
        },
        {
          "output_type": "stream",
          "text": [
            "INFO:tensorflow:Initializing the TPU system: grpc://10.85.164.194:8470\n"
          ],
          "name": "stdout"
        },
        {
          "output_type": "stream",
          "text": [
            "INFO:tensorflow:Initializing the TPU system: grpc://10.85.164.194:8470\n"
          ],
          "name": "stderr"
        },
        {
          "output_type": "stream",
          "text": [
            "INFO:tensorflow:Clearing out eager caches\n"
          ],
          "name": "stdout"
        },
        {
          "output_type": "stream",
          "text": [
            "INFO:tensorflow:Clearing out eager caches\n"
          ],
          "name": "stderr"
        },
        {
          "output_type": "stream",
          "text": [
            "INFO:tensorflow:Finished initializing TPU system.\n"
          ],
          "name": "stdout"
        },
        {
          "output_type": "stream",
          "text": [
            "INFO:tensorflow:Finished initializing TPU system.\n",
            "WARNING:absl:`tf.distribute.experimental.TPUStrategy` is deprecated, please use  the non experimental symbol `tf.distribute.TPUStrategy` instead.\n"
          ],
          "name": "stderr"
        },
        {
          "output_type": "stream",
          "text": [
            "INFO:tensorflow:Found TPU system:\n"
          ],
          "name": "stdout"
        },
        {
          "output_type": "stream",
          "text": [
            "INFO:tensorflow:Found TPU system:\n"
          ],
          "name": "stderr"
        },
        {
          "output_type": "stream",
          "text": [
            "INFO:tensorflow:*** Num TPU Cores: 8\n"
          ],
          "name": "stdout"
        },
        {
          "output_type": "stream",
          "text": [
            "INFO:tensorflow:*** Num TPU Cores: 8\n"
          ],
          "name": "stderr"
        },
        {
          "output_type": "stream",
          "text": [
            "INFO:tensorflow:*** Num TPU Workers: 1\n"
          ],
          "name": "stdout"
        },
        {
          "output_type": "stream",
          "text": [
            "INFO:tensorflow:*** Num TPU Workers: 1\n"
          ],
          "name": "stderr"
        },
        {
          "output_type": "stream",
          "text": [
            "INFO:tensorflow:*** Num TPU Cores Per Worker: 8\n"
          ],
          "name": "stdout"
        },
        {
          "output_type": "stream",
          "text": [
            "INFO:tensorflow:*** Num TPU Cores Per Worker: 8\n"
          ],
          "name": "stderr"
        },
        {
          "output_type": "stream",
          "text": [
            "INFO:tensorflow:*** Available Device: _DeviceAttributes(/job:localhost/replica:0/task:0/device:CPU:0, CPU, 0, 0)\n"
          ],
          "name": "stdout"
        },
        {
          "output_type": "stream",
          "text": [
            "INFO:tensorflow:*** Available Device: _DeviceAttributes(/job:localhost/replica:0/task:0/device:CPU:0, CPU, 0, 0)\n"
          ],
          "name": "stderr"
        },
        {
          "output_type": "stream",
          "text": [
            "INFO:tensorflow:*** Available Device: _DeviceAttributes(/job:worker/replica:0/task:0/device:CPU:0, CPU, 0, 0)\n"
          ],
          "name": "stdout"
        },
        {
          "output_type": "stream",
          "text": [
            "INFO:tensorflow:*** Available Device: _DeviceAttributes(/job:worker/replica:0/task:0/device:CPU:0, CPU, 0, 0)\n"
          ],
          "name": "stderr"
        },
        {
          "output_type": "stream",
          "text": [
            "INFO:tensorflow:*** Available Device: _DeviceAttributes(/job:worker/replica:0/task:0/device:TPU:0, TPU, 0, 0)\n"
          ],
          "name": "stdout"
        },
        {
          "output_type": "stream",
          "text": [
            "INFO:tensorflow:*** Available Device: _DeviceAttributes(/job:worker/replica:0/task:0/device:TPU:0, TPU, 0, 0)\n"
          ],
          "name": "stderr"
        },
        {
          "output_type": "stream",
          "text": [
            "INFO:tensorflow:*** Available Device: _DeviceAttributes(/job:worker/replica:0/task:0/device:TPU:1, TPU, 0, 0)\n"
          ],
          "name": "stdout"
        },
        {
          "output_type": "stream",
          "text": [
            "INFO:tensorflow:*** Available Device: _DeviceAttributes(/job:worker/replica:0/task:0/device:TPU:1, TPU, 0, 0)\n"
          ],
          "name": "stderr"
        },
        {
          "output_type": "stream",
          "text": [
            "INFO:tensorflow:*** Available Device: _DeviceAttributes(/job:worker/replica:0/task:0/device:TPU:2, TPU, 0, 0)\n"
          ],
          "name": "stdout"
        },
        {
          "output_type": "stream",
          "text": [
            "INFO:tensorflow:*** Available Device: _DeviceAttributes(/job:worker/replica:0/task:0/device:TPU:2, TPU, 0, 0)\n"
          ],
          "name": "stderr"
        },
        {
          "output_type": "stream",
          "text": [
            "INFO:tensorflow:*** Available Device: _DeviceAttributes(/job:worker/replica:0/task:0/device:TPU:3, TPU, 0, 0)\n"
          ],
          "name": "stdout"
        },
        {
          "output_type": "stream",
          "text": [
            "INFO:tensorflow:*** Available Device: _DeviceAttributes(/job:worker/replica:0/task:0/device:TPU:3, TPU, 0, 0)\n"
          ],
          "name": "stderr"
        },
        {
          "output_type": "stream",
          "text": [
            "INFO:tensorflow:*** Available Device: _DeviceAttributes(/job:worker/replica:0/task:0/device:TPU:4, TPU, 0, 0)\n"
          ],
          "name": "stdout"
        },
        {
          "output_type": "stream",
          "text": [
            "INFO:tensorflow:*** Available Device: _DeviceAttributes(/job:worker/replica:0/task:0/device:TPU:4, TPU, 0, 0)\n"
          ],
          "name": "stderr"
        },
        {
          "output_type": "stream",
          "text": [
            "INFO:tensorflow:*** Available Device: _DeviceAttributes(/job:worker/replica:0/task:0/device:TPU:5, TPU, 0, 0)\n"
          ],
          "name": "stdout"
        },
        {
          "output_type": "stream",
          "text": [
            "INFO:tensorflow:*** Available Device: _DeviceAttributes(/job:worker/replica:0/task:0/device:TPU:5, TPU, 0, 0)\n"
          ],
          "name": "stderr"
        },
        {
          "output_type": "stream",
          "text": [
            "INFO:tensorflow:*** Available Device: _DeviceAttributes(/job:worker/replica:0/task:0/device:TPU:6, TPU, 0, 0)\n"
          ],
          "name": "stdout"
        },
        {
          "output_type": "stream",
          "text": [
            "INFO:tensorflow:*** Available Device: _DeviceAttributes(/job:worker/replica:0/task:0/device:TPU:6, TPU, 0, 0)\n"
          ],
          "name": "stderr"
        },
        {
          "output_type": "stream",
          "text": [
            "INFO:tensorflow:*** Available Device: _DeviceAttributes(/job:worker/replica:0/task:0/device:TPU:7, TPU, 0, 0)\n"
          ],
          "name": "stdout"
        },
        {
          "output_type": "stream",
          "text": [
            "INFO:tensorflow:*** Available Device: _DeviceAttributes(/job:worker/replica:0/task:0/device:TPU:7, TPU, 0, 0)\n"
          ],
          "name": "stderr"
        },
        {
          "output_type": "stream",
          "text": [
            "INFO:tensorflow:*** Available Device: _DeviceAttributes(/job:worker/replica:0/task:0/device:TPU_SYSTEM:0, TPU_SYSTEM, 0, 0)\n"
          ],
          "name": "stdout"
        },
        {
          "output_type": "stream",
          "text": [
            "INFO:tensorflow:*** Available Device: _DeviceAttributes(/job:worker/replica:0/task:0/device:TPU_SYSTEM:0, TPU_SYSTEM, 0, 0)\n"
          ],
          "name": "stderr"
        },
        {
          "output_type": "stream",
          "text": [
            "INFO:tensorflow:*** Available Device: _DeviceAttributes(/job:worker/replica:0/task:0/device:XLA_CPU:0, XLA_CPU, 0, 0)\n"
          ],
          "name": "stdout"
        },
        {
          "output_type": "stream",
          "text": [
            "INFO:tensorflow:*** Available Device: _DeviceAttributes(/job:worker/replica:0/task:0/device:XLA_CPU:0, XLA_CPU, 0, 0)\n"
          ],
          "name": "stderr"
        },
        {
          "output_type": "stream",
          "text": [
            "Downloading data from https://storage.googleapis.com/tensorflow/keras-applications/mobilenet_v2/mobilenet_v2_weights_tf_dim_ordering_tf_kernels_1.0_224_no_top.h5\n",
            "9412608/9406464 [==============================] - 0s 0us/step\n",
            "Model: \"sequential_3\"\n",
            "_________________________________________________________________\n",
            "Layer (type)                 Output Shape              Param #   \n",
            "=================================================================\n",
            "up_sampling3d_3 (UpSampling3 (None, 224, 224, 3)       0         \n",
            "_________________________________________________________________\n",
            "mobilenetv2_1.00_224 (Functi (None, 7, 7, 1280)        2257984   \n",
            "_________________________________________________________________\n",
            "dropout_3 (Dropout)          (None, 7, 7, 1280)        0         \n",
            "_________________________________________________________________\n",
            "flatten_3 (Flatten)          (None, 62720)             0         \n",
            "_________________________________________________________________\n",
            "dense_18 (Dense)             (None, 2048)              128452608 \n",
            "_________________________________________________________________\n",
            "dense_19 (Dense)             (None, 1024)              2098176   \n",
            "_________________________________________________________________\n",
            "dense_20 (Dense)             (None, 512)               524800    \n",
            "_________________________________________________________________\n",
            "dense_21 (Dense)             (None, 256)               131328    \n",
            "_________________________________________________________________\n",
            "dense_22 (Dense)             (None, 128)               32896     \n",
            "_________________________________________________________________\n",
            "dense_23 (Dense)             (None, 10)                1290      \n",
            "=================================================================\n",
            "Total params: 133,499,082\n",
            "Trainable params: 131,241,098\n",
            "Non-trainable params: 2,257,984\n",
            "_________________________________________________________________\n",
            "Epoch 1/50\n",
            "30/30 [==============================] - 48s 1s/step - loss: 13.8482 - accuracy: 0.3235 - val_loss: 0.5901 - val_accuracy: 0.7918\n",
            "Epoch 2/50\n",
            "30/30 [==============================] - 4s 150ms/step - loss: 0.4967 - accuracy: 0.8226 - val_loss: 0.3859 - val_accuracy: 0.8613\n",
            "Epoch 3/50\n",
            "30/30 [==============================] - 4s 149ms/step - loss: 0.3381 - accuracy: 0.8770 - val_loss: 0.3459 - val_accuracy: 0.8725\n",
            "Epoch 4/50\n",
            "30/30 [==============================] - 4s 149ms/step - loss: 0.2885 - accuracy: 0.8962 - val_loss: 0.3044 - val_accuracy: 0.8879\n",
            "Epoch 5/50\n",
            "30/30 [==============================] - 4s 150ms/step - loss: 0.2443 - accuracy: 0.9097 - val_loss: 0.2715 - val_accuracy: 0.9004\n",
            "Epoch 6/50\n",
            "30/30 [==============================] - 4s 150ms/step - loss: 0.2218 - accuracy: 0.9169 - val_loss: 0.2586 - val_accuracy: 0.9032\n",
            "Epoch 7/50\n",
            "30/30 [==============================] - 4s 150ms/step - loss: 0.1892 - accuracy: 0.9311 - val_loss: 0.2614 - val_accuracy: 0.9041\n",
            "Epoch 8/50\n",
            "30/30 [==============================] - 5s 151ms/step - loss: 0.1850 - accuracy: 0.9339 - val_loss: 0.2452 - val_accuracy: 0.9122\n",
            "Epoch 9/50\n",
            "30/30 [==============================] - 5s 152ms/step - loss: 0.1658 - accuracy: 0.9405 - val_loss: 0.2407 - val_accuracy: 0.9161\n",
            "Epoch 10/50\n",
            "30/30 [==============================] - 4s 150ms/step - loss: 0.1350 - accuracy: 0.9527 - val_loss: 0.2311 - val_accuracy: 0.9169\n",
            "Epoch 11/50\n",
            "30/30 [==============================] - 4s 151ms/step - loss: 0.1328 - accuracy: 0.9516 - val_loss: 0.2365 - val_accuracy: 0.9140\n",
            "Epoch 12/50\n",
            "30/30 [==============================] - 5s 153ms/step - loss: 0.1062 - accuracy: 0.9629 - val_loss: 0.2297 - val_accuracy: 0.9212\n",
            "Epoch 13/50\n",
            "30/30 [==============================] - 4s 151ms/step - loss: 0.0950 - accuracy: 0.9667 - val_loss: 0.2685 - val_accuracy: 0.9113\n",
            "Epoch 14/50\n",
            "30/30 [==============================] - 5s 152ms/step - loss: 0.1127 - accuracy: 0.9579 - val_loss: 0.2603 - val_accuracy: 0.9125\n",
            "Epoch 15/50\n",
            "30/30 [==============================] - 5s 156ms/step - loss: 0.0966 - accuracy: 0.9651 - val_loss: 0.2768 - val_accuracy: 0.9106\n"
          ],
          "name": "stdout"
        }
      ]
    },
    {
      "cell_type": "code",
      "metadata": {
        "colab": {
          "base_uri": "https://localhost:8080/"
        },
        "id": "griAOHyof4KB",
        "outputId": "5720d3f9-e26d-4e9a-fdba-82bc7671b405"
      },
      "source": [
        "model.evaluate(x_test_1, y_test_1, 1024)"
      ],
      "execution_count": 15,
      "outputs": [
        {
          "output_type": "stream",
          "text": [
            "10/10 [==============================] - 15s 823ms/step - loss: 0.2297 - accuracy: 0.9207\n"
          ],
          "name": "stdout"
        },
        {
          "output_type": "execute_result",
          "data": {
            "text/plain": [
              "[0.22969911992549896, 0.920699954032898]"
            ]
          },
          "metadata": {
            "tags": []
          },
          "execution_count": 15
        }
      ]
    },
    {
      "cell_type": "code",
      "metadata": {
        "colab": {
          "base_uri": "https://localhost:8080/",
          "height": 573
        },
        "id": "mQsrTsSxf4kL",
        "outputId": "962eba29-9589-43d1-9346-d1d0d92ce28d"
      },
      "source": [
        "visualize_history(history)"
      ],
      "execution_count": 16,
      "outputs": [
        {
          "output_type": "display_data",
          "data": {
            "image/png": "[encoded data removed]",
            "text/plain": [
              "<Figure size 432x288 with 1 Axes>"
            ]
          },
          "metadata": {
            "tags": [],
            "needs_background": "light"
          }
        },
        {
          "output_type": "display_data",
          "data": {
            "image/png": "[encoded data removed]",
            "text/plain": [
              "<Figure size 432x288 with 1 Axes>"
            ]
          },
          "metadata": {
            "tags": [],
            "needs_background": "light"
          }
        }
      ]
    },
    {
      "cell_type": "markdown",
      "metadata": {
        "id": "mDff5cTIJ2t3"
      },
      "source": [
        "## Deep Neural Network Model"
      ]
    },
    {
      "cell_type": "code",
      "metadata": {
        "colab": {
          "base_uri": "https://localhost:8080/"
        },
        "id": "kE8_hYOT2LvB",
        "outputId": "134d15ae-19cb-4487-a85e-674208a0b26e"
      },
      "source": [
        "resolver = tf.distribute.cluster_resolver.TPUClusterResolver(tpu='grpc://' + os.environ['COLAB_TPU_ADDR'])\n",
        "tf.config.experimental_connect_to_cluster(resolver)\n",
        "tf.tpu.experimental.initialize_tpu_system(resolver)\n",
        "strategy = tf.distribute.experimental.TPUStrategy(resolver)\n",
        "\n",
        "with strategy.scope():\n",
        "    factory = ModelFactory()\n",
        "\n",
        "    model = factory.createPlainModel()\n",
        "\n",
        "    model.compile(\n",
        "        optimizer='adam',\n",
        "        loss=tf.keras.losses.SparseCategoricalCrossentropy(from_logits=True),\n",
        "        metrics=['accuracy']\n",
        "    )\n",
        "\n",
        "    history = model.fit(\n",
        "        x_train, y_train, \n",
        "        validation_data = (x_test, y_test),\n",
        "        batch_size=2048, \n",
        "        epochs=50,\n",
        "        callbacks = [\n",
        "            tf.keras.callbacks.EarlyStopping(monitor='loss', patience=3, restore_best_weights= True),\n",
        "            tf.keras.callbacks.EarlyStopping(monitor='val_loss', patience=3, restore_best_weights= True)\n",
        "        ]\n",
        "    )"
      ],
      "execution_count": 17,
      "outputs": [
        {
          "output_type": "stream",
          "text": [
            "WARNING:tensorflow:TPU system grpc://10.85.164.194:8470 has already been initialized. Reinitializing the TPU can cause previously created variables on TPU to be lost.\n"
          ],
          "name": "stdout"
        },
        {
          "output_type": "stream",
          "text": [
            "WARNING:tensorflow:TPU system grpc://10.85.164.194:8470 has already been initialized. Reinitializing the TPU can cause previously created variables on TPU to be lost.\n"
          ],
          "name": "stderr"
        },
        {
          "output_type": "stream",
          "text": [
            "INFO:tensorflow:Initializing the TPU system: grpc://10.85.164.194:8470\n"
          ],
          "name": "stdout"
        },
        {
          "output_type": "stream",
          "text": [
            "INFO:tensorflow:Initializing the TPU system: grpc://10.85.164.194:8470\n"
          ],
          "name": "stderr"
        },
        {
          "output_type": "stream",
          "text": [
            "INFO:tensorflow:Clearing out eager caches\n"
          ],
          "name": "stdout"
        },
        {
          "output_type": "stream",
          "text": [
            "INFO:tensorflow:Clearing out eager caches\n"
          ],
          "name": "stderr"
        },
        {
          "output_type": "stream",
          "text": [
            "INFO:tensorflow:Finished initializing TPU system.\n"
          ],
          "name": "stdout"
        },
        {
          "output_type": "stream",
          "text": [
            "INFO:tensorflow:Finished initializing TPU system.\n",
            "WARNING:absl:`tf.distribute.experimental.TPUStrategy` is deprecated, please use  the non experimental symbol `tf.distribute.TPUStrategy` instead.\n"
          ],
          "name": "stderr"
        },
        {
          "output_type": "stream",
          "text": [
            "INFO:tensorflow:Found TPU system:\n"
          ],
          "name": "stdout"
        },
        {
          "output_type": "stream",
          "text": [
            "INFO:tensorflow:Found TPU system:\n"
          ],
          "name": "stderr"
        },
        {
          "output_type": "stream",
          "text": [
            "INFO:tensorflow:*** Num TPU Cores: 8\n"
          ],
          "name": "stdout"
        },
        {
          "output_type": "stream",
          "text": [
            "INFO:tensorflow:*** Num TPU Cores: 8\n"
          ],
          "name": "stderr"
        },
        {
          "output_type": "stream",
          "text": [
            "INFO:tensorflow:*** Num TPU Workers: 1\n"
          ],
          "name": "stdout"
        },
        {
          "output_type": "stream",
          "text": [
            "INFO:tensorflow:*** Num TPU Workers: 1\n"
          ],
          "name": "stderr"
        },
        {
          "output_type": "stream",
          "text": [
            "INFO:tensorflow:*** Num TPU Cores Per Worker: 8\n"
          ],
          "name": "stdout"
        },
        {
          "output_type": "stream",
          "text": [
            "INFO:tensorflow:*** Num TPU Cores Per Worker: 8\n"
          ],
          "name": "stderr"
        },
        {
          "output_type": "stream",
          "text": [
            "INFO:tensorflow:*** Available Device: _DeviceAttributes(/job:localhost/replica:0/task:0/device:CPU:0, CPU, 0, 0)\n"
          ],
          "name": "stdout"
        },
        {
          "output_type": "stream",
          "text": [
            "INFO:tensorflow:*** Available Device: _DeviceAttributes(/job:localhost/replica:0/task:0/device:CPU:0, CPU, 0, 0)\n"
          ],
          "name": "stderr"
        },
        {
          "output_type": "stream",
          "text": [
            "INFO:tensorflow:*** Available Device: _DeviceAttributes(/job:worker/replica:0/task:0/device:CPU:0, CPU, 0, 0)\n"
          ],
          "name": "stdout"
        },
        {
          "output_type": "stream",
          "text": [
            "INFO:tensorflow:*** Available Device: _DeviceAttributes(/job:worker/replica:0/task:0/device:CPU:0, CPU, 0, 0)\n"
          ],
          "name": "stderr"
        },
        {
          "output_type": "stream",
          "text": [
            "INFO:tensorflow:*** Available Device: _DeviceAttributes(/job:worker/replica:0/task:0/device:TPU:0, TPU, 0, 0)\n"
          ],
          "name": "stdout"
        },
        {
          "output_type": "stream",
          "text": [
            "INFO:tensorflow:*** Available Device: _DeviceAttributes(/job:worker/replica:0/task:0/device:TPU:0, TPU, 0, 0)\n"
          ],
          "name": "stderr"
        },
        {
          "output_type": "stream",
          "text": [
            "INFO:tensorflow:*** Available Device: _DeviceAttributes(/job:worker/replica:0/task:0/device:TPU:1, TPU, 0, 0)\n"
          ],
          "name": "stdout"
        },
        {
          "output_type": "stream",
          "text": [
            "INFO:tensorflow:*** Available Device: _DeviceAttributes(/job:worker/replica:0/task:0/device:TPU:1, TPU, 0, 0)\n"
          ],
          "name": "stderr"
        },
        {
          "output_type": "stream",
          "text": [
            "INFO:tensorflow:*** Available Device: _DeviceAttributes(/job:worker/replica:0/task:0/device:TPU:2, TPU, 0, 0)\n"
          ],
          "name": "stdout"
        },
        {
          "output_type": "stream",
          "text": [
            "INFO:tensorflow:*** Available Device: _DeviceAttributes(/job:worker/replica:0/task:0/device:TPU:2, TPU, 0, 0)\n"
          ],
          "name": "stderr"
        },
        {
          "output_type": "stream",
          "text": [
            "INFO:tensorflow:*** Available Device: _DeviceAttributes(/job:worker/replica:0/task:0/device:TPU:3, TPU, 0, 0)\n"
          ],
          "name": "stdout"
        },
        {
          "output_type": "stream",
          "text": [
            "INFO:tensorflow:*** Available Device: _DeviceAttributes(/job:worker/replica:0/task:0/device:TPU:3, TPU, 0, 0)\n"
          ],
          "name": "stderr"
        },
        {
          "output_type": "stream",
          "text": [
            "INFO:tensorflow:*** Available Device: _DeviceAttributes(/job:worker/replica:0/task:0/device:TPU:4, TPU, 0, 0)\n"
          ],
          "name": "stdout"
        },
        {
          "output_type": "stream",
          "text": [
            "INFO:tensorflow:*** Available Device: _DeviceAttributes(/job:worker/replica:0/task:0/device:TPU:4, TPU, 0, 0)\n"
          ],
          "name": "stderr"
        },
        {
          "output_type": "stream",
          "text": [
            "INFO:tensorflow:*** Available Device: _DeviceAttributes(/job:worker/replica:0/task:0/device:TPU:5, TPU, 0, 0)\n"
          ],
          "name": "stdout"
        },
        {
          "output_type": "stream",
          "text": [
            "INFO:tensorflow:*** Available Device: _DeviceAttributes(/job:worker/replica:0/task:0/device:TPU:5, TPU, 0, 0)\n"
          ],
          "name": "stderr"
        },
        {
          "output_type": "stream",
          "text": [
            "INFO:tensorflow:*** Available Device: _DeviceAttributes(/job:worker/replica:0/task:0/device:TPU:6, TPU, 0, 0)\n"
          ],
          "name": "stdout"
        },
        {
          "output_type": "stream",
          "text": [
            "INFO:tensorflow:*** Available Device: _DeviceAttributes(/job:worker/replica:0/task:0/device:TPU:6, TPU, 0, 0)\n"
          ],
          "name": "stderr"
        },
        {
          "output_type": "stream",
          "text": [
            "INFO:tensorflow:*** Available Device: _DeviceAttributes(/job:worker/replica:0/task:0/device:TPU:7, TPU, 0, 0)\n"
          ],
          "name": "stdout"
        },
        {
          "output_type": "stream",
          "text": [
            "INFO:tensorflow:*** Available Device: _DeviceAttributes(/job:worker/replica:0/task:0/device:TPU:7, TPU, 0, 0)\n"
          ],
          "name": "stderr"
        },
        {
          "output_type": "stream",
          "text": [
            "INFO:tensorflow:*** Available Device: _DeviceAttributes(/job:worker/replica:0/task:0/device:TPU_SYSTEM:0, TPU_SYSTEM, 0, 0)\n"
          ],
          "name": "stdout"
        },
        {
          "output_type": "stream",
          "text": [
            "INFO:tensorflow:*** Available Device: _DeviceAttributes(/job:worker/replica:0/task:0/device:TPU_SYSTEM:0, TPU_SYSTEM, 0, 0)\n"
          ],
          "name": "stderr"
        },
        {
          "output_type": "stream",
          "text": [
            "INFO:tensorflow:*** Available Device: _DeviceAttributes(/job:worker/replica:0/task:0/device:XLA_CPU:0, XLA_CPU, 0, 0)\n"
          ],
          "name": "stdout"
        },
        {
          "output_type": "stream",
          "text": [
            "INFO:tensorflow:*** Available Device: _DeviceAttributes(/job:worker/replica:0/task:0/device:XLA_CPU:0, XLA_CPU, 0, 0)\n"
          ],
          "name": "stderr"
        },
        {
          "output_type": "stream",
          "text": [
            "Model: \"sequential_4\"\n",
            "_________________________________________________________________\n",
            "Layer (type)                 Output Shape              Param #   \n",
            "=================================================================\n",
            "flatten_4 (Flatten)          (None, 784)               0         \n",
            "_________________________________________________________________\n",
            "dense_24 (Dense)             (None, 512)               401920    \n",
            "_________________________________________________________________\n",
            "dense_25 (Dense)             (None, 10)                5130      \n",
            "=================================================================\n",
            "Total params: 407,050\n",
            "Trainable params: 407,050\n",
            "Non-trainable params: 0\n",
            "_________________________________________________________________\n",
            "Epoch 1/50\n",
            "30/30 [==============================] - 6s 101ms/step - loss: 152.6046 - accuracy: 0.4447 - val_loss: 15.6325 - val_accuracy: 0.7280\n",
            "Epoch 2/50\n",
            "30/30 [==============================] - 1s 38ms/step - loss: 11.2453 - accuracy: 0.7567 - val_loss: 6.2512 - val_accuracy: 0.7806\n",
            "Epoch 3/50\n",
            "30/30 [==============================] - 1s 37ms/step - loss: 5.3222 - accuracy: 0.7991 - val_loss: 4.4834 - val_accuracy: 0.7952\n",
            "Epoch 4/50\n",
            "30/30 [==============================] - 1s 38ms/step - loss: 3.9457 - accuracy: 0.8095 - val_loss: 3.8714 - val_accuracy: 0.7921\n",
            "Epoch 5/50\n",
            "30/30 [==============================] - 1s 37ms/step - loss: 3.2708 - accuracy: 0.8125 - val_loss: 4.2165 - val_accuracy: 0.7888\n",
            "Epoch 6/50\n",
            "30/30 [==============================] - 1s 38ms/step - loss: 3.2702 - accuracy: 0.8123 - val_loss: 3.0700 - val_accuracy: 0.8091\n",
            "Epoch 7/50\n",
            "30/30 [==============================] - 1s 37ms/step - loss: 2.5846 - accuracy: 0.8277 - val_loss: 2.7076 - val_accuracy: 0.8152\n",
            "Epoch 8/50\n",
            "30/30 [==============================] - 1s 37ms/step - loss: 2.1905 - accuracy: 0.8347 - val_loss: 2.6358 - val_accuracy: 0.8082\n",
            "Epoch 9/50\n",
            "30/30 [==============================] - 1s 38ms/step - loss: 2.0387 - accuracy: 0.8353 - val_loss: 2.9119 - val_accuracy: 0.7921\n",
            "Epoch 10/50\n",
            "30/30 [==============================] - 1s 37ms/step - loss: 2.2805 - accuracy: 0.8268 - val_loss: 2.4615 - val_accuracy: 0.8168\n",
            "Epoch 11/50\n",
            "30/30 [==============================] - 1s 38ms/step - loss: 1.7298 - accuracy: 0.8453 - val_loss: 2.3748 - val_accuracy: 0.8203\n",
            "Epoch 12/50\n",
            "30/30 [==============================] - 1s 37ms/step - loss: 1.7495 - accuracy: 0.8437 - val_loss: 2.3665 - val_accuracy: 0.8138\n",
            "Epoch 13/50\n",
            "30/30 [==============================] - 1s 38ms/step - loss: 1.5006 - accuracy: 0.8525 - val_loss: 2.1202 - val_accuracy: 0.8253\n",
            "Epoch 14/50\n",
            "30/30 [==============================] - 1s 37ms/step - loss: 1.5594 - accuracy: 0.8502 - val_loss: 2.1209 - val_accuracy: 0.8236\n",
            "Epoch 15/50\n",
            "30/30 [==============================] - 4s 139ms/step - loss: 1.5055 - accuracy: 0.8506 - val_loss: 2.2789 - val_accuracy: 0.8201\n",
            "Epoch 16/50\n",
            "30/30 [==============================] - 1s 37ms/step - loss: 1.2657 - accuracy: 0.8655 - val_loss: 2.0295 - val_accuracy: 0.8277\n",
            "Epoch 17/50\n",
            "30/30 [==============================] - 1s 39ms/step - loss: 1.2517 - accuracy: 0.8638 - val_loss: 1.8283 - val_accuracy: 0.8386\n",
            "Epoch 18/50\n",
            "30/30 [==============================] - 1s 37ms/step - loss: 1.1359 - accuracy: 0.8709 - val_loss: 2.5498 - val_accuracy: 0.8015\n",
            "Epoch 19/50\n",
            "30/30 [==============================] - 1s 36ms/step - loss: 1.1946 - accuracy: 0.8653 - val_loss: 1.8103 - val_accuracy: 0.8272\n",
            "Epoch 20/50\n",
            "30/30 [==============================] - 1s 37ms/step - loss: 0.9535 - accuracy: 0.8776 - val_loss: 1.7642 - val_accuracy: 0.8406\n",
            "Epoch 21/50\n",
            "30/30 [==============================] - 1s 38ms/step - loss: 0.8575 - accuracy: 0.8814 - val_loss: 1.9413 - val_accuracy: 0.8338\n",
            "Epoch 22/50\n",
            "30/30 [==============================] - 1s 38ms/step - loss: 1.1268 - accuracy: 0.8669 - val_loss: 2.2407 - val_accuracy: 0.8206\n",
            "Epoch 23/50\n",
            "30/30 [==============================] - 1s 36ms/step - loss: 1.0142 - accuracy: 0.8770 - val_loss: 1.8455 - val_accuracy: 0.8303\n"
          ],
          "name": "stdout"
        }
      ]
    },
    {
      "cell_type": "code",
      "metadata": {
        "colab": {
          "base_uri": "https://localhost:8080/"
        },
        "id": "4biLH2BF2TWL",
        "outputId": "c73114ef-c339-40db-af15-d6955dfc0321"
      },
      "source": [
        "model.evaluate(x_test, y_test, 1024)"
      ],
      "execution_count": 18,
      "outputs": [
        {
          "output_type": "stream",
          "text": [
            "10/10 [==============================] - 1s 50ms/step - loss: 1.7642 - accuracy: 0.8406\n"
          ],
          "name": "stdout"
        },
        {
          "output_type": "execute_result",
          "data": {
            "text/plain": [
              "[1.7641804218292236, 0.8405999541282654]"
            ]
          },
          "metadata": {
            "tags": []
          },
          "execution_count": 18
        }
      ]
    },
    {
      "cell_type": "code",
      "metadata": {
        "colab": {
          "base_uri": "https://localhost:8080/",
          "height": 573
        },
        "id": "WX1fi4FlR54Y",
        "outputId": "4d0e3d1a-0c99-48a8-ffe5-3e003c87a3ca"
      },
      "source": [
        "visualize_history(history)"
      ],
      "execution_count": 19,
      "outputs": [
        {
          "output_type": "display_data",
          "data": {
            "image/png": "[encoded data removed]",
            "text/plain": [
              "<Figure size 432x288 with 1 Axes>"
            ]
          },
          "metadata": {
            "tags": [],
            "needs_background": "light"
          }
        },
        {
          "output_type": "display_data",
          "data": {
            "image/png": "[encoded data removed]",
            "text/plain": [
              "<Figure size 432x288 with 1 Axes>"
            ]
          },
          "metadata": {
            "tags": [],
            "needs_background": "light"
          }
        }
      ]
    },
    {
      "cell_type": "markdown",
      "metadata": {
        "id": "U4y23cDwJ9nt"
      },
      "source": [
        "## Simple CNN Model"
      ]
    },
    {
      "cell_type": "code",
      "metadata": {
        "colab": {
          "base_uri": "https://localhost:8080/"
        },
        "id": "9t-jI2GI9Azr",
        "outputId": "45cfae15-09b4-4bf5-ced6-19f2f88c4c77"
      },
      "source": [
        "resolver = tf.distribute.cluster_resolver.TPUClusterResolver(tpu='grpc://' + os.environ['COLAB_TPU_ADDR'])\n",
        "tf.config.experimental_connect_to_cluster(resolver)\n",
        "tf.tpu.experimental.initialize_tpu_system(resolver)\n",
        "strategy = tf.distribute.experimental.TPUStrategy(resolver)\n",
        "\n",
        "with strategy.scope():\n",
        "    factory = ModelFactory()\n",
        "\n",
        "    model = factory.createSimpleCNNModel()\n",
        "\n",
        "    model.compile(\n",
        "        optimizer='adam',\n",
        "        loss='categorical_crossentropy',\n",
        "        metrics=['accuracy']\n",
        "    )\n",
        "\n",
        "    history = model.fit(\n",
        "        x_train_1, y_train_1, \n",
        "        validation_data = (x_test_1, y_test_1),\n",
        "        batch_size=2048, \n",
        "        epochs=50,\n",
        "        callbacks = [\n",
        "            tf.keras.callbacks.EarlyStopping(monitor='loss', patience=3, restore_best_weights= True),\n",
        "            tf.keras.callbacks.EarlyStopping(monitor='val_loss', patience=3, restore_best_weights= True)\n",
        "        ]\n",
        "    )"
      ],
      "execution_count": 20,
      "outputs": [
        {
          "output_type": "stream",
          "text": [
            "WARNING:tensorflow:TPU system grpc://10.85.164.194:8470 has already been initialized. Reinitializing the TPU can cause previously created variables on TPU to be lost.\n"
          ],
          "name": "stdout"
        },
        {
          "output_type": "stream",
          "text": [
            "WARNING:tensorflow:TPU system grpc://10.85.164.194:8470 has already been initialized. Reinitializing the TPU can cause previously created variables on TPU to be lost.\n"
          ],
          "name": "stderr"
        },
        {
          "output_type": "stream",
          "text": [
            "INFO:tensorflow:Initializing the TPU system: grpc://10.85.164.194:8470\n"
          ],
          "name": "stdout"
        },
        {
          "output_type": "stream",
          "text": [
            "INFO:tensorflow:Initializing the TPU system: grpc://10.85.164.194:8470\n"
          ],
          "name": "stderr"
        },
        {
          "output_type": "stream",
          "text": [
            "INFO:tensorflow:Clearing out eager caches\n"
          ],
          "name": "stdout"
        },
        {
          "output_type": "stream",
          "text": [
            "INFO:tensorflow:Clearing out eager caches\n"
          ],
          "name": "stderr"
        },
        {
          "output_type": "stream",
          "text": [
            "INFO:tensorflow:Finished initializing TPU system.\n"
          ],
          "name": "stdout"
        },
        {
          "output_type": "stream",
          "text": [
            "INFO:tensorflow:Finished initializing TPU system.\n",
            "WARNING:absl:`tf.distribute.experimental.TPUStrategy` is deprecated, please use  the non experimental symbol `tf.distribute.TPUStrategy` instead.\n"
          ],
          "name": "stderr"
        },
        {
          "output_type": "stream",
          "text": [
            "INFO:tensorflow:Found TPU system:\n"
          ],
          "name": "stdout"
        },
        {
          "output_type": "stream",
          "text": [
            "INFO:tensorflow:Found TPU system:\n"
          ],
          "name": "stderr"
        },
        {
          "output_type": "stream",
          "text": [
            "INFO:tensorflow:*** Num TPU Cores: 8\n"
          ],
          "name": "stdout"
        },
        {
          "output_type": "stream",
          "text": [
            "INFO:tensorflow:*** Num TPU Cores: 8\n"
          ],
          "name": "stderr"
        },
        {
          "output_type": "stream",
          "text": [
            "INFO:tensorflow:*** Num TPU Workers: 1\n"
          ],
          "name": "stdout"
        },
        {
          "output_type": "stream",
          "text": [
            "INFO:tensorflow:*** Num TPU Workers: 1\n"
          ],
          "name": "stderr"
        },
        {
          "output_type": "stream",
          "text": [
            "INFO:tensorflow:*** Num TPU Cores Per Worker: 8\n"
          ],
          "name": "stdout"
        },
        {
          "output_type": "stream",
          "text": [
            "INFO:tensorflow:*** Num TPU Cores Per Worker: 8\n"
          ],
          "name": "stderr"
        },
        {
          "output_type": "stream",
          "text": [
            "INFO:tensorflow:*** Available Device: _DeviceAttributes(/job:localhost/replica:0/task:0/device:CPU:0, CPU, 0, 0)\n"
          ],
          "name": "stdout"
        },
        {
          "output_type": "stream",
          "text": [
            "INFO:tensorflow:*** Available Device: _DeviceAttributes(/job:localhost/replica:0/task:0/device:CPU:0, CPU, 0, 0)\n"
          ],
          "name": "stderr"
        },
        {
          "output_type": "stream",
          "text": [
            "INFO:tensorflow:*** Available Device: _DeviceAttributes(/job:worker/replica:0/task:0/device:CPU:0, CPU, 0, 0)\n"
          ],
          "name": "stdout"
        },
        {
          "output_type": "stream",
          "text": [
            "INFO:tensorflow:*** Available Device: _DeviceAttributes(/job:worker/replica:0/task:0/device:CPU:0, CPU, 0, 0)\n"
          ],
          "name": "stderr"
        },
        {
          "output_type": "stream",
          "text": [
            "INFO:tensorflow:*** Available Device: _DeviceAttributes(/job:worker/replica:0/task:0/device:TPU:0, TPU, 0, 0)\n"
          ],
          "name": "stdout"
        },
        {
          "output_type": "stream",
          "text": [
            "INFO:tensorflow:*** Available Device: _DeviceAttributes(/job:worker/replica:0/task:0/device:TPU:0, TPU, 0, 0)\n"
          ],
          "name": "stderr"
        },
        {
          "output_type": "stream",
          "text": [
            "INFO:tensorflow:*** Available Device: _DeviceAttributes(/job:worker/replica:0/task:0/device:TPU:1, TPU, 0, 0)\n"
          ],
          "name": "stdout"
        },
        {
          "output_type": "stream",
          "text": [
            "INFO:tensorflow:*** Available Device: _DeviceAttributes(/job:worker/replica:0/task:0/device:TPU:1, TPU, 0, 0)\n"
          ],
          "name": "stderr"
        },
        {
          "output_type": "stream",
          "text": [
            "INFO:tensorflow:*** Available Device: _DeviceAttributes(/job:worker/replica:0/task:0/device:TPU:2, TPU, 0, 0)\n"
          ],
          "name": "stdout"
        },
        {
          "output_type": "stream",
          "text": [
            "INFO:tensorflow:*** Available Device: _DeviceAttributes(/job:worker/replica:0/task:0/device:TPU:2, TPU, 0, 0)\n"
          ],
          "name": "stderr"
        },
        {
          "output_type": "stream",
          "text": [
            "INFO:tensorflow:*** Available Device: _DeviceAttributes(/job:worker/replica:0/task:0/device:TPU:3, TPU, 0, 0)\n"
          ],
          "name": "stdout"
        },
        {
          "output_type": "stream",
          "text": [
            "INFO:tensorflow:*** Available Device: _DeviceAttributes(/job:worker/replica:0/task:0/device:TPU:3, TPU, 0, 0)\n"
          ],
          "name": "stderr"
        },
        {
          "output_type": "stream",
          "text": [
            "INFO:tensorflow:*** Available Device: _DeviceAttributes(/job:worker/replica:0/task:0/device:TPU:4, TPU, 0, 0)\n"
          ],
          "name": "stdout"
        },
        {
          "output_type": "stream",
          "text": [
            "INFO:tensorflow:*** Available Device: _DeviceAttributes(/job:worker/replica:0/task:0/device:TPU:4, TPU, 0, 0)\n"
          ],
          "name": "stderr"
        },
        {
          "output_type": "stream",
          "text": [
            "INFO:tensorflow:*** Available Device: _DeviceAttributes(/job:worker/replica:0/task:0/device:TPU:5, TPU, 0, 0)\n"
          ],
          "name": "stdout"
        },
        {
          "output_type": "stream",
          "text": [
            "INFO:tensorflow:*** Available Device: _DeviceAttributes(/job:worker/replica:0/task:0/device:TPU:5, TPU, 0, 0)\n"
          ],
          "name": "stderr"
        },
        {
          "output_type": "stream",
          "text": [
            "INFO:tensorflow:*** Available Device: _DeviceAttributes(/job:worker/replica:0/task:0/device:TPU:6, TPU, 0, 0)\n"
          ],
          "name": "stdout"
        },
        {
          "output_type": "stream",
          "text": [
            "INFO:tensorflow:*** Available Device: _DeviceAttributes(/job:worker/replica:0/task:0/device:TPU:6, TPU, 0, 0)\n"
          ],
          "name": "stderr"
        },
        {
          "output_type": "stream",
          "text": [
            "INFO:tensorflow:*** Available Device: _DeviceAttributes(/job:worker/replica:0/task:0/device:TPU:7, TPU, 0, 0)\n"
          ],
          "name": "stdout"
        },
        {
          "output_type": "stream",
          "text": [
            "INFO:tensorflow:*** Available Device: _DeviceAttributes(/job:worker/replica:0/task:0/device:TPU:7, TPU, 0, 0)\n"
          ],
          "name": "stderr"
        },
        {
          "output_type": "stream",
          "text": [
            "INFO:tensorflow:*** Available Device: _DeviceAttributes(/job:worker/replica:0/task:0/device:TPU_SYSTEM:0, TPU_SYSTEM, 0, 0)\n"
          ],
          "name": "stdout"
        },
        {
          "output_type": "stream",
          "text": [
            "INFO:tensorflow:*** Available Device: _DeviceAttributes(/job:worker/replica:0/task:0/device:TPU_SYSTEM:0, TPU_SYSTEM, 0, 0)\n"
          ],
          "name": "stderr"
        },
        {
          "output_type": "stream",
          "text": [
            "INFO:tensorflow:*** Available Device: _DeviceAttributes(/job:worker/replica:0/task:0/device:XLA_CPU:0, XLA_CPU, 0, 0)\n"
          ],
          "name": "stdout"
        },
        {
          "output_type": "stream",
          "text": [
            "INFO:tensorflow:*** Available Device: _DeviceAttributes(/job:worker/replica:0/task:0/device:XLA_CPU:0, XLA_CPU, 0, 0)\n"
          ],
          "name": "stderr"
        },
        {
          "output_type": "stream",
          "text": [
            "Model: \"sequential_5\"\n",
            "_________________________________________________________________\n",
            "Layer (type)                 Output Shape              Param #   \n",
            "=================================================================\n",
            "up_sampling3d_4 (UpSampling3 (None, 28, 28, 3)         0         \n",
            "_________________________________________________________________\n",
            "conv2d (Conv2D)              (None, 26, 26, 32)        896       \n",
            "_________________________________________________________________\n",
            "max_pooling2d_3 (MaxPooling2 (None, 13, 13, 32)        0         \n",
            "_________________________________________________________________\n",
            "flatten_5 (Flatten)          (None, 5408)              0         \n",
            "_________________________________________________________________\n",
            "dense_26 (Dense)             (None, 512)               2769408   \n",
            "_________________________________________________________________\n",
            "dense_27 (Dense)             (None, 10)                5130      \n",
            "=================================================================\n",
            "Total params: 2,775,434\n",
            "Trainable params: 2,775,434\n",
            "Non-trainable params: 0\n",
            "_________________________________________________________________\n",
            "Epoch 1/50\n",
            "30/30 [==============================] - 8s 145ms/step - loss: 1.0680 - accuracy: 0.6150 - val_loss: 0.4571 - val_accuracy: 0.8402\n",
            "Epoch 2/50\n",
            "30/30 [==============================] - 1s 38ms/step - loss: 0.4095 - accuracy: 0.8568 - val_loss: 0.3813 - val_accuracy: 0.8670\n",
            "Epoch 3/50\n",
            "30/30 [==============================] - 1s 38ms/step - loss: 0.3468 - accuracy: 0.8802 - val_loss: 0.3679 - val_accuracy: 0.8658\n",
            "Epoch 4/50\n",
            "30/30 [==============================] - 1s 38ms/step - loss: 0.3172 - accuracy: 0.8874 - val_loss: 0.3128 - val_accuracy: 0.8884\n",
            "Epoch 5/50\n",
            "30/30 [==============================] - 2s 79ms/step - loss: 0.2816 - accuracy: 0.9030 - val_loss: 0.2972 - val_accuracy: 0.8919\n",
            "Epoch 6/50\n",
            "30/30 [==============================] - 1s 38ms/step - loss: 0.2580 - accuracy: 0.9085 - val_loss: 0.2953 - val_accuracy: 0.8937\n",
            "Epoch 7/50\n",
            "30/30 [==============================] - 1s 38ms/step - loss: 0.2534 - accuracy: 0.9108 - val_loss: 0.2785 - val_accuracy: 0.8974\n",
            "Epoch 8/50\n",
            "30/30 [==============================] - 1s 39ms/step - loss: 0.2321 - accuracy: 0.9172 - val_loss: 0.2708 - val_accuracy: 0.9010\n",
            "Epoch 9/50\n",
            "30/30 [==============================] - 1s 39ms/step - loss: 0.2146 - accuracy: 0.9247 - val_loss: 0.2794 - val_accuracy: 0.8962\n",
            "Epoch 10/50\n",
            "30/30 [==============================] - 1s 40ms/step - loss: 0.2102 - accuracy: 0.9246 - val_loss: 0.2601 - val_accuracy: 0.9059\n",
            "Epoch 11/50\n",
            "30/30 [==============================] - 1s 38ms/step - loss: 0.1896 - accuracy: 0.9324 - val_loss: 0.2551 - val_accuracy: 0.9071\n",
            "Epoch 12/50\n",
            "30/30 [==============================] - 1s 38ms/step - loss: 0.1841 - accuracy: 0.9347 - val_loss: 0.2585 - val_accuracy: 0.9066\n",
            "Epoch 13/50\n",
            "30/30 [==============================] - 1s 38ms/step - loss: 0.1732 - accuracy: 0.9393 - val_loss: 0.2743 - val_accuracy: 0.9027\n",
            "Epoch 14/50\n",
            "30/30 [==============================] - 1s 38ms/step - loss: 0.1736 - accuracy: 0.9375 - val_loss: 0.2522 - val_accuracy: 0.9101\n",
            "Epoch 15/50\n",
            "30/30 [==============================] - 1s 40ms/step - loss: 0.1536 - accuracy: 0.9447 - val_loss: 0.2562 - val_accuracy: 0.9086\n",
            "Epoch 16/50\n",
            "30/30 [==============================] - 1s 38ms/step - loss: 0.1509 - accuracy: 0.9474 - val_loss: 0.2454 - val_accuracy: 0.9146\n",
            "Epoch 17/50\n",
            "30/30 [==============================] - 1s 38ms/step - loss: 0.1410 - accuracy: 0.9515 - val_loss: 0.2426 - val_accuracy: 0.9149\n",
            "Epoch 18/50\n",
            "30/30 [==============================] - 1s 39ms/step - loss: 0.1348 - accuracy: 0.9546 - val_loss: 0.2475 - val_accuracy: 0.9155\n",
            "Epoch 19/50\n",
            "30/30 [==============================] - 1s 39ms/step - loss: 0.1272 - accuracy: 0.9545 - val_loss: 0.2405 - val_accuracy: 0.9167\n",
            "Epoch 20/50\n",
            "30/30 [==============================] - 1s 39ms/step - loss: 0.1189 - accuracy: 0.9591 - val_loss: 0.2424 - val_accuracy: 0.9151\n",
            "Epoch 21/50\n",
            "30/30 [==============================] - 1s 39ms/step - loss: 0.1143 - accuracy: 0.9604 - val_loss: 0.2404 - val_accuracy: 0.9206\n",
            "Epoch 22/50\n",
            "30/30 [==============================] - 1s 40ms/step - loss: 0.1053 - accuracy: 0.9643 - val_loss: 0.2542 - val_accuracy: 0.9131\n",
            "Epoch 23/50\n",
            "30/30 [==============================] - 1s 38ms/step - loss: 0.1001 - accuracy: 0.9668 - val_loss: 0.2435 - val_accuracy: 0.9183\n",
            "Epoch 24/50\n",
            "30/30 [==============================] - 1s 39ms/step - loss: 0.0925 - accuracy: 0.9702 - val_loss: 0.2450 - val_accuracy: 0.9189\n"
          ],
          "name": "stdout"
        }
      ]
    },
    {
      "cell_type": "code",
      "metadata": {
        "colab": {
          "base_uri": "https://localhost:8080/"
        },
        "id": "QgKFZB_eNuYA",
        "outputId": "2fb31bd9-83ad-4b16-e9e1-deb6d5bb21b0"
      },
      "source": [
        "model.evaluate(x_test_1, y_test_1, 1024)"
      ],
      "execution_count": 21,
      "outputs": [
        {
          "output_type": "stream",
          "text": [
            "10/10 [==============================] - 1s 43ms/step - loss: 0.2404 - accuracy: 0.9206\n"
          ],
          "name": "stdout"
        },
        {
          "output_type": "execute_result",
          "data": {
            "text/plain": [
              "[0.24038437008857727, 0.9205999970436096]"
            ]
          },
          "metadata": {
            "tags": []
          },
          "execution_count": 21
        }
      ]
    },
    {
      "cell_type": "code",
      "metadata": {
        "colab": {
          "base_uri": "https://localhost:8080/",
          "height": 573
        },
        "id": "DJ6ViTYaR4Nc",
        "outputId": "41add676-0ced-4c67-e1c8-5d4c7bb548f1"
      },
      "source": [
        "visualize_history(history)"
      ],
      "execution_count": 22,
      "outputs": [
        {
          "output_type": "display_data",
          "data": {
            "image/png": "[encoded data removed]",
            "text/plain": [
              "<Figure size 432x288 with 1 Axes>"
            ]
          },
          "metadata": {
            "tags": [],
            "needs_background": "light"
          }
        },
        {
          "output_type": "display_data",
          "data": {
            "image/png": "[encoded data removed]",
            "text/plain": [
              "<Figure size 432x288 with 1 Axes>"
            ]
          },
          "metadata": {
            "tags": [],
            "needs_background": "light"
          }
        }
      ]
    },
    {
      "cell_type": "markdown",
      "metadata": {
        "id": "b_ux58SXKBzo"
      },
      "source": [
        "## CNN Model 1"
      ]
    },
    {
      "cell_type": "code",
      "metadata": {
        "colab": {
          "base_uri": "https://localhost:8080/"
        },
        "id": "0PaHSZmkKVtm",
        "outputId": "abf1929c-d7db-432d-ef86-2aaf5a57f31a"
      },
      "source": [
        "resolver = tf.distribute.cluster_resolver.TPUClusterResolver(tpu='grpc://' + os.environ['COLAB_TPU_ADDR'])\n",
        "tf.config.experimental_connect_to_cluster(resolver)\n",
        "tf.tpu.experimental.initialize_tpu_system(resolver)\n",
        "strategy = tf.distribute.experimental.TPUStrategy(resolver)\n",
        "\n",
        "with strategy.scope():\n",
        "    factory = ModelFactory()\n",
        "\n",
        "    model = factory.createCNNModel_1()\n",
        "\n",
        "    model.compile(\n",
        "        optimizer='adam',\n",
        "        loss='categorical_crossentropy',\n",
        "        metrics=['accuracy']\n",
        "    )\n",
        "\n",
        "    history = model.fit(\n",
        "        x_train_1, y_train_1, \n",
        "        validation_data = (x_test_1, y_test_1),\n",
        "        batch_size=2048, \n",
        "        epochs=50,\n",
        "        callbacks = [\n",
        "            tf.keras.callbacks.EarlyStopping(monitor='loss', patience=5, restore_best_weights= True),\n",
        "            tf.keras.callbacks.EarlyStopping(monitor='val_loss', patience=5, restore_best_weights= True)\n",
        "        ]\n",
        "    )"
      ],
      "execution_count": 35,
      "outputs": [
        {
          "output_type": "stream",
          "text": [
            "WARNING:tensorflow:TPU system grpc://10.85.164.194:8470 has already been initialized. Reinitializing the TPU can cause previously created variables on TPU to be lost.\n"
          ],
          "name": "stdout"
        },
        {
          "output_type": "stream",
          "text": [
            "WARNING:tensorflow:TPU system grpc://10.85.164.194:8470 has already been initialized. Reinitializing the TPU can cause previously created variables on TPU to be lost.\n"
          ],
          "name": "stderr"
        },
        {
          "output_type": "stream",
          "text": [
            "INFO:tensorflow:Initializing the TPU system: grpc://10.85.164.194:8470\n"
          ],
          "name": "stdout"
        },
        {
          "output_type": "stream",
          "text": [
            "INFO:tensorflow:Initializing the TPU system: grpc://10.85.164.194:8470\n"
          ],
          "name": "stderr"
        },
        {
          "output_type": "stream",
          "text": [
            "INFO:tensorflow:Clearing out eager caches\n"
          ],
          "name": "stdout"
        },
        {
          "output_type": "stream",
          "text": [
            "INFO:tensorflow:Clearing out eager caches\n"
          ],
          "name": "stderr"
        },
        {
          "output_type": "stream",
          "text": [
            "INFO:tensorflow:Finished initializing TPU system.\n"
          ],
          "name": "stdout"
        },
        {
          "output_type": "stream",
          "text": [
            "INFO:tensorflow:Finished initializing TPU system.\n",
            "WARNING:absl:`tf.distribute.experimental.TPUStrategy` is deprecated, please use  the non experimental symbol `tf.distribute.TPUStrategy` instead.\n"
          ],
          "name": "stderr"
        },
        {
          "output_type": "stream",
          "text": [
            "INFO:tensorflow:Found TPU system:\n"
          ],
          "name": "stdout"
        },
        {
          "output_type": "stream",
          "text": [
            "INFO:tensorflow:Found TPU system:\n"
          ],
          "name": "stderr"
        },
        {
          "output_type": "stream",
          "text": [
            "INFO:tensorflow:*** Num TPU Cores: 8\n"
          ],
          "name": "stdout"
        },
        {
          "output_type": "stream",
          "text": [
            "INFO:tensorflow:*** Num TPU Cores: 8\n"
          ],
          "name": "stderr"
        },
        {
          "output_type": "stream",
          "text": [
            "INFO:tensorflow:*** Num TPU Workers: 1\n"
          ],
          "name": "stdout"
        },
        {
          "output_type": "stream",
          "text": [
            "INFO:tensorflow:*** Num TPU Workers: 1\n"
          ],
          "name": "stderr"
        },
        {
          "output_type": "stream",
          "text": [
            "INFO:tensorflow:*** Num TPU Cores Per Worker: 8\n"
          ],
          "name": "stdout"
        },
        {
          "output_type": "stream",
          "text": [
            "INFO:tensorflow:*** Num TPU Cores Per Worker: 8\n"
          ],
          "name": "stderr"
        },
        {
          "output_type": "stream",
          "text": [
            "INFO:tensorflow:*** Available Device: _DeviceAttributes(/job:localhost/replica:0/task:0/device:CPU:0, CPU, 0, 0)\n"
          ],
          "name": "stdout"
        },
        {
          "output_type": "stream",
          "text": [
            "INFO:tensorflow:*** Available Device: _DeviceAttributes(/job:localhost/replica:0/task:0/device:CPU:0, CPU, 0, 0)\n"
          ],
          "name": "stderr"
        },
        {
          "output_type": "stream",
          "text": [
            "INFO:tensorflow:*** Available Device: _DeviceAttributes(/job:worker/replica:0/task:0/device:CPU:0, CPU, 0, 0)\n"
          ],
          "name": "stdout"
        },
        {
          "output_type": "stream",
          "text": [
            "INFO:tensorflow:*** Available Device: _DeviceAttributes(/job:worker/replica:0/task:0/device:CPU:0, CPU, 0, 0)\n"
          ],
          "name": "stderr"
        },
        {
          "output_type": "stream",
          "text": [
            "INFO:tensorflow:*** Available Device: _DeviceAttributes(/job:worker/replica:0/task:0/device:TPU:0, TPU, 0, 0)\n"
          ],
          "name": "stdout"
        },
        {
          "output_type": "stream",
          "text": [
            "INFO:tensorflow:*** Available Device: _DeviceAttributes(/job:worker/replica:0/task:0/device:TPU:0, TPU, 0, 0)\n"
          ],
          "name": "stderr"
        },
        {
          "output_type": "stream",
          "text": [
            "INFO:tensorflow:*** Available Device: _DeviceAttributes(/job:worker/replica:0/task:0/device:TPU:1, TPU, 0, 0)\n"
          ],
          "name": "stdout"
        },
        {
          "output_type": "stream",
          "text": [
            "INFO:tensorflow:*** Available Device: _DeviceAttributes(/job:worker/replica:0/task:0/device:TPU:1, TPU, 0, 0)\n"
          ],
          "name": "stderr"
        },
        {
          "output_type": "stream",
          "text": [
            "INFO:tensorflow:*** Available Device: _DeviceAttributes(/job:worker/replica:0/task:0/device:TPU:2, TPU, 0, 0)\n"
          ],
          "name": "stdout"
        },
        {
          "output_type": "stream",
          "text": [
            "INFO:tensorflow:*** Available Device: _DeviceAttributes(/job:worker/replica:0/task:0/device:TPU:2, TPU, 0, 0)\n"
          ],
          "name": "stderr"
        },
        {
          "output_type": "stream",
          "text": [
            "INFO:tensorflow:*** Available Device: _DeviceAttributes(/job:worker/replica:0/task:0/device:TPU:3, TPU, 0, 0)\n"
          ],
          "name": "stdout"
        },
        {
          "output_type": "stream",
          "text": [
            "INFO:tensorflow:*** Available Device: _DeviceAttributes(/job:worker/replica:0/task:0/device:TPU:3, TPU, 0, 0)\n"
          ],
          "name": "stderr"
        },
        {
          "output_type": "stream",
          "text": [
            "INFO:tensorflow:*** Available Device: _DeviceAttributes(/job:worker/replica:0/task:0/device:TPU:4, TPU, 0, 0)\n"
          ],
          "name": "stdout"
        },
        {
          "output_type": "stream",
          "text": [
            "INFO:tensorflow:*** Available Device: _DeviceAttributes(/job:worker/replica:0/task:0/device:TPU:4, TPU, 0, 0)\n"
          ],
          "name": "stderr"
        },
        {
          "output_type": "stream",
          "text": [
            "INFO:tensorflow:*** Available Device: _DeviceAttributes(/job:worker/replica:0/task:0/device:TPU:5, TPU, 0, 0)\n"
          ],
          "name": "stdout"
        },
        {
          "output_type": "stream",
          "text": [
            "INFO:tensorflow:*** Available Device: _DeviceAttributes(/job:worker/replica:0/task:0/device:TPU:5, TPU, 0, 0)\n"
          ],
          "name": "stderr"
        },
        {
          "output_type": "stream",
          "text": [
            "INFO:tensorflow:*** Available Device: _DeviceAttributes(/job:worker/replica:0/task:0/device:TPU:6, TPU, 0, 0)\n"
          ],
          "name": "stdout"
        },
        {
          "output_type": "stream",
          "text": [
            "INFO:tensorflow:*** Available Device: _DeviceAttributes(/job:worker/replica:0/task:0/device:TPU:6, TPU, 0, 0)\n"
          ],
          "name": "stderr"
        },
        {
          "output_type": "stream",
          "text": [
            "INFO:tensorflow:*** Available Device: _DeviceAttributes(/job:worker/replica:0/task:0/device:TPU:7, TPU, 0, 0)\n"
          ],
          "name": "stdout"
        },
        {
          "output_type": "stream",
          "text": [
            "INFO:tensorflow:*** Available Device: _DeviceAttributes(/job:worker/replica:0/task:0/device:TPU:7, TPU, 0, 0)\n"
          ],
          "name": "stderr"
        },
        {
          "output_type": "stream",
          "text": [
            "INFO:tensorflow:*** Available Device: _DeviceAttributes(/job:worker/replica:0/task:0/device:TPU_SYSTEM:0, TPU_SYSTEM, 0, 0)\n"
          ],
          "name": "stdout"
        },
        {
          "output_type": "stream",
          "text": [
            "INFO:tensorflow:*** Available Device: _DeviceAttributes(/job:worker/replica:0/task:0/device:TPU_SYSTEM:0, TPU_SYSTEM, 0, 0)\n"
          ],
          "name": "stderr"
        },
        {
          "output_type": "stream",
          "text": [
            "INFO:tensorflow:*** Available Device: _DeviceAttributes(/job:worker/replica:0/task:0/device:XLA_CPU:0, XLA_CPU, 0, 0)\n"
          ],
          "name": "stdout"
        },
        {
          "output_type": "stream",
          "text": [
            "INFO:tensorflow:*** Available Device: _DeviceAttributes(/job:worker/replica:0/task:0/device:XLA_CPU:0, XLA_CPU, 0, 0)\n"
          ],
          "name": "stderr"
        },
        {
          "output_type": "stream",
          "text": [
            "Model: \"sequential_10\"\n",
            "_________________________________________________________________\n",
            "Layer (type)                 Output Shape              Param #   \n",
            "=================================================================\n",
            "up_sampling3d_9 (UpSampling3 (None, 28, 28, 3)         0         \n",
            "_________________________________________________________________\n",
            "conv2d_21 (Conv2D)           (None, 28, 28, 48)        3648      \n",
            "_________________________________________________________________\n",
            "max_pooling2d_12 (MaxPooling (None, 14, 14, 48)        0         \n",
            "_________________________________________________________________\n",
            "conv2d_22 (Conv2D)           (None, 14, 14, 96)        115296    \n",
            "_________________________________________________________________\n",
            "max_pooling2d_13 (MaxPooling (None, 7, 7, 96)          0         \n",
            "_________________________________________________________________\n",
            "conv2d_23 (Conv2D)           (None, 7, 7, 80)          192080    \n",
            "_________________________________________________________________\n",
            "conv2d_24 (Conv2D)           (None, 7, 7, 96)          192096    \n",
            "_________________________________________________________________\n",
            "flatten_10 (Flatten)         (None, 4704)              0         \n",
            "_________________________________________________________________\n",
            "dense_36 (Dense)             (None, 512)               2408960   \n",
            "_________________________________________________________________\n",
            "dense_37 (Dense)             (None, 10)                5130      \n",
            "=================================================================\n",
            "Total params: 2,917,210\n",
            "Trainable params: 2,917,210\n",
            "Non-trainable params: 0\n",
            "_________________________________________________________________\n",
            "Epoch 1/50\n",
            "30/30 [==============================] - 14s 285ms/step - loss: 1.5508 - accuracy: 0.4559 - val_loss: 0.6772 - val_accuracy: 0.7383\n",
            "Epoch 2/50\n",
            "30/30 [==============================] - 1s 45ms/step - loss: 0.5855 - accuracy: 0.7795 - val_loss: 0.4654 - val_accuracy: 0.8318\n",
            "Epoch 3/50\n",
            "30/30 [==============================] - 1s 46ms/step - loss: 0.4233 - accuracy: 0.8463 - val_loss: 0.3873 - val_accuracy: 0.8607\n",
            "Epoch 4/50\n",
            "30/30 [==============================] - 1s 46ms/step - loss: 0.3483 - accuracy: 0.8742 - val_loss: 0.3373 - val_accuracy: 0.8756\n",
            "Epoch 5/50\n",
            "30/30 [==============================] - 1s 46ms/step - loss: 0.3121 - accuracy: 0.8862 - val_loss: 0.3185 - val_accuracy: 0.8837\n",
            "Epoch 6/50\n",
            "30/30 [==============================] - 1s 46ms/step - loss: 0.2792 - accuracy: 0.8976 - val_loss: 0.2919 - val_accuracy: 0.8946\n",
            "Epoch 7/50\n",
            "30/30 [==============================] - 1s 46ms/step - loss: 0.2575 - accuracy: 0.9066 - val_loss: 0.2814 - val_accuracy: 0.9005\n",
            "Epoch 8/50\n",
            "30/30 [==============================] - 2s 64ms/step - loss: 0.2420 - accuracy: 0.9111 - val_loss: 0.2713 - val_accuracy: 0.9014\n",
            "Epoch 9/50\n",
            "30/30 [==============================] - 1s 44ms/step - loss: 0.2213 - accuracy: 0.9194 - val_loss: 0.2813 - val_accuracy: 0.8958\n",
            "Epoch 10/50\n",
            "30/30 [==============================] - 1s 46ms/step - loss: 0.2200 - accuracy: 0.9181 - val_loss: 0.2578 - val_accuracy: 0.9095\n",
            "Epoch 11/50\n",
            "30/30 [==============================] - 1s 45ms/step - loss: 0.2000 - accuracy: 0.9260 - val_loss: 0.2441 - val_accuracy: 0.9134\n",
            "Epoch 12/50\n",
            "30/30 [==============================] - 1s 45ms/step - loss: 0.1890 - accuracy: 0.9302 - val_loss: 0.2596 - val_accuracy: 0.9089\n",
            "Epoch 13/50\n",
            "30/30 [==============================] - 1s 45ms/step - loss: 0.1839 - accuracy: 0.9317 - val_loss: 0.2420 - val_accuracy: 0.9136\n",
            "Epoch 14/50\n",
            "30/30 [==============================] - 1s 46ms/step - loss: 0.1720 - accuracy: 0.9363 - val_loss: 0.2470 - val_accuracy: 0.9151\n",
            "Epoch 15/50\n",
            "30/30 [==============================] - 1s 45ms/step - loss: 0.1639 - accuracy: 0.9397 - val_loss: 0.2417 - val_accuracy: 0.9126\n",
            "Epoch 16/50\n",
            "30/30 [==============================] - 1s 46ms/step - loss: 0.1646 - accuracy: 0.9397 - val_loss: 0.2363 - val_accuracy: 0.9170\n",
            "Epoch 17/50\n",
            "30/30 [==============================] - 1s 45ms/step - loss: 0.1465 - accuracy: 0.9453 - val_loss: 0.2365 - val_accuracy: 0.9159\n",
            "Epoch 18/50\n",
            "30/30 [==============================] - 1s 45ms/step - loss: 0.1377 - accuracy: 0.9505 - val_loss: 0.2300 - val_accuracy: 0.9212\n",
            "Epoch 19/50\n",
            "30/30 [==============================] - 1s 46ms/step - loss: 0.1246 - accuracy: 0.9549 - val_loss: 0.2730 - val_accuracy: 0.9025\n",
            "Epoch 20/50\n",
            "30/30 [==============================] - 1s 45ms/step - loss: 0.1368 - accuracy: 0.9487 - val_loss: 0.2502 - val_accuracy: 0.9160\n",
            "Epoch 21/50\n",
            "30/30 [==============================] - 1s 45ms/step - loss: 0.1106 - accuracy: 0.9597 - val_loss: 0.2398 - val_accuracy: 0.9231\n",
            "Epoch 22/50\n",
            "30/30 [==============================] - 1s 44ms/step - loss: 0.1079 - accuracy: 0.9605 - val_loss: 0.2486 - val_accuracy: 0.9222\n",
            "Epoch 23/50\n",
            "30/30 [==============================] - 1s 44ms/step - loss: 0.0929 - accuracy: 0.9656 - val_loss: 0.2492 - val_accuracy: 0.9235\n"
          ],
          "name": "stdout"
        }
      ]
    },
    {
      "cell_type": "code",
      "metadata": {
        "colab": {
          "base_uri": "https://localhost:8080/"
        },
        "id": "ku-2yIbSKVg4",
        "outputId": "d1646df5-9a2a-42e5-86c9-af2c9062403c"
      },
      "source": [
        "model.evaluate(x_test_1, y_test_1, 1024)"
      ],
      "execution_count": 36,
      "outputs": [
        {
          "output_type": "stream",
          "text": [
            "10/10 [==============================] - 2s 117ms/step - loss: 0.2300 - accuracy: 0.9212\n"
          ],
          "name": "stdout"
        },
        {
          "output_type": "execute_result",
          "data": {
            "text/plain": [
              "[0.22995905578136444, 0.9211999773979187]"
            ]
          },
          "metadata": {
            "tags": []
          },
          "execution_count": 36
        }
      ]
    },
    {
      "cell_type": "code",
      "metadata": {
        "colab": {
          "base_uri": "https://localhost:8080/",
          "height": 573
        },
        "id": "ndyRytpoRzcv",
        "outputId": "539a24e7-41be-45e2-fd91-392a13cd80a8"
      },
      "source": [
        "visualize_history(history)"
      ],
      "execution_count": 37,
      "outputs": [
        {
          "output_type": "display_data",
          "data": {
            "image/png": "[encoded data removed]",
            "text/plain": [
              "<Figure size 432x288 with 1 Axes>"
            ]
          },
          "metadata": {
            "tags": [],
            "needs_background": "light"
          }
        },
        {
          "output_type": "display_data",
          "data": {
            "image/png": "[encoded data removed]",
            "text/plain": [
              "<Figure size 432x288 with 1 Axes>"
            ]
          },
          "metadata": {
            "tags": [],
            "needs_background": "light"
          }
        }
      ]
    },
    {
      "cell_type": "markdown",
      "metadata": {
        "id": "fipSyDf2s8ad"
      },
      "source": [
        "## CNN Model 2"
      ]
    },
    {
      "cell_type": "code",
      "metadata": {
        "colab": {
          "base_uri": "https://localhost:8080/"
        },
        "id": "5Gd0EG9RrT7C",
        "outputId": "c07a4a0d-cf7c-46d9-df51-17944f4893b2"
      },
      "source": [
        "resolver = tf.distribute.cluster_resolver.TPUClusterResolver(tpu='grpc://' + os.environ['COLAB_TPU_ADDR'])\n",
        "tf.config.experimental_connect_to_cluster(resolver)\n",
        "tf.tpu.experimental.initialize_tpu_system(resolver)\n",
        "strategy = tf.distribute.experimental.TPUStrategy(resolver)\n",
        "\n",
        "with strategy.scope():\n",
        "    factory = ModelFactory()\n",
        "\n",
        "    model = factory.createCNNModel_2()\n",
        "\n",
        "    model.compile(\n",
        "        optimizer='adam',\n",
        "        loss='categorical_crossentropy',\n",
        "        metrics=['accuracy']\n",
        "    )\n",
        "\n",
        "    history = model.fit(\n",
        "        x_train_1, y_train_1, \n",
        "        validation_data = (x_test_1, y_test_1),\n",
        "        batch_size=2048, \n",
        "        epochs=50,\n",
        "        callbacks = [\n",
        "            tf.keras.callbacks.EarlyStopping(monitor='loss', patience=5, restore_best_weights= True),\n",
        "            tf.keras.callbacks.EarlyStopping(monitor='val_loss', patience=5, restore_best_weights= True)\n",
        "        ]\n",
        "    )"
      ],
      "execution_count": 38,
      "outputs": [
        {
          "output_type": "stream",
          "text": [
            "WARNING:tensorflow:TPU system grpc://10.85.164.194:8470 has already been initialized. Reinitializing the TPU can cause previously created variables on TPU to be lost.\n"
          ],
          "name": "stdout"
        },
        {
          "output_type": "stream",
          "text": [
            "WARNING:tensorflow:TPU system grpc://10.85.164.194:8470 has already been initialized. Reinitializing the TPU can cause previously created variables on TPU to be lost.\n"
          ],
          "name": "stderr"
        },
        {
          "output_type": "stream",
          "text": [
            "INFO:tensorflow:Initializing the TPU system: grpc://10.85.164.194:8470\n"
          ],
          "name": "stdout"
        },
        {
          "output_type": "stream",
          "text": [
            "INFO:tensorflow:Initializing the TPU system: grpc://10.85.164.194:8470\n"
          ],
          "name": "stderr"
        },
        {
          "output_type": "stream",
          "text": [
            "INFO:tensorflow:Clearing out eager caches\n"
          ],
          "name": "stdout"
        },
        {
          "output_type": "stream",
          "text": [
            "INFO:tensorflow:Clearing out eager caches\n"
          ],
          "name": "stderr"
        },
        {
          "output_type": "stream",
          "text": [
            "INFO:tensorflow:Finished initializing TPU system.\n"
          ],
          "name": "stdout"
        },
        {
          "output_type": "stream",
          "text": [
            "INFO:tensorflow:Finished initializing TPU system.\n",
            "WARNING:absl:`tf.distribute.experimental.TPUStrategy` is deprecated, please use  the non experimental symbol `tf.distribute.TPUStrategy` instead.\n"
          ],
          "name": "stderr"
        },
        {
          "output_type": "stream",
          "text": [
            "INFO:tensorflow:Found TPU system:\n"
          ],
          "name": "stdout"
        },
        {
          "output_type": "stream",
          "text": [
            "INFO:tensorflow:Found TPU system:\n"
          ],
          "name": "stderr"
        },
        {
          "output_type": "stream",
          "text": [
            "INFO:tensorflow:*** Num TPU Cores: 8\n"
          ],
          "name": "stdout"
        },
        {
          "output_type": "stream",
          "text": [
            "INFO:tensorflow:*** Num TPU Cores: 8\n"
          ],
          "name": "stderr"
        },
        {
          "output_type": "stream",
          "text": [
            "INFO:tensorflow:*** Num TPU Workers: 1\n"
          ],
          "name": "stdout"
        },
        {
          "output_type": "stream",
          "text": [
            "INFO:tensorflow:*** Num TPU Workers: 1\n"
          ],
          "name": "stderr"
        },
        {
          "output_type": "stream",
          "text": [
            "INFO:tensorflow:*** Num TPU Cores Per Worker: 8\n"
          ],
          "name": "stdout"
        },
        {
          "output_type": "stream",
          "text": [
            "INFO:tensorflow:*** Num TPU Cores Per Worker: 8\n"
          ],
          "name": "stderr"
        },
        {
          "output_type": "stream",
          "text": [
            "INFO:tensorflow:*** Available Device: _DeviceAttributes(/job:localhost/replica:0/task:0/device:CPU:0, CPU, 0, 0)\n"
          ],
          "name": "stdout"
        },
        {
          "output_type": "stream",
          "text": [
            "INFO:tensorflow:*** Available Device: _DeviceAttributes(/job:localhost/replica:0/task:0/device:CPU:0, CPU, 0, 0)\n"
          ],
          "name": "stderr"
        },
        {
          "output_type": "stream",
          "text": [
            "INFO:tensorflow:*** Available Device: _DeviceAttributes(/job:worker/replica:0/task:0/device:CPU:0, CPU, 0, 0)\n"
          ],
          "name": "stdout"
        },
        {
          "output_type": "stream",
          "text": [
            "INFO:tensorflow:*** Available Device: _DeviceAttributes(/job:worker/replica:0/task:0/device:CPU:0, CPU, 0, 0)\n"
          ],
          "name": "stderr"
        },
        {
          "output_type": "stream",
          "text": [
            "INFO:tensorflow:*** Available Device: _DeviceAttributes(/job:worker/replica:0/task:0/device:TPU:0, TPU, 0, 0)\n"
          ],
          "name": "stdout"
        },
        {
          "output_type": "stream",
          "text": [
            "INFO:tensorflow:*** Available Device: _DeviceAttributes(/job:worker/replica:0/task:0/device:TPU:0, TPU, 0, 0)\n"
          ],
          "name": "stderr"
        },
        {
          "output_type": "stream",
          "text": [
            "INFO:tensorflow:*** Available Device: _DeviceAttributes(/job:worker/replica:0/task:0/device:TPU:1, TPU, 0, 0)\n"
          ],
          "name": "stdout"
        },
        {
          "output_type": "stream",
          "text": [
            "INFO:tensorflow:*** Available Device: _DeviceAttributes(/job:worker/replica:0/task:0/device:TPU:1, TPU, 0, 0)\n"
          ],
          "name": "stderr"
        },
        {
          "output_type": "stream",
          "text": [
            "INFO:tensorflow:*** Available Device: _DeviceAttributes(/job:worker/replica:0/task:0/device:TPU:2, TPU, 0, 0)\n"
          ],
          "name": "stdout"
        },
        {
          "output_type": "stream",
          "text": [
            "INFO:tensorflow:*** Available Device: _DeviceAttributes(/job:worker/replica:0/task:0/device:TPU:2, TPU, 0, 0)\n"
          ],
          "name": "stderr"
        },
        {
          "output_type": "stream",
          "text": [
            "INFO:tensorflow:*** Available Device: _DeviceAttributes(/job:worker/replica:0/task:0/device:TPU:3, TPU, 0, 0)\n"
          ],
          "name": "stdout"
        },
        {
          "output_type": "stream",
          "text": [
            "INFO:tensorflow:*** Available Device: _DeviceAttributes(/job:worker/replica:0/task:0/device:TPU:3, TPU, 0, 0)\n"
          ],
          "name": "stderr"
        },
        {
          "output_type": "stream",
          "text": [
            "INFO:tensorflow:*** Available Device: _DeviceAttributes(/job:worker/replica:0/task:0/device:TPU:4, TPU, 0, 0)\n"
          ],
          "name": "stdout"
        },
        {
          "output_type": "stream",
          "text": [
            "INFO:tensorflow:*** Available Device: _DeviceAttributes(/job:worker/replica:0/task:0/device:TPU:4, TPU, 0, 0)\n"
          ],
          "name": "stderr"
        },
        {
          "output_type": "stream",
          "text": [
            "INFO:tensorflow:*** Available Device: _DeviceAttributes(/job:worker/replica:0/task:0/device:TPU:5, TPU, 0, 0)\n"
          ],
          "name": "stdout"
        },
        {
          "output_type": "stream",
          "text": [
            "INFO:tensorflow:*** Available Device: _DeviceAttributes(/job:worker/replica:0/task:0/device:TPU:5, TPU, 0, 0)\n"
          ],
          "name": "stderr"
        },
        {
          "output_type": "stream",
          "text": [
            "INFO:tensorflow:*** Available Device: _DeviceAttributes(/job:worker/replica:0/task:0/device:TPU:6, TPU, 0, 0)\n"
          ],
          "name": "stdout"
        },
        {
          "output_type": "stream",
          "text": [
            "INFO:tensorflow:*** Available Device: _DeviceAttributes(/job:worker/replica:0/task:0/device:TPU:6, TPU, 0, 0)\n"
          ],
          "name": "stderr"
        },
        {
          "output_type": "stream",
          "text": [
            "INFO:tensorflow:*** Available Device: _DeviceAttributes(/job:worker/replica:0/task:0/device:TPU:7, TPU, 0, 0)\n"
          ],
          "name": "stdout"
        },
        {
          "output_type": "stream",
          "text": [
            "INFO:tensorflow:*** Available Device: _DeviceAttributes(/job:worker/replica:0/task:0/device:TPU:7, TPU, 0, 0)\n"
          ],
          "name": "stderr"
        },
        {
          "output_type": "stream",
          "text": [
            "INFO:tensorflow:*** Available Device: _DeviceAttributes(/job:worker/replica:0/task:0/device:TPU_SYSTEM:0, TPU_SYSTEM, 0, 0)\n"
          ],
          "name": "stdout"
        },
        {
          "output_type": "stream",
          "text": [
            "INFO:tensorflow:*** Available Device: _DeviceAttributes(/job:worker/replica:0/task:0/device:TPU_SYSTEM:0, TPU_SYSTEM, 0, 0)\n"
          ],
          "name": "stderr"
        },
        {
          "output_type": "stream",
          "text": [
            "INFO:tensorflow:*** Available Device: _DeviceAttributes(/job:worker/replica:0/task:0/device:XLA_CPU:0, XLA_CPU, 0, 0)\n"
          ],
          "name": "stdout"
        },
        {
          "output_type": "stream",
          "text": [
            "INFO:tensorflow:*** Available Device: _DeviceAttributes(/job:worker/replica:0/task:0/device:XLA_CPU:0, XLA_CPU, 0, 0)\n"
          ],
          "name": "stderr"
        },
        {
          "output_type": "stream",
          "text": [
            "Model: \"sequential_11\"\n",
            "_________________________________________________________________\n",
            "Layer (type)                 Output Shape              Param #   \n",
            "=================================================================\n",
            "up_sampling3d_10 (UpSampling (None, 28, 28, 3)         0         \n",
            "_________________________________________________________________\n",
            "conv2d_25 (Conv2D)           (None, 28, 28, 48)        3648      \n",
            "_________________________________________________________________\n",
            "max_pooling2d_14 (MaxPooling (None, 14, 14, 48)        0         \n",
            "_________________________________________________________________\n",
            "conv2d_26 (Conv2D)           (None, 14, 14, 80)        96080     \n",
            "_________________________________________________________________\n",
            "max_pooling2d_15 (MaxPooling (None, 7, 7, 80)          0         \n",
            "_________________________________________________________________\n",
            "conv2d_27 (Conv2D)           (None, 7, 7, 64)          128064    \n",
            "_________________________________________________________________\n",
            "conv2d_28 (Conv2D)           (None, 7, 7, 80)          128080    \n",
            "_________________________________________________________________\n",
            "conv2d_29 (Conv2D)           (None, 7, 7, 96)          192096    \n",
            "_________________________________________________________________\n",
            "conv2d_30 (Conv2D)           (None, 7, 7, 96)          230496    \n",
            "_________________________________________________________________\n",
            "conv2d_31 (Conv2D)           (None, 7, 7, 64)          153664    \n",
            "_________________________________________________________________\n",
            "conv2d_32 (Conv2D)           (None, 7, 7, 80)          128080    \n",
            "_________________________________________________________________\n",
            "flatten_11 (Flatten)         (None, 3920)              0         \n",
            "_________________________________________________________________\n",
            "dense_38 (Dense)             (None, 512)               2007552   \n",
            "_________________________________________________________________\n",
            "dense_39 (Dense)             (None, 10)                5130      \n",
            "=================================================================\n",
            "Total params: 3,072,890\n",
            "Trainable params: 3,072,890\n",
            "Non-trainable params: 0\n",
            "_________________________________________________________________\n",
            "Epoch 1/50\n",
            "30/30 [==============================] - 18s 332ms/step - loss: 2.0873 - accuracy: 0.2006 - val_loss: 0.9577 - val_accuracy: 0.6360\n",
            "Epoch 2/50\n",
            "30/30 [==============================] - 1s 49ms/step - loss: 0.8600 - accuracy: 0.6648 - val_loss: 0.5955 - val_accuracy: 0.7760\n",
            "Epoch 3/50\n",
            "30/30 [==============================] - 1s 48ms/step - loss: 0.5686 - accuracy: 0.7849 - val_loss: 0.4770 - val_accuracy: 0.8192\n",
            "Epoch 4/50\n",
            "30/30 [==============================] - 1s 49ms/step - loss: 0.4309 - accuracy: 0.8412 - val_loss: 0.4035 - val_accuracy: 0.8482\n",
            "Epoch 5/50\n",
            "30/30 [==============================] - 1s 49ms/step - loss: 0.3599 - accuracy: 0.8687 - val_loss: 0.3742 - val_accuracy: 0.8628\n",
            "Epoch 6/50\n",
            "30/30 [==============================] - 1s 49ms/step - loss: 0.3243 - accuracy: 0.8808 - val_loss: 0.3417 - val_accuracy: 0.8760\n",
            "Epoch 7/50\n",
            "30/30 [==============================] - 1s 50ms/step - loss: 0.2840 - accuracy: 0.8942 - val_loss: 0.2986 - val_accuracy: 0.8922\n",
            "Epoch 8/50\n",
            "30/30 [==============================] - 1s 49ms/step - loss: 0.2460 - accuracy: 0.9081 - val_loss: 0.3020 - val_accuracy: 0.8929\n",
            "Epoch 9/50\n",
            "30/30 [==============================] - 1s 50ms/step - loss: 0.2283 - accuracy: 0.9149 - val_loss: 0.3102 - val_accuracy: 0.8891\n",
            "Epoch 10/50\n",
            "30/30 [==============================] - 2s 51ms/step - loss: 0.2286 - accuracy: 0.9162 - val_loss: 0.2648 - val_accuracy: 0.9052\n",
            "Epoch 11/50\n",
            "30/30 [==============================] - 1s 50ms/step - loss: 0.1926 - accuracy: 0.9297 - val_loss: 0.2667 - val_accuracy: 0.9023\n",
            "Epoch 12/50\n",
            "30/30 [==============================] - 1s 49ms/step - loss: 0.1875 - accuracy: 0.9295 - val_loss: 0.2521 - val_accuracy: 0.9120\n",
            "Epoch 13/50\n",
            "30/30 [==============================] - 1s 49ms/step - loss: 0.1632 - accuracy: 0.9401 - val_loss: 0.2514 - val_accuracy: 0.9129\n",
            "Epoch 14/50\n",
            "30/30 [==============================] - 1s 49ms/step - loss: 0.1538 - accuracy: 0.9433 - val_loss: 0.2706 - val_accuracy: 0.9068\n",
            "Epoch 15/50\n",
            "30/30 [==============================] - 1s 50ms/step - loss: 0.1467 - accuracy: 0.9458 - val_loss: 0.2478 - val_accuracy: 0.9154\n",
            "Epoch 16/50\n",
            "30/30 [==============================] - 1s 49ms/step - loss: 0.1319 - accuracy: 0.9525 - val_loss: 0.2848 - val_accuracy: 0.9101\n",
            "Epoch 17/50\n",
            "30/30 [==============================] - 1s 49ms/step - loss: 0.1217 - accuracy: 0.9555 - val_loss: 0.2764 - val_accuracy: 0.9047\n",
            "Epoch 18/50\n",
            "30/30 [==============================] - 1s 50ms/step - loss: 0.1301 - accuracy: 0.9516 - val_loss: 0.2952 - val_accuracy: 0.9114\n",
            "Epoch 19/50\n",
            "30/30 [==============================] - 2s 61ms/step - loss: 0.1085 - accuracy: 0.9586 - val_loss: 0.3022 - val_accuracy: 0.9101\n",
            "Epoch 20/50\n",
            "30/30 [==============================] - 1s 49ms/step - loss: 0.0962 - accuracy: 0.9641 - val_loss: 0.3197 - val_accuracy: 0.9029\n"
          ],
          "name": "stdout"
        }
      ]
    },
    {
      "cell_type": "code",
      "metadata": {
        "colab": {
          "base_uri": "https://localhost:8080/"
        },
        "id": "4LId8nVIrVtT",
        "outputId": "18db5873-5e2a-47dd-db99-5cc1753fb21a"
      },
      "source": [
        "model.evaluate(x_test_1, y_test_1, 1024)"
      ],
      "execution_count": 39,
      "outputs": [
        {
          "output_type": "stream",
          "text": [
            "10/10 [==============================] - 3s 126ms/step - loss: 0.2478 - accuracy: 0.9154\n"
          ],
          "name": "stdout"
        },
        {
          "output_type": "execute_result",
          "data": {
            "text/plain": [
              "[0.24780124425888062, 0.915399968624115]"
            ]
          },
          "metadata": {
            "tags": []
          },
          "execution_count": 39
        }
      ]
    },
    {
      "cell_type": "code",
      "metadata": {
        "colab": {
          "base_uri": "https://localhost:8080/",
          "height": 573
        },
        "id": "CVKOxV5WrWP1",
        "outputId": "d01c6c90-5173-4632-bf66-bf02c6c47947"
      },
      "source": [
        "visualize_history(history)"
      ],
      "execution_count": 40,
      "outputs": [
        {
          "output_type": "display_data",
          "data": {
            "image/png": "[encoded data removed]",
            "text/plain": [
              "<Figure size 432x288 with 1 Axes>"
            ]
          },
          "metadata": {
            "tags": [],
            "needs_background": "light"
          }
        },
        {
          "output_type": "display_data",
          "data": {
            "image/png": "[encoded data removed]",
            "text/plain": [
              "<Figure size 432x288 with 1 Axes>"
            ]
          },
          "metadata": {
            "tags": [],
            "needs_background": "light"
          }
        }
      ]
    }
  ]
}